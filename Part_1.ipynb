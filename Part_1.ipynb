{
 "cells": [
  {
   "cell_type": "code",
   "execution_count": 1,
   "metadata": {},
   "outputs": [
    {
     "name": "stderr",
     "output_type": "stream",
     "text": [
      "2023-11-09 02:24:45.285422: I tensorflow/core/platform/cpu_feature_guard.cc:182] This TensorFlow binary is optimized to use available CPU instructions in performance-critical operations.\n",
      "To enable the following instructions: AVX2 FMA, in other operations, rebuild TensorFlow with the appropriate compiler flags.\n"
     ]
    }
   ],
   "source": [
    "%load_ext autoreload\n",
    "%autoreload 2\n",
    "import numpy as np\n",
    "\n",
    "from utils import readfile, batchGenerator,createMatrices, addCharInfo, padding,EarlyStopper\n",
    "from keras.utils import plot_model\n",
    "\n",
    "import gensim.downloader\n",
    "from seqeval.metrics import f1_score\n",
    "from seqeval.scheme import IOB1\n",
    "import tensorflow as tf\n",
    "from keras.models import Model\n",
    "from keras.layers import TimeDistributed, Conv1D, Dense, Embedding, Input, Dropout, LSTM, Bidirectional, MaxPooling1D, \\\n",
    "    Flatten, concatenate,Masking\n",
    "from keras.initializers import RandomUniform\n",
    "from keras.optimizers import Nadam\n",
    "import random\n",
    "from tqdm import tqdm\n",
    "import time\n",
    "\n"
   ]
  },
  {
   "cell_type": "code",
   "execution_count": 2,
   "metadata": {},
   "outputs": [],
   "source": [
    "google_news_vec = gensim.downloader.load('word2vec-google-news-300')"
   ]
  },
  {
   "cell_type": "markdown",
   "metadata": {},
   "source": [
    "# Question 1.1"
   ]
  },
  {
   "cell_type": "markdown",
   "metadata": {},
   "source": [
    "### a)"
   ]
  },
  {
   "cell_type": "code",
   "execution_count": 3,
   "metadata": {},
   "outputs": [
    {
     "name": "stdout",
     "output_type": "stream",
     "text": [
      "The most similar word to the word 'student' is students and the cosine similarity is 0.7294867038726807\n"
     ]
    }
   ],
   "source": [
    "most_similar_word = google_news_vec.most_similar('student')[0][0]\n",
    "most_similar_score = google_news_vec.most_similar('student')[0][1]\n",
    "print(f\"The most similar word to the word 'student' is {most_similar_word} and the cosine similarity is {most_similar_score}\")"
   ]
  },
  {
   "cell_type": "markdown",
   "metadata": {},
   "source": [
    "### b)"
   ]
  },
  {
   "cell_type": "code",
   "execution_count": 4,
   "metadata": {},
   "outputs": [
    {
     "name": "stdout",
     "output_type": "stream",
     "text": [
      "The most similar word to the word 'Apple' is Apple_AAPL and the cosine similarity is 0.7456986308097839\n"
     ]
    }
   ],
   "source": [
    "most_similar_word = google_news_vec.most_similar('Apple')[0][0]\n",
    "most_similar_score = google_news_vec.most_similar('Apple')[0][1]\n",
    "print(f\"The most similar word to the word 'Apple' is {most_similar_word} and the cosine similarity is {most_similar_score}\")"
   ]
  },
  {
   "cell_type": "markdown",
   "metadata": {},
   "source": [
    "### c)"
   ]
  },
  {
   "cell_type": "code",
   "execution_count": 5,
   "metadata": {},
   "outputs": [
    {
     "name": "stdout",
     "output_type": "stream",
     "text": [
      "The most similar word to the word 'apple' is apples and the cosine similarity is 0.720359742641449\n"
     ]
    }
   ],
   "source": [
    "most_similar_word = google_news_vec.most_similar('apple')[0][0]\n",
    "most_similar_score = google_news_vec.most_similar('apple')[0][1]\n",
    "print(f\"The most similar word to the word 'apple' is {most_similar_word} and the cosine similarity is {most_similar_score}\")"
   ]
  },
  {
   "cell_type": "markdown",
   "metadata": {},
   "source": [
    "# Question 1.2"
   ]
  },
  {
   "cell_type": "markdown",
   "metadata": {},
   "source": [
    "### a) Training File Size: 14041, Development File Size: 3250, Test File Size: 3453"
   ]
  },
  {
   "cell_type": "code",
   "execution_count": 6,
   "metadata": {},
   "outputs": [],
   "source": [
    "train_lines = open('data/eng.train','r').read().splitlines()\n",
    "dev_lines = open('data/eng.testa','r').read().splitlines()\n",
    "test_lines = open('data/eng.testb','r').read().splitlines()\n"
   ]
  },
  {
   "cell_type": "code",
   "execution_count": 7,
   "metadata": {},
   "outputs": [
    {
     "data": {
      "text/plain": [
       "['EU NNP I-NP I-ORG',\n",
       " 'rejects VBZ I-VP O',\n",
       " 'German JJ I-NP I-MISC',\n",
       " 'call NN I-NP O',\n",
       " 'to TO I-VP O',\n",
       " 'boycott VB I-VP O',\n",
       " 'British JJ I-NP I-MISC',\n",
       " 'lamb NN I-NP O',\n",
       " '. . O O',\n",
       " '',\n",
       " 'Peter NNP I-NP I-PER',\n",
       " 'Blackburn NNP I-NP I-PER',\n",
       " '',\n",
       " 'BRUSSELS NNP I-NP I-LOC',\n",
       " '1996-08-22 CD I-NP O',\n",
       " '',\n",
       " 'The DT I-NP O',\n",
       " 'European NNP I-NP I-ORG',\n",
       " 'Commission NNP I-NP I-ORG',\n",
       " 'said VBD I-VP O',\n",
       " 'on IN I-PP O',\n",
       " 'Thursday NNP I-NP O',\n",
       " 'it PRP B-NP O',\n",
       " 'disagreed VBD I-VP O',\n",
       " 'with IN I-PP O',\n",
       " 'German JJ I-NP I-MISC',\n",
       " 'advice NN I-NP O',\n",
       " 'to TO I-PP O',\n",
       " 'consumers NNS I-NP O',\n",
       " 'to TO I-VP O',\n",
       " 'shun VB I-VP O',\n",
       " 'British JJ I-NP I-MISC',\n",
       " 'lamb NN I-NP O',\n",
       " 'until IN I-SBAR O',\n",
       " 'scientists NNS I-NP O',\n",
       " 'determine VBP I-VP O',\n",
       " 'whether IN I-SBAR O',\n",
       " 'mad JJ I-NP O',\n",
       " 'cow NN I-NP O',\n",
       " 'disease NN I-NP O',\n",
       " 'can MD I-VP O',\n",
       " 'be VB I-VP O',\n",
       " 'transmitted VBN I-VP O',\n",
       " 'to TO I-PP O',\n",
       " 'sheep NN I-NP O',\n",
       " '. . O O',\n",
       " '',\n",
       " 'Germany NNP I-NP I-LOC',\n",
       " \"'s POS B-NP O\",\n",
       " 'representative NN I-NP O',\n",
       " 'to TO I-PP O',\n",
       " 'the DT I-NP O',\n",
       " 'European NNP I-NP I-ORG',\n",
       " 'Union NNP I-NP I-ORG',\n",
       " \"'s POS B-NP O\",\n",
       " 'veterinary JJ I-NP O',\n",
       " 'committee NN I-NP O',\n",
       " 'Werner NNP I-NP I-PER',\n",
       " 'Zwingmann NNP I-NP I-PER',\n",
       " 'said VBD I-VP O',\n",
       " 'on IN I-PP O',\n",
       " 'Wednesday NNP I-NP O',\n",
       " 'consumers NNS I-NP O',\n",
       " 'should MD I-VP O',\n",
       " 'buy VB I-VP O',\n",
       " 'sheepmeat NN I-NP O',\n",
       " 'from IN I-PP O',\n",
       " 'countries NNS I-NP O',\n",
       " 'other JJ I-ADJP O',\n",
       " 'than IN I-PP O',\n",
       " 'Britain NNP I-NP I-LOC',\n",
       " 'until IN I-SBAR O',\n",
       " 'the DT I-NP O',\n",
       " 'scientific JJ I-NP O',\n",
       " 'advice NN I-NP O',\n",
       " 'was VBD I-VP O',\n",
       " 'clearer JJR I-ADJP O',\n",
       " '. . O O',\n",
       " '',\n",
       " '\" \" O O',\n",
       " 'We PRP I-NP O',\n",
       " 'do VBP I-VP O',\n",
       " \"n't RB I-VP O\",\n",
       " 'support VB I-VP O',\n",
       " 'any DT I-NP O',\n",
       " 'such JJ I-NP O',\n",
       " 'recommendation NN I-NP O',\n",
       " 'because IN I-SBAR O',\n",
       " 'we PRP I-NP O',\n",
       " 'do VBP I-VP O',\n",
       " \"n't RB I-VP O\",\n",
       " 'see VB I-VP O',\n",
       " 'any DT I-NP O',\n",
       " 'grounds NNS I-NP O',\n",
       " 'for IN I-PP O',\n",
       " 'it PRP I-NP O',\n",
       " ', , O O',\n",
       " '\" \" O O',\n",
       " 'the DT I-NP O',\n",
       " 'Commission NNP I-NP I-ORG',\n",
       " \"'s POS B-NP O\",\n",
       " 'chief JJ I-NP O',\n",
       " 'spokesman NN I-NP O',\n",
       " 'Nikolaus NNP I-NP I-PER',\n",
       " 'van NNP I-NP I-PER',\n",
       " 'der FW I-NP I-PER',\n",
       " 'Pas NNP I-NP I-PER',\n",
       " 'told VBD I-VP O',\n",
       " 'a DT I-NP O',\n",
       " 'news NN I-NP O',\n",
       " 'briefing NN I-NP O',\n",
       " '. . O O',\n",
       " '',\n",
       " 'He PRP I-NP O',\n",
       " 'said VBD I-VP O',\n",
       " 'further JJ I-NP O',\n",
       " 'scientific JJ I-NP O',\n",
       " 'study NN I-NP O',\n",
       " 'was VBD I-VP O',\n",
       " 'required VBN I-VP O',\n",
       " 'and CC O O',\n",
       " 'if IN I-SBAR O',\n",
       " 'it PRP I-NP O',\n",
       " 'was VBD I-VP O',\n",
       " 'found VBN I-VP O',\n",
       " 'that IN I-SBAR O',\n",
       " 'action NN I-NP O',\n",
       " 'was VBD I-VP O',\n",
       " 'needed VBN I-VP O',\n",
       " 'it PRP I-NP O',\n",
       " 'should MD I-VP O',\n",
       " 'be VB I-VP O',\n",
       " 'taken VBN I-VP O',\n",
       " 'by IN I-PP O',\n",
       " 'the DT I-NP O',\n",
       " 'European NNP I-NP I-ORG',\n",
       " 'Union NNP I-NP I-ORG',\n",
       " '. . O O',\n",
       " '',\n",
       " 'He PRP I-NP O',\n",
       " 'said VBD I-VP O',\n",
       " 'a DT I-NP O',\n",
       " 'proposal NN I-NP O',\n",
       " 'last JJ B-NP O',\n",
       " 'month NN I-NP O',\n",
       " 'by IN I-PP O',\n",
       " 'EU NNP I-NP I-ORG',\n",
       " 'Farm NNP I-NP O',\n",
       " 'Commissioner NNP I-NP O',\n",
       " 'Franz NNP I-NP I-PER',\n",
       " 'Fischler NNP I-NP I-PER',\n",
       " 'to TO I-VP O',\n",
       " 'ban VB I-VP O',\n",
       " 'sheep NN I-NP O',\n",
       " 'brains NNS I-NP O',\n",
       " ', , O O',\n",
       " 'spleens NNS I-NP O',\n",
       " 'and CC O O',\n",
       " 'spinal JJ I-NP O',\n",
       " 'cords NNS I-NP O',\n",
       " 'from IN I-PP O',\n",
       " 'the DT I-NP O',\n",
       " 'human NN I-NP O',\n",
       " 'and CC I-NP O',\n",
       " 'animal NN I-NP O',\n",
       " 'food NN I-NP O',\n",
       " 'chains NNS I-NP O',\n",
       " 'was VBD I-VP O',\n",
       " 'a DT I-NP O',\n",
       " 'highly RB I-NP O',\n",
       " 'specific JJ I-ADJP O',\n",
       " 'and CC I-ADJP O',\n",
       " 'precautionary JJ I-ADJP O',\n",
       " 'move NN I-NP O',\n",
       " 'to TO I-VP O',\n",
       " 'protect VB I-VP O',\n",
       " 'human JJ I-NP O',\n",
       " 'health NN I-NP O',\n",
       " '. . O O',\n",
       " '',\n",
       " 'Fischler JJR I-NP I-PER',\n",
       " 'proposed VBN I-NP O',\n",
       " 'EU-wide NNP I-NP I-MISC',\n",
       " 'measures VBZ I-VP O',\n",
       " 'after IN I-PP O',\n",
       " 'reports NNS I-NP O',\n",
       " 'from IN I-PP O',\n",
       " 'Britain NNP I-NP I-LOC',\n",
       " 'and CC I-NP O',\n",
       " 'France NNP I-NP I-LOC',\n",
       " 'that WDT B-NP O',\n",
       " 'under IN I-PP O',\n",
       " 'laboratory NN I-NP O',\n",
       " 'conditions NNS B-NP O',\n",
       " 'sheep NN I-NP O',\n",
       " 'could MD I-VP O',\n",
       " 'contract VB I-VP O',\n",
       " 'Bovine NNP I-NP I-MISC',\n",
       " 'Spongiform NNP I-NP I-MISC',\n",
       " 'Encephalopathy NNP I-NP I-MISC',\n",
       " '( ( O O',\n",
       " 'BSE NNP I-NP I-MISC',\n",
       " ') ) O O',\n",
       " '-- : O O',\n",
       " 'mad JJ I-NP O',\n",
       " 'cow NN I-NP O',\n",
       " 'disease NN I-NP O',\n",
       " '. . O O',\n",
       " '',\n",
       " 'But CC O O',\n",
       " 'Fischler NNP I-NP I-PER',\n",
       " 'agreed VBD I-VP O',\n",
       " 'to TO I-VP O',\n",
       " 'review VB I-VP O',\n",
       " 'his PRP$ I-NP O',\n",
       " 'proposal NN I-NP O',\n",
       " 'after IN I-PP O',\n",
       " 'the DT I-NP O',\n",
       " 'EU NNP I-NP I-ORG',\n",
       " \"'s POS B-NP O\",\n",
       " 'standing NN I-NP O',\n",
       " 'veterinary JJ I-NP O',\n",
       " 'committee NN I-NP O',\n",
       " ', , O O',\n",
       " 'mational JJ I-NP O',\n",
       " 'animal NN I-NP O',\n",
       " 'health NN I-NP O',\n",
       " 'officials NNS I-NP O',\n",
       " ', , O O',\n",
       " 'questioned VBD I-VP O',\n",
       " 'if IN I-SBAR O',\n",
       " 'such JJ I-NP O',\n",
       " 'action NN I-NP O',\n",
       " 'was VBD I-VP O',\n",
       " 'justified VBN I-VP O',\n",
       " 'as IN I-PP O',\n",
       " 'there RB I-ADVP O',\n",
       " 'was VBD I-VP O',\n",
       " 'only RB I-ADVP O',\n",
       " 'a DT I-NP O',\n",
       " 'slight JJ I-NP O',\n",
       " 'risk NN I-NP O',\n",
       " 'to TO I-PP O',\n",
       " 'human JJ I-NP O',\n",
       " 'health NN I-NP O',\n",
       " '. . O O',\n",
       " '',\n",
       " 'Spanish NNP I-NP I-MISC',\n",
       " 'Farm NNP I-NP O',\n",
       " 'Minister NNP I-NP O',\n",
       " 'Loyola NNP I-NP I-PER',\n",
       " 'de NNP I-NP I-PER',\n",
       " 'Palacio NNP I-NP I-PER',\n",
       " 'had VBD I-VP O',\n",
       " 'earlier RBR I-VP O',\n",
       " 'accused VBN I-VP O',\n",
       " 'Fischler NNP I-NP I-PER',\n",
       " 'at IN I-PP O',\n",
       " 'an DT I-NP O',\n",
       " 'EU JJ I-NP I-ORG',\n",
       " 'farm NN I-NP O',\n",
       " 'ministers NNS I-NP O',\n",
       " \"' POS B-NP O\",\n",
       " 'meeting NN I-NP O',\n",
       " 'of IN I-PP O',\n",
       " 'causing VBG I-VP O',\n",
       " 'unjustified JJ I-ADJP O',\n",
       " 'alarm NN I-NP O',\n",
       " 'through IN I-PP O',\n",
       " '\" \" O O',\n",
       " 'dangerous JJ I-NP O',\n",
       " 'generalisation NN I-NP O',\n",
       " '. . O O',\n",
       " '\" \" O O',\n",
       " '',\n",
       " '. . O O',\n",
       " '',\n",
       " 'Only RB I-NP O',\n",
       " 'France NNP I-NP I-LOC',\n",
       " 'and CC I-NP O',\n",
       " 'Britain NNP I-NP I-LOC',\n",
       " 'backed VBD I-VP O',\n",
       " 'Fischler NNP I-NP I-PER',\n",
       " \"'s POS B-NP O\",\n",
       " 'proposal NN I-NP O',\n",
       " '. . O O',\n",
       " '',\n",
       " 'The DT I-NP O',\n",
       " 'EU NNP I-NP I-ORG',\n",
       " \"'s POS B-NP O\",\n",
       " 'scientific JJ I-NP O',\n",
       " 'veterinary JJ I-NP O',\n",
       " 'and CC I-NP O',\n",
       " 'multidisciplinary JJ I-NP O',\n",
       " 'committees NNS I-NP O',\n",
       " 'are VBP I-VP O',\n",
       " 'due JJ I-ADJP O',\n",
       " 'to TO I-VP O',\n",
       " 're-examine VB I-VP O',\n",
       " 'the DT I-NP O',\n",
       " 'issue NN I-NP O',\n",
       " 'early RB B-NP O',\n",
       " 'next JJ I-NP O',\n",
       " 'month NN I-NP O',\n",
       " 'and CC O O',\n",
       " 'make VB I-VP O',\n",
       " 'recommendations NNS I-NP O',\n",
       " 'to TO I-PP O',\n",
       " 'the DT I-NP O',\n",
       " 'senior JJ I-NP O',\n",
       " 'veterinary JJ I-NP O',\n",
       " 'officials NNS I-NP O',\n",
       " '. . O O',\n",
       " '',\n",
       " 'Sheep NNP I-NP O',\n",
       " 'have VBP I-VP O',\n",
       " 'long RB I-VP O',\n",
       " 'been VBN I-VP O',\n",
       " 'known VBN I-VP O',\n",
       " 'to TO I-PP O',\n",
       " 'contract NN I-NP O',\n",
       " 'scrapie NN I-NP O',\n",
       " ', , O O',\n",
       " 'a DT I-NP O',\n",
       " 'brain-wasting JJ I-NP O',\n",
       " 'disease NN I-NP O',\n",
       " 'similar JJ I-ADJP O',\n",
       " 'to TO I-PP O',\n",
       " 'BSE NNP I-NP I-MISC',\n",
       " 'which WDT B-NP O',\n",
       " 'is VBZ I-VP O',\n",
       " 'believed VBN I-VP O',\n",
       " 'to TO I-VP O',\n",
       " 'have VB I-VP O',\n",
       " 'been VBN I-VP O',\n",
       " 'transferred VBN I-VP O',\n",
       " 'to TO I-PP O',\n",
       " 'cattle NNS I-NP O',\n",
       " 'through IN I-PP O',\n",
       " 'feed NN I-NP O',\n",
       " 'containing VBG I-VP O',\n",
       " 'animal NN I-NP O',\n",
       " 'waste NN I-NP O',\n",
       " '. . O O',\n",
       " '',\n",
       " 'British JJ I-NP I-MISC',\n",
       " 'farmers NNS I-NP O',\n",
       " 'denied VBN I-VP O',\n",
       " 'on IN I-PP O',\n",
       " 'Thursday NNP I-NP O',\n",
       " 'there EX B-NP O',\n",
       " 'was VBD I-VP O',\n",
       " 'any DT I-NP O',\n",
       " 'danger NN I-NP O',\n",
       " 'to TO I-PP O',\n",
       " 'human JJ I-NP O',\n",
       " 'health NN I-NP O',\n",
       " 'from IN I-PP O',\n",
       " 'their PRP$ I-NP O',\n",
       " 'sheep NN I-NP O',\n",
       " ', , O O',\n",
       " 'but CC O O',\n",
       " 'expressed VBD I-VP O',\n",
       " 'concern NN I-NP O',\n",
       " 'that IN I-SBAR O',\n",
       " 'German JJ I-NP I-MISC',\n",
       " 'government NN I-NP O',\n",
       " 'advice NN I-NP O',\n",
       " 'to TO I-PP O',\n",
       " 'consumers NNS I-NP O',\n",
       " 'to TO I-VP O',\n",
       " 'avoid VB I-VP O',\n",
       " 'British JJ I-NP I-MISC',\n",
       " 'lamb NN I-NP O',\n",
       " 'might MD I-VP O',\n",
       " 'influence VB I-VP O',\n",
       " 'consumers NNS I-NP O',\n",
       " 'across IN I-PP O',\n",
       " 'Europe NNP I-NP I-LOC',\n",
       " '. . O O',\n",
       " '',\n",
       " '\" \" O O',\n",
       " 'What WP I-NP O',\n",
       " 'we PRP B-NP O',\n",
       " 'have VBP I-VP O',\n",
       " 'to TO I-VP O',\n",
       " 'be VB I-VP O',\n",
       " 'extremely RB I-ADJP O',\n",
       " 'careful JJ I-ADJP O',\n",
       " 'of IN I-PP O',\n",
       " 'is VBZ I-VP O',\n",
       " 'how WRB I-ADVP O',\n",
       " 'other JJ I-NP O',\n",
       " 'countries NNS I-NP O',\n",
       " 'are VBP I-VP O',\n",
       " 'going VBG I-VP O',\n",
       " 'to TO I-VP O',\n",
       " 'take VB I-VP O',\n",
       " 'Germany NNP I-NP I-LOC',\n",
       " \"'s POS B-NP O\",\n",
       " 'lead NN I-NP O',\n",
       " ', , O O',\n",
       " '\" \" O O',\n",
       " 'Welsh NNP I-NP I-ORG',\n",
       " 'National NNP I-NP I-ORG',\n",
       " 'Farmers NNP I-NP I-ORG',\n",
       " \"' POS B-NP I-ORG\",\n",
       " 'Union NNP I-NP I-ORG',\n",
       " '( ( O O',\n",
       " 'NFU NNP I-NP I-ORG',\n",
       " ') ) O O',\n",
       " 'chairman NN I-NP O',\n",
       " 'John NNP I-NP I-PER',\n",
       " 'Lloyd NNP I-NP I-PER',\n",
       " 'Jones NNP I-NP I-PER',\n",
       " 'said VBD I-VP O',\n",
       " 'on IN I-PP O',\n",
       " 'BBC NNP I-NP I-ORG',\n",
       " 'radio NN I-NP I-ORG',\n",
       " '. . O O',\n",
       " '',\n",
       " 'Bonn NNP I-NP I-LOC',\n",
       " 'has VBZ I-VP O',\n",
       " 'led VBN I-VP O',\n",
       " 'efforts NNS I-NP O',\n",
       " 'to TO I-VP O',\n",
       " 'protect VB I-VP O',\n",
       " 'public JJ I-NP O',\n",
       " 'health NN I-NP O',\n",
       " 'after IN I-PP O',\n",
       " 'consumer NN I-NP O',\n",
       " 'confidence NN I-NP O',\n",
       " 'collapsed VBD I-VP O',\n",
       " 'in IN I-PP O',\n",
       " 'March NNP I-NP O',\n",
       " 'after IN I-PP O',\n",
       " 'a DT I-NP O',\n",
       " 'British JJ I-NP I-MISC',\n",
       " 'report NN I-NP O',\n",
       " 'suggested VBD I-VP O',\n",
       " 'humans NNS I-NP O',\n",
       " 'could MD I-VP O',\n",
       " 'contract VB I-VP O',\n",
       " 'an DT I-NP O',\n",
       " 'illness NN I-NP O',\n",
       " 'similar JJ I-ADJP O',\n",
       " 'to TO I-ADJP O',\n",
       " 'mad JJ I-ADJP O',\n",
       " 'cow NN I-NP O',\n",
       " 'disease NN I-NP O',\n",
       " 'by IN I-PP O',\n",
       " 'eating VBG I-VP O',\n",
       " 'contaminated VBN I-VP O',\n",
       " 'beef NN I-NP O',\n",
       " '. . O O',\n",
       " '',\n",
       " 'Germany NNP I-NP I-LOC',\n",
       " 'imported VBD I-VP O',\n",
       " '47,600 CD I-NP O',\n",
       " 'sheep NN I-NP O',\n",
       " 'from IN I-PP O',\n",
       " 'Britain NNP I-NP I-LOC',\n",
       " 'last JJ B-NP O',\n",
       " 'year NN I-NP O',\n",
       " ', , O O',\n",
       " 'nearly RB I-NP O',\n",
       " 'half NN I-NP O',\n",
       " 'of IN I-PP O',\n",
       " 'total JJ I-NP O',\n",
       " 'imports NNS I-NP O',\n",
       " '. . O O',\n",
       " '',\n",
       " 'It PRP I-NP O',\n",
       " 'brought VBD I-VP O',\n",
       " 'in IN I-PP O',\n",
       " '4,275 CD I-NP O',\n",
       " 'tonnes NNS I-NP O',\n",
       " 'of IN I-PP O',\n",
       " 'British JJ I-NP I-MISC',\n",
       " 'mutton NN I-NP O',\n",
       " ', , O O',\n",
       " 'some DT I-NP O',\n",
       " '10 CD I-NP O',\n",
       " 'percent NN I-NP O',\n",
       " 'of IN I-PP O',\n",
       " 'overall JJ I-NP O',\n",
       " 'imports NNS I-NP O',\n",
       " '. . O O',\n",
       " '',\n",
       " '-DOCSTART- -X- O O',\n",
       " '',\n",
       " 'Rare NNP I-NP O',\n",
       " 'Hendrix NNP I-NP I-PER',\n",
       " 'song NN I-NP O',\n",
       " 'draft NN I-NP O',\n",
       " 'sells VBZ I-VP O',\n",
       " 'for IN I-PP O',\n",
       " 'almost RB I-NP O',\n",
       " '$ $ I-NP O',\n",
       " '17,000 CD I-NP O',\n",
       " '. . O O',\n",
       " '',\n",
       " 'LONDON NNP I-NP I-LOC',\n",
       " '1996-08-22 CD I-NP O',\n",
       " '',\n",
       " 'A DT I-NP O',\n",
       " 'rare JJ I-NP O',\n",
       " 'early JJ I-NP O',\n",
       " 'handwritten JJ I-NP O',\n",
       " 'draft NN I-NP O',\n",
       " 'of IN I-PP O',\n",
       " 'a DT I-NP O',\n",
       " 'song NN I-NP O',\n",
       " 'by IN I-PP O',\n",
       " 'U.S. NNP I-NP I-LOC',\n",
       " 'guitar NN I-NP O',\n",
       " 'legend NN I-NP O',\n",
       " 'Jimi NNP I-NP I-PER',\n",
       " 'Hendrix NNP I-NP I-PER',\n",
       " 'was VBD I-VP O',\n",
       " 'sold VBN I-VP O',\n",
       " 'for IN I-PP O',\n",
       " 'almost RB I-NP O',\n",
       " '$ $ I-NP O',\n",
       " '17,000 CD I-NP O',\n",
       " 'on IN I-PP O',\n",
       " 'Thursday NNP I-NP O',\n",
       " 'at IN I-PP O',\n",
       " 'an DT I-NP O',\n",
       " 'auction NN I-NP O',\n",
       " 'of IN I-PP O',\n",
       " 'some DT I-NP O',\n",
       " 'of IN I-PP O',\n",
       " 'the DT I-NP O',\n",
       " 'late JJ I-NP O',\n",
       " 'musician NN I-NP O',\n",
       " \"'s POS B-NP O\",\n",
       " 'favourite JJ I-NP O',\n",
       " 'possessions NNS I-NP O',\n",
       " '. . O O',\n",
       " '',\n",
       " 'A DT I-NP O',\n",
       " 'Florida NNP I-NP I-LOC',\n",
       " 'restaurant NN I-NP O',\n",
       " 'paid VBD I-VP O',\n",
       " '10,925 CD I-NP O',\n",
       " 'pounds NNS I-NP O',\n",
       " '( ( O O',\n",
       " '$ $ I-NP O',\n",
       " '16,935 CD I-NP O',\n",
       " ') ) O O',\n",
       " 'for IN I-PP O',\n",
       " 'the DT I-NP O',\n",
       " 'draft NN I-NP O',\n",
       " 'of IN I-PP O',\n",
       " '\" \" O O',\n",
       " 'Ai VBZ I-VP I-MISC',\n",
       " \"n't RB O I-MISC\",\n",
       " 'no DT I-NP I-MISC',\n",
       " 'telling VBG I-VP I-MISC',\n",
       " '\" \" O O',\n",
       " ', , O O',\n",
       " 'which WDT I-NP O',\n",
       " 'Hendrix NNP B-NP I-PER',\n",
       " 'penned VBN I-VP O',\n",
       " 'on IN I-PP O',\n",
       " 'a DT I-NP O',\n",
       " 'piece NN I-NP O',\n",
       " 'of IN I-PP O',\n",
       " 'London NNP I-NP I-LOC',\n",
       " 'hotel NN I-NP O',\n",
       " 'stationery NN I-NP O',\n",
       " 'in IN I-PP O',\n",
       " 'late JJ I-NP O',\n",
       " '1966 CD I-NP O',\n",
       " '. . O O',\n",
       " '',\n",
       " 'At IN I-PP O',\n",
       " 'the DT I-NP O',\n",
       " 'end NN I-NP O',\n",
       " 'of IN I-PP O',\n",
       " 'a DT I-NP O',\n",
       " 'January NNP I-NP O',\n",
       " '1967 CD I-NP O',\n",
       " 'concert NN I-NP O',\n",
       " 'in IN I-PP O',\n",
       " 'the DT I-NP O',\n",
       " 'English JJ I-NP I-MISC',\n",
       " 'city NN I-NP O',\n",
       " 'of IN I-PP O',\n",
       " 'Nottingham NNP I-NP I-LOC',\n",
       " 'he PRP B-NP O',\n",
       " 'threw VBD I-VP O',\n",
       " 'the DT I-NP O',\n",
       " 'sheet NN I-NP O',\n",
       " 'of IN I-PP O',\n",
       " 'paper NN I-NP O',\n",
       " 'into IN I-PP O',\n",
       " 'the DT I-NP O',\n",
       " 'audience NN I-NP O',\n",
       " ', , O O',\n",
       " 'where WRB I-ADVP O',\n",
       " 'it PRP I-NP O',\n",
       " 'was VBD I-VP O',\n",
       " 'retrieved VBN I-VP O',\n",
       " 'by IN I-PP O',\n",
       " 'a DT I-NP O',\n",
       " 'fan NN I-NP O',\n",
       " '. . O O',\n",
       " '',\n",
       " 'Buyers NNS I-NP O',\n",
       " 'also RB I-ADVP O',\n",
       " 'snapped VBD I-VP O',\n",
       " 'up RB I-ADVP O',\n",
       " '16 CD I-NP O',\n",
       " 'other JJ I-NP O',\n",
       " 'items NNS I-NP O',\n",
       " 'that WDT B-NP O',\n",
       " 'were VBD I-VP O',\n",
       " 'put VBN I-VP O',\n",
       " 'up RP I-PRT O',\n",
       " 'for IN I-PP O',\n",
       " 'auction NN I-NP O',\n",
       " 'by IN I-PP O',\n",
       " 'Hendrix NNP I-NP I-PER',\n",
       " \"'s POS B-NP O\",\n",
       " 'former JJ I-NP O',\n",
       " 'girlfriend NN I-NP O',\n",
       " 'Kathy NNP I-NP I-PER',\n",
       " 'Etchingham NNP I-NP I-PER',\n",
       " ', , O O',\n",
       " 'who WP I-NP O',\n",
       " 'lived VBD I-VP O',\n",
       " 'with IN I-PP O',\n",
       " 'him PRP I-NP O',\n",
       " 'from IN I-PP O',\n",
       " '1966 CD I-NP O',\n",
       " 'to TO I-PP O',\n",
       " '1969 CD I-NP O',\n",
       " '. . O O',\n",
       " '',\n",
       " 'They PRP I-NP O',\n",
       " 'included VBD I-VP O',\n",
       " 'a DT I-NP O',\n",
       " 'black JJ I-NP O',\n",
       " 'lacquer NN I-NP O',\n",
       " 'and CC I-NP O',\n",
       " 'mother NN I-NP O',\n",
       " 'of IN I-PP O',\n",
       " 'pearl NN I-NP O',\n",
       " 'inlaid VBD I-VP O',\n",
       " 'box NN I-NP O',\n",
       " 'used VBN I-VP O',\n",
       " 'by IN I-PP O',\n",
       " 'Hendrix NNP I-NP I-PER',\n",
       " 'to TO I-VP O',\n",
       " 'store VB I-VP O',\n",
       " 'his PRP$ I-NP O',\n",
       " 'drugs NNS I-NP O',\n",
       " ', , O O',\n",
       " 'which WDT I-NP O',\n",
       " 'an DT B-NP O',\n",
       " 'anonymous JJ I-NP O',\n",
       " 'Australian JJ I-NP I-MISC',\n",
       " 'purchaser NN I-NP O',\n",
       " 'bought VBD I-VP O',\n",
       " 'for IN I-PP O',\n",
       " '5,060 CD I-NP O',\n",
       " 'pounds NNS I-NP O',\n",
       " '( ( O O',\n",
       " '$ $ I-NP O',\n",
       " '7,845 CD I-NP O',\n",
       " ') ) O O',\n",
       " '. . O O',\n",
       " '',\n",
       " 'The DT I-NP O',\n",
       " 'guitarist NN I-NP O',\n",
       " 'died VBD I-VP O',\n",
       " 'of IN I-PP O',\n",
       " 'a DT I-NP O',\n",
       " 'drugs NNS I-NP O',\n",
       " 'overdose NN I-NP O',\n",
       " 'in IN I-PP O',\n",
       " '1970 CD I-NP O',\n",
       " 'aged VBN I-ADJP O',\n",
       " '27 CD I-NP O',\n",
       " '. . O O',\n",
       " '',\n",
       " '-DOCSTART- -X- O O',\n",
       " '',\n",
       " 'China NNP I-NP I-LOC',\n",
       " 'says VBZ I-VP O',\n",
       " 'Taiwan NNP I-NP I-LOC',\n",
       " 'spoils VBZ I-VP O',\n",
       " 'atmosphere NN I-NP O',\n",
       " 'for IN I-PP O',\n",
       " 'talks NNS I-NP O',\n",
       " '. . O O',\n",
       " '',\n",
       " 'BEIJING VBG I-VP I-LOC',\n",
       " '1996-08-22 CD I-NP O',\n",
       " '',\n",
       " 'China NNP I-NP I-LOC',\n",
       " 'on IN I-PP O',\n",
       " 'Thursday NNP I-NP O',\n",
       " 'accused VBD I-VP O',\n",
       " 'Taipei NNP I-NP I-LOC',\n",
       " 'of IN I-PP O',\n",
       " 'spoiling VBG I-VP O',\n",
       " 'the DT I-NP O',\n",
       " 'atmosphere NN I-NP O',\n",
       " 'for IN I-PP O',\n",
       " 'a DT I-NP O',\n",
       " 'resumption NN I-NP O',\n",
       " 'of IN I-PP O',\n",
       " 'talks NNS I-NP O',\n",
       " 'across IN I-PP O',\n",
       " 'the DT I-NP O',\n",
       " 'Taiwan NNP I-NP I-LOC',\n",
       " 'Strait NNP I-NP I-LOC',\n",
       " 'with IN I-PP O',\n",
       " 'a DT I-NP O',\n",
       " 'visit NN I-NP O',\n",
       " 'to TO I-PP O',\n",
       " 'Ukraine NNP I-NP I-LOC',\n",
       " 'by IN I-PP O',\n",
       " 'Taiwanese NNP I-NP I-MISC',\n",
       " 'Vice NNP I-NP O',\n",
       " 'President NNP I-NP O',\n",
       " 'Lien NNP I-NP I-PER',\n",
       " 'Chan NNP I-NP I-PER',\n",
       " 'this DT B-NP O',\n",
       " 'week NN I-NP O',\n",
       " 'that WDT B-NP O',\n",
       " 'infuriated VBD I-VP O',\n",
       " 'Beijing NNP I-NP I-LOC',\n",
       " '. . O O',\n",
       " '',\n",
       " 'Speaking VBG I-VP O',\n",
       " 'only JJ I-ADVP O',\n",
       " 'hours NNS I-NP O',\n",
       " 'after IN I-PP O',\n",
       " 'Chinese JJ I-NP I-MISC',\n",
       " 'state NN I-NP O',\n",
       " 'media NNS I-NP O',\n",
       " 'said VBD I-VP O',\n",
       " 'the DT I-NP O',\n",
       " 'time NN I-NP O',\n",
       " 'was VBD I-VP O',\n",
       " 'right RB I-ADJP O',\n",
       " 'to TO I-VP O',\n",
       " 'engage VB I-VP O',\n",
       " 'in IN I-PP O',\n",
       " 'political JJ I-NP O',\n",
       " 'talks NNS I-NP O',\n",
       " 'with IN I-PP O',\n",
       " 'Taiwan NNP I-NP I-LOC',\n",
       " ', , O O',\n",
       " 'Foreign NNP I-NP I-ORG',\n",
       " 'Ministry NNP I-NP I-ORG',\n",
       " 'spokesman NN I-NP O',\n",
       " 'Shen NNP I-NP I-PER',\n",
       " 'Guofang NNP I-NP I-PER',\n",
       " 'told VBD I-VP O',\n",
       " 'Reuters NNP I-NP I-ORG',\n",
       " ': : O O',\n",
       " '\" \" O O',\n",
       " 'The DT I-NP O',\n",
       " 'necessary JJ I-NP O',\n",
       " 'atmosphere NN I-NP O',\n",
       " 'for IN I-PP O',\n",
       " 'the DT I-NP O',\n",
       " 'opening NN I-NP O',\n",
       " 'of IN I-PP O',\n",
       " 'the DT I-NP O',\n",
       " 'talks NNS I-NP O',\n",
       " 'has VBZ I-VP O',\n",
       " 'been VBN I-VP O',\n",
       " 'disrupted VBN I-VP O',\n",
       " 'by IN I-PP O',\n",
       " 'the DT I-NP O',\n",
       " 'Taiwan NNP I-NP I-LOC',\n",
       " 'authorities NNS I-NP O',\n",
       " '. . O O',\n",
       " '\" \" O O',\n",
       " '',\n",
       " 'State NN I-NP O',\n",
       " 'media NNS I-NP O',\n",
       " 'quoted VBD I-VP O',\n",
       " 'China NNP I-NP I-LOC',\n",
       " \"'s POS B-NP O\",\n",
       " 'top JJ I-NP O',\n",
       " 'negotiator NN I-NP O',\n",
       " 'with IN I-PP O',\n",
       " 'Taipei NNP I-NP I-LOC',\n",
       " ', , O O',\n",
       " 'Tang NNP I-NP I-PER',\n",
       " 'Shubei NNP I-NP I-PER',\n",
       " ', , O O',\n",
       " 'as IN I-PP O',\n",
       " 'telling VBG I-VP O',\n",
       " 'a DT I-NP O',\n",
       " 'visiting JJ I-NP O',\n",
       " 'group NN I-NP O',\n",
       " 'from IN I-PP O',\n",
       " 'Taiwan NNP I-NP I-LOC',\n",
       " 'on IN I-PP O',\n",
       " 'Wednesday NNP I-NP O',\n",
       " 'that IN I-SBAR O',\n",
       " 'it PRP I-NP O',\n",
       " 'was VBD I-VP O',\n",
       " 'time NN I-NP O',\n",
       " 'for IN I-PP O',\n",
       " 'the DT I-NP O',\n",
       " 'rivals NNS I-NP O',\n",
       " 'to TO I-VP O',\n",
       " 'hold VB I-VP O',\n",
       " 'political JJ I-NP O',\n",
       " 'talks NNS I-NP O',\n",
       " '. . O O',\n",
       " '',\n",
       " '\" \" O O',\n",
       " 'Now RB I-ADVP O',\n",
       " 'is VBZ I-VP O',\n",
       " 'the DT I-NP O',\n",
       " 'time NN I-NP O',\n",
       " 'for IN I-PP O',\n",
       " 'the DT I-NP O',\n",
       " 'two CD I-NP O',\n",
       " 'sides NNS I-NP O',\n",
       " 'to TO I-VP O',\n",
       " 'engage VB I-VP O',\n",
       " 'in IN I-PP O',\n",
       " 'political JJ I-NP O',\n",
       " 'talks NNS I-NP O',\n",
       " '... : O O',\n",
       " '',\n",
       " 'that WDT I-NP O',\n",
       " 'is VBZ I-VP O',\n",
       " 'to TO B-VP O',\n",
       " 'end VB I-VP O',\n",
       " 'the DT I-NP O',\n",
       " 'state NN I-NP O',\n",
       " 'of IN I-PP O',\n",
       " 'hostility NN I-NP O',\n",
       " ', , O O',\n",
       " '\" \" O O',\n",
       " 'Thursday NNP I-NP O',\n",
       " \"'s POS B-NP O\",\n",
       " 'overseas JJ I-NP O',\n",
       " 'edition NN I-NP O',\n",
       " 'of IN I-PP O',\n",
       " 'the DT I-NP O',\n",
       " 'People NNPS I-NP I-ORG',\n",
       " \"'s POS B-NP I-ORG\",\n",
       " 'Daily JJ I-NP I-ORG',\n",
       " 'quoted VBN I-VP O',\n",
       " 'Tang NNP I-NP I-PER',\n",
       " 'as IN I-PP O',\n",
       " 'saying VBG I-VP O',\n",
       " '. . O O',\n",
       " '',\n",
       " 'The DT I-NP O',\n",
       " 'foreign JJ I-NP O',\n",
       " 'ministry NN I-NP O',\n",
       " \"'s POS B-NP O\",\n",
       " 'Shen NNP I-NP I-ORG',\n",
       " 'told VBD I-VP O',\n",
       " 'Reuters NNP I-NP I-ORG',\n",
       " 'Television NNP I-NP I-ORG',\n",
       " 'in IN I-PP O',\n",
       " 'an DT I-NP O',\n",
       " 'interview NN I-NP O',\n",
       " 'he PRP B-NP O',\n",
       " 'had VBD I-VP O',\n",
       " 'read VBN I-VP O',\n",
       " 'reports NNS I-NP O',\n",
       " 'of IN I-PP O',\n",
       " 'Tang NNP I-NP I-PER',\n",
       " \"'s POS B-NP O\",\n",
       " 'comments NNS I-NP O',\n",
       " 'but CC O O',\n",
       " 'gave VBD I-VP O',\n",
       " 'no DT I-NP O',\n",
       " 'details NNS I-NP O',\n",
       " 'of IN I-PP O',\n",
       " 'why WRB I-ADVP O',\n",
       " 'the DT I-NP O',\n",
       " 'negotiator NN I-NP O',\n",
       " 'had VBD I-VP O',\n",
       " 'considered VBN I-VP O',\n",
       " 'the DT I-NP O',\n",
       " 'time NN I-NP O',\n",
       " 'right RB I-ADVP O',\n",
       " 'for IN I-PP O',\n",
       " 'talks NNS I-NP O',\n",
       " 'with IN I-PP O',\n",
       " 'Taiwan NNP I-NP I-LOC',\n",
       " ', , O O',\n",
       " 'which WDT I-NP O',\n",
       " 'Beijing NNP B-NP I-LOC',\n",
       " 'considers VBZ I-VP O',\n",
       " 'a DT I-NP O',\n",
       " 'renegade NN I-NP O',\n",
       " 'province NN I-NP O',\n",
       " '. . O O',\n",
       " '',\n",
       " 'China NNP I-NP I-LOC',\n",
       " ', , O O',\n",
       " 'which WDT I-NP O',\n",
       " 'has VBZ I-VP O',\n",
       " 'long RB I-VP O',\n",
       " 'opposed VBN I-VP O',\n",
       " 'all DT I-NP O',\n",
       " 'Taipei NNP I-NP I-LOC',\n",
       " 'efforts NNS I-NP O',\n",
       " 'to TO I-VP O',\n",
       " 'gain VB I-VP O',\n",
       " 'greater JJR I-NP O',\n",
       " 'international JJ I-NP O',\n",
       " 'recognition NN I-NP O',\n",
       " ', , O O',\n",
       " 'was VBD I-VP O',\n",
       " 'infuriated VBN I-VP O',\n",
       " 'by IN I-PP O',\n",
       " 'a DT I-NP O',\n",
       " 'visit NN I-NP O',\n",
       " 'to TO I-PP O',\n",
       " 'Ukraine NNP I-NP I-LOC',\n",
       " 'this DT B-NP O',\n",
       " 'week NN I-NP O',\n",
       " 'by IN I-PP O',\n",
       " 'Taiwanese NNP I-NP I-MISC',\n",
       " 'Vice NNP I-NP O',\n",
       " 'President NNP I-NP O',\n",
       " 'Lien NNP I-NP I-PER',\n",
       " '. . O O',\n",
       " '',\n",
       " '-DOCSTART- -X- O O',\n",
       " '',\n",
       " 'China NNP I-NP I-LOC',\n",
       " 'says VBZ I-VP O',\n",
       " 'time NN I-NP O',\n",
       " 'right RB I-ADVP O',\n",
       " 'for IN I-PP O',\n",
       " 'Taiwan NNP I-NP I-LOC',\n",
       " 'talks NNS I-NP O',\n",
       " '. . O O',\n",
       " '',\n",
       " 'BEIJING VBG I-VP I-LOC',\n",
       " '1996-08-22 CD I-NP O',\n",
       " '',\n",
       " 'China NNP I-NP I-LOC',\n",
       " 'has VBZ I-VP O',\n",
       " 'said VBD I-VP O',\n",
       " 'it PRP I-NP O',\n",
       " 'was VBD I-VP O',\n",
       " 'time NN I-NP O',\n",
       " 'for IN I-PP O',\n",
       " 'political JJ I-NP O',\n",
       " 'talks NNS I-NP O',\n",
       " 'with IN I-PP O',\n",
       " 'Taiwan NNP I-NP I-LOC',\n",
       " 'and CC O O',\n",
       " 'that IN I-SBAR O',\n",
       " 'the DT I-NP O',\n",
       " 'rival JJ I-NP O',\n",
       " 'island NN I-NP O',\n",
       " 'should MD I-VP O',\n",
       " 'take VB I-VP O',\n",
       " 'practical JJ I-NP O',\n",
       " 'steps NNS I-NP O',\n",
       " 'towards IN I-PP O',\n",
       " 'that DT I-NP O',\n",
       " 'goal NN I-NP O',\n",
       " '. . O O',\n",
       " '',\n",
       " 'Consultations NNS I-NP O',\n",
       " 'should MD I-VP O',\n",
       " 'be VB I-VP O',\n",
       " 'held VBN I-VP O',\n",
       " 'to TO B-VP O',\n",
       " 'set VB I-VP O',\n",
       " 'the DT I-NP O',\n",
       " 'time NN I-NP O',\n",
       " 'and CC I-NP O',\n",
       " 'format NN I-NP O',\n",
       " 'of IN I-PP O',\n",
       " 'the DT I-NP O',\n",
       " 'talks NNS I-NP O',\n",
       " ', , O O',\n",
       " 'the DT I-NP O',\n",
       " 'official NN I-NP O',\n",
       " 'Xinhua NNP I-NP I-ORG',\n",
       " 'news NN I-NP O',\n",
       " 'agency NN I-NP O',\n",
       " 'quoted VBN I-VP O',\n",
       " 'Tang NNP I-NP I-PER',\n",
       " 'Shubei NNP I-NP I-PER',\n",
       " ', , O O',\n",
       " ...]"
      ]
     },
     "execution_count": 7,
     "metadata": {},
     "output_type": "execute_result"
    }
   ],
   "source": [
    "# The original data files have -DOCSTART- lines used to separate documents --> Extra handling required\n",
    "train_lines"
   ]
  },
  {
   "cell_type": "code",
   "execution_count": null,
   "metadata": {},
   "outputs": [
    {
     "data": {
      "text/plain": [
       "['SOCCER NN I-NP O',\n",
       " '- : O O',\n",
       " 'JAPAN NNP I-NP I-LOC',\n",
       " 'GET VB I-VP O',\n",
       " 'LUCKY NNP I-NP O',\n",
       " 'WIN NNP I-NP O',\n",
       " ', , O O',\n",
       " 'CHINA NNP I-NP I-PER',\n",
       " 'IN IN I-PP O',\n",
       " 'SURPRISE DT I-NP O',\n",
       " 'DEFEAT NN I-NP O',\n",
       " '. . O O',\n",
       " '',\n",
       " 'Nadim NNP I-NP I-PER',\n",
       " 'Ladki NNP I-NP I-PER',\n",
       " '',\n",
       " 'AL-AIN NNP I-NP I-LOC',\n",
       " ', , O O',\n",
       " 'United NNP I-NP I-LOC',\n",
       " 'Arab NNP I-NP I-LOC',\n",
       " 'Emirates NNPS I-NP I-LOC',\n",
       " '1996-12-06 CD I-NP O',\n",
       " '',\n",
       " 'Japan NNP I-NP I-LOC',\n",
       " 'began VBD I-VP O',\n",
       " 'the DT I-NP O',\n",
       " 'defence NN I-NP O',\n",
       " 'of IN I-PP O',\n",
       " 'their PRP$ I-NP O',\n",
       " 'Asian JJ I-NP I-MISC',\n",
       " 'Cup NNP I-NP I-MISC',\n",
       " 'title NN I-NP O',\n",
       " 'with IN I-PP O',\n",
       " 'a DT I-NP O',\n",
       " 'lucky JJ I-NP O',\n",
       " '2-1 CD I-NP O',\n",
       " 'win VBP I-VP O',\n",
       " 'against IN I-PP O',\n",
       " 'Syria NNP I-NP I-LOC',\n",
       " 'in IN I-PP O',\n",
       " 'a DT I-NP O',\n",
       " 'Group NNP I-NP O',\n",
       " 'C NNP I-NP O',\n",
       " 'championship NN I-NP O',\n",
       " 'match NN I-NP O',\n",
       " 'on IN I-PP O',\n",
       " 'Friday NNP I-NP O',\n",
       " '. . O O',\n",
       " '',\n",
       " 'But CC O O',\n",
       " 'China NNP I-NP I-LOC',\n",
       " 'saw VBD I-VP O',\n",
       " 'their PRP$ I-NP O',\n",
       " 'luck NN I-NP O',\n",
       " 'desert VB I-VP O',\n",
       " 'them PRP I-NP O',\n",
       " 'in IN I-PP O',\n",
       " 'the DT I-NP O',\n",
       " 'second NN I-NP O',\n",
       " 'match NN I-NP O',\n",
       " 'of IN I-PP O',\n",
       " 'the DT I-NP O',\n",
       " 'group NN I-NP O',\n",
       " ', , O O',\n",
       " 'crashing VBG I-VP O',\n",
       " 'to TO I-PP O',\n",
       " 'a DT I-NP O',\n",
       " 'surprise NN I-NP O',\n",
       " '2-0 CD I-NP O',\n",
       " 'defeat NN I-NP O',\n",
       " 'to TO I-PP O',\n",
       " 'newcomers NNS I-NP O',\n",
       " 'Uzbekistan NNP I-NP I-LOC',\n",
       " '. . O O',\n",
       " '',\n",
       " 'China NNP I-NP I-LOC',\n",
       " 'controlled VBD I-VP O',\n",
       " 'most JJS I-NP O',\n",
       " 'of IN I-PP O',\n",
       " 'the DT I-NP O',\n",
       " 'match NN I-NP O',\n",
       " 'and CC O O',\n",
       " 'saw VBD I-VP O',\n",
       " 'several JJ I-NP O',\n",
       " 'chances NNS I-NP O',\n",
       " 'missed VBD I-VP O',\n",
       " 'until IN I-SBAR O',\n",
       " 'the DT I-NP O',\n",
       " '78th JJ I-NP O',\n",
       " 'minute NN I-NP O',\n",
       " 'when WRB I-ADVP O',\n",
       " 'Uzbek NNP I-NP I-MISC',\n",
       " 'striker NN I-NP O',\n",
       " 'Igor JJ B-NP I-PER',\n",
       " 'Shkvyrin NNP I-NP I-PER',\n",
       " 'took VBD I-VP O',\n",
       " 'advantage NN I-NP O',\n",
       " 'of IN I-PP O',\n",
       " 'a DT I-NP O',\n",
       " 'misdirected JJ I-NP O',\n",
       " 'defensive JJ I-NP O',\n",
       " 'header NN I-NP O',\n",
       " 'to TO I-VP O',\n",
       " 'lob VB I-VP O',\n",
       " 'the DT I-NP O',\n",
       " 'ball NN I-NP O',\n",
       " 'over IN I-PP O',\n",
       " 'the DT I-NP O',\n",
       " 'advancing VBG I-NP O',\n",
       " 'Chinese JJ I-NP I-MISC',\n",
       " 'keeper NN I-NP O',\n",
       " 'and CC O O',\n",
       " 'into IN I-PP O',\n",
       " 'an DT I-NP O',\n",
       " 'empty JJ I-NP O',\n",
       " 'net NN I-NP O',\n",
       " '. . O O',\n",
       " '',\n",
       " 'Oleg NNP I-NP I-PER',\n",
       " 'Shatskiku NNP I-NP I-PER',\n",
       " 'made VBD I-VP O',\n",
       " 'sure JJ I-ADJP O',\n",
       " 'of IN I-PP O',\n",
       " 'the DT I-NP O',\n",
       " 'win VBP I-VP O',\n",
       " 'in IN I-PP O',\n",
       " 'injury NN I-NP O',\n",
       " 'time NN I-NP O',\n",
       " ', , O O',\n",
       " 'hitting VBG I-VP O',\n",
       " 'an DT I-NP O',\n",
       " 'unstoppable JJ I-NP O',\n",
       " 'left VBD I-VP O',\n",
       " 'foot NN I-NP O',\n",
       " 'shot NN I-NP O',\n",
       " 'from IN I-PP O',\n",
       " 'just RB I-NP O',\n",
       " 'outside IN I-PP O',\n",
       " 'the DT I-NP O',\n",
       " 'area NN I-NP O',\n",
       " '. . O O',\n",
       " '',\n",
       " 'The DT I-NP O',\n",
       " 'former JJ I-NP O',\n",
       " 'Soviet JJ I-NP I-MISC',\n",
       " 'republic NN I-NP O',\n",
       " 'was VBD I-VP O',\n",
       " 'playing VBG I-VP O',\n",
       " 'in IN I-PP O',\n",
       " 'an DT I-NP O',\n",
       " 'Asian NNP I-NP I-MISC',\n",
       " 'Cup NNP I-NP I-MISC',\n",
       " 'finals NNS I-NP O',\n",
       " 'tie NN I-NP O',\n",
       " 'for IN I-PP O',\n",
       " 'the DT I-NP O',\n",
       " 'first JJ I-NP O',\n",
       " 'time NN I-NP O',\n",
       " '. . O O',\n",
       " '',\n",
       " 'Despite IN I-PP O',\n",
       " 'winning VBG I-VP O',\n",
       " 'the DT I-NP O',\n",
       " 'Asian JJ I-NP I-MISC',\n",
       " 'Games NNPS I-NP I-MISC',\n",
       " 'title NN I-NP O',\n",
       " 'two CD B-NP O',\n",
       " 'years NNS I-NP O',\n",
       " 'ago RB I-ADVP O',\n",
       " ', , O O',\n",
       " 'Uzbekistan NNP I-NP I-LOC',\n",
       " 'are VBP I-VP O',\n",
       " 'in IN I-PP O',\n",
       " 'the DT I-NP O',\n",
       " 'finals NNS I-NP O',\n",
       " 'as IN I-SBAR O',\n",
       " 'outsiders NNS I-NP O',\n",
       " '. . O O',\n",
       " '',\n",
       " 'Two CD I-NP O',\n",
       " 'goals NNS I-NP O',\n",
       " 'from IN I-PP O',\n",
       " 'defensive JJ I-NP O',\n",
       " 'errors NNS I-NP O',\n",
       " 'in IN I-PP O',\n",
       " 'the DT I-NP O',\n",
       " 'last JJ I-NP O',\n",
       " 'six CD I-NP O',\n",
       " 'minutes NNS I-NP O',\n",
       " 'allowed VBD I-VP O',\n",
       " 'Japan NNP I-NP I-LOC',\n",
       " 'to TO I-VP O',\n",
       " 'come VB I-VP O',\n",
       " 'from IN I-PP O',\n",
       " 'behind NN I-NP O',\n",
       " 'and CC O O',\n",
       " 'collect VB I-VP O',\n",
       " 'all DT I-NP O',\n",
       " 'three CD I-NP O',\n",
       " 'points NNS I-NP O',\n",
       " 'from IN I-PP O',\n",
       " 'their PRP$ I-NP O',\n",
       " 'opening NN I-NP O',\n",
       " 'meeting NN I-NP O',\n",
       " 'against IN I-PP O',\n",
       " 'Syria NNP I-NP I-LOC',\n",
       " '. . O O',\n",
       " '',\n",
       " 'Takuya NNP I-NP I-PER',\n",
       " 'Takagi NNP I-NP I-PER',\n",
       " 'scored VBD I-VP O',\n",
       " 'the DT I-NP O',\n",
       " 'winner NN I-NP O',\n",
       " 'in IN I-PP O',\n",
       " 'the DT I-NP O',\n",
       " '88th JJ I-NP O',\n",
       " 'minute NN I-NP O',\n",
       " ', , O O',\n",
       " 'rising VBG I-VP O',\n",
       " 'to TO I-VP O',\n",
       " 'head VB I-VP O',\n",
       " 'a DT I-NP O',\n",
       " 'Hiroshige NNP I-NP I-PER',\n",
       " 'Yanagimoto NNP I-NP I-PER',\n",
       " 'cross VB I-VP O',\n",
       " 'towards IN I-PP O',\n",
       " 'the DT I-NP O',\n",
       " 'Syrian JJ I-NP I-MISC',\n",
       " 'goal NN I-NP O',\n",
       " 'which WDT B-NP O',\n",
       " 'goalkeeper VBD I-VP O',\n",
       " 'Salem NNP I-NP I-PER',\n",
       " 'Bitar NNP I-NP I-PER',\n",
       " 'appeared VBD I-VP O',\n",
       " 'to TO I-VP O',\n",
       " 'have VB I-VP O',\n",
       " 'covered VBN I-VP O',\n",
       " 'but CC O O',\n",
       " 'then RB I-VP O',\n",
       " 'allowed VBN I-VP O',\n",
       " 'to TO I-VP O',\n",
       " 'slip VB I-VP O',\n",
       " 'into IN I-PP O',\n",
       " 'the DT I-NP O',\n",
       " 'net NN I-NP O',\n",
       " '. . O O',\n",
       " '',\n",
       " 'It PRP I-NP O',\n",
       " 'was VBD I-VP O',\n",
       " 'the DT I-NP O',\n",
       " 'second JJ I-NP O',\n",
       " 'costly JJ I-NP O',\n",
       " 'blunder NN I-NP O',\n",
       " 'by IN I-PP O',\n",
       " 'Syria NNP I-NP I-LOC',\n",
       " 'in IN I-PP O',\n",
       " 'four CD I-NP O',\n",
       " 'minutes NNS I-NP O',\n",
       " '. . O O',\n",
       " '',\n",
       " 'Defender NNP I-NP O',\n",
       " 'Hassan NNP I-NP I-PER',\n",
       " 'Abbas NNP I-NP I-PER',\n",
       " 'rose VBD I-VP O',\n",
       " 'to TO I-VP O',\n",
       " 'intercept VB I-VP O',\n",
       " 'a DT I-NP O',\n",
       " 'long JJ I-NP O',\n",
       " 'ball NN I-NP O',\n",
       " 'into IN I-PP O',\n",
       " 'the DT I-NP O',\n",
       " 'area NN I-NP O',\n",
       " 'in IN I-PP O',\n",
       " 'the DT I-NP O',\n",
       " '84th JJ I-NP O',\n",
       " 'minute NN I-NP O',\n",
       " 'but CC O O',\n",
       " 'only RB I-ADVP O',\n",
       " 'managed VBD I-VP O',\n",
       " 'to TO I-VP O',\n",
       " 'divert VB I-VP O',\n",
       " 'it PRP I-NP O',\n",
       " 'into IN I-PP O',\n",
       " 'the DT I-NP O',\n",
       " 'top JJ I-NP O',\n",
       " 'corner NN I-NP O',\n",
       " 'of IN I-PP O',\n",
       " 'Bitar NN I-NP I-PER',\n",
       " \"'s POS B-NP O\",\n",
       " 'goal NN I-NP O',\n",
       " '. . O O',\n",
       " '',\n",
       " 'Nader NNP I-NP I-PER',\n",
       " 'Jokhadar NNP I-NP I-PER',\n",
       " 'had VBD I-VP O',\n",
       " 'given VBN I-VP O',\n",
       " 'Syria NNP I-NP I-LOC',\n",
       " 'the DT B-NP O',\n",
       " 'lead NN I-NP O',\n",
       " 'with IN I-PP O',\n",
       " 'a DT I-NP O',\n",
       " 'well-struck NN I-NP O',\n",
       " 'header NN I-NP O',\n",
       " 'in IN I-PP O',\n",
       " 'the DT I-NP O',\n",
       " 'seventh JJ I-NP O',\n",
       " 'minute NN I-NP O',\n",
       " '. . O O',\n",
       " '',\n",
       " 'Japan NNP I-NP I-LOC',\n",
       " 'then RB I-ADVP O',\n",
       " 'laid VBD I-VP O',\n",
       " 'siege NN I-NP O',\n",
       " 'to TO I-PP O',\n",
       " 'the DT I-NP O',\n",
       " 'Syrian JJ I-NP I-MISC',\n",
       " 'penalty NN I-NP O',\n",
       " 'area NN I-NP O',\n",
       " 'for IN I-PP O',\n",
       " 'most JJS I-NP O',\n",
       " 'of IN I-PP O',\n",
       " 'the DT I-NP O',\n",
       " 'game NN I-NP O',\n",
       " 'but CC O O',\n",
       " 'rarely RB I-VP O',\n",
       " 'breached VBD I-VP O',\n",
       " 'the DT I-NP O',\n",
       " 'Syrian JJ I-NP I-MISC',\n",
       " 'defence NN I-NP O',\n",
       " '. . O O',\n",
       " '',\n",
       " 'Bitar NN I-NP I-PER',\n",
       " 'pulled VBD I-VP O',\n",
       " 'off RP I-PRT O',\n",
       " 'fine JJ I-NP O',\n",
       " 'saves VBZ I-VP O',\n",
       " 'whenever WRB I-ADVP O',\n",
       " 'they PRP I-NP O',\n",
       " 'did VBD I-VP O',\n",
       " '. . O O',\n",
       " '',\n",
       " 'Japan NNP I-NP I-LOC',\n",
       " 'coach NN I-NP O',\n",
       " 'Shu NNP I-NP I-PER',\n",
       " 'Kamo NNP I-NP I-PER',\n",
       " 'said VBD I-VP O',\n",
       " ': : O O',\n",
       " \"' '' O O\",\n",
       " \"' POS I-NP O\",\n",
       " 'The DT I-NP O',\n",
       " 'Syrian JJ I-NP I-MISC',\n",
       " 'own JJ I-NP O',\n",
       " 'goal NN I-NP O',\n",
       " 'proved VBD I-VP O',\n",
       " 'lucky JJ I-ADJP O',\n",
       " 'for IN I-PP O',\n",
       " 'us PRP I-NP O',\n",
       " '. . O O',\n",
       " '',\n",
       " 'The DT I-NP O',\n",
       " 'Syrians NNPS I-NP I-MISC',\n",
       " 'scored VBD I-VP O',\n",
       " 'early JJ I-NP O',\n",
       " 'and CC O O',\n",
       " 'then RB I-VP O',\n",
       " 'played VBN I-VP O',\n",
       " 'defensively RB I-ADVP O',\n",
       " 'and CC O O',\n",
       " 'adopted VBD I-VP O',\n",
       " 'long RB I-VP O',\n",
       " 'balls VBZ I-VP O',\n",
       " 'which WDT I-NP O',\n",
       " 'made VBD I-VP O',\n",
       " 'it PRP I-NP O',\n",
       " 'hard JJ I-ADJP O',\n",
       " 'for IN I-PP O',\n",
       " 'us PRP I-NP O',\n",
       " '. . O O',\n",
       " \"' '' O O\",\n",
       " '',\n",
       " \"' '' O O\",\n",
       " '',\n",
       " 'Japan NNP I-NP I-LOC',\n",
       " ', , O O',\n",
       " 'co-hosts VBZ I-VP O',\n",
       " 'of IN I-PP O',\n",
       " 'the DT I-NP O',\n",
       " 'World NNP I-NP I-MISC',\n",
       " 'Cup NNP I-NP I-MISC',\n",
       " 'in IN I-PP O',\n",
       " '2002 CD I-NP O',\n",
       " 'and CC O O',\n",
       " 'ranked VBD I-VP O',\n",
       " '20th JJ I-NP O',\n",
       " 'in IN I-PP O',\n",
       " 'the DT I-NP O',\n",
       " 'world NN I-NP O',\n",
       " 'by IN I-PP O',\n",
       " 'FIFA NNP I-NP I-ORG',\n",
       " ', , O O',\n",
       " 'are VBP I-VP O',\n",
       " 'favourites JJ I-ADJP O',\n",
       " 'to TO I-VP O',\n",
       " 'regain VB I-VP O',\n",
       " 'their PRP$ I-NP O',\n",
       " 'title NN I-NP O',\n",
       " 'here RB I-ADVP O',\n",
       " '. . O O',\n",
       " '',\n",
       " 'Hosts NNPS I-NP O',\n",
       " 'UAE NNP I-NP I-LOC',\n",
       " 'play NN I-NP O',\n",
       " 'Kuwait NNP I-NP I-LOC',\n",
       " 'and CC O O',\n",
       " 'South NNP I-NP I-LOC',\n",
       " 'Korea NNP I-NP I-LOC',\n",
       " 'take VBP I-VP O',\n",
       " 'on IN I-PP O',\n",
       " 'Indonesia NNP I-NP I-LOC',\n",
       " 'on IN I-PP O',\n",
       " 'Saturday NNP I-NP O',\n",
       " 'in IN I-PP O',\n",
       " 'Group NNP I-NP O',\n",
       " 'A NNP I-NP O',\n",
       " 'matches VBZ I-VP O',\n",
       " '. . O O',\n",
       " '',\n",
       " 'All DT I-NP O',\n",
       " 'four CD I-NP O',\n",
       " 'teams NNS I-NP O',\n",
       " 'are VBP I-VP O',\n",
       " 'level NN I-NP O',\n",
       " 'with IN I-PP O',\n",
       " 'one CD I-NP O',\n",
       " 'point NN I-NP O',\n",
       " 'each DT B-NP O',\n",
       " 'from IN I-PP O',\n",
       " 'one CD I-NP O',\n",
       " 'game NN I-NP O',\n",
       " '. . O O',\n",
       " '',\n",
       " '-DOCSTART- -X- -X- O',\n",
       " '',\n",
       " 'RUGBY NNP I-NP I-ORG',\n",
       " 'UNION NN I-NP I-ORG',\n",
       " '- : O O',\n",
       " 'CUTTITTA NNP I-NP I-PER',\n",
       " 'BACK NNP I-NP O',\n",
       " 'FOR IN I-PP O',\n",
       " 'ITALY JJ I-NP I-LOC',\n",
       " 'AFTER NNP I-NP O',\n",
       " 'A NNP I-NP O',\n",
       " 'YEAR NNP I-NP O',\n",
       " '. . O O',\n",
       " '',\n",
       " 'ROME VB I-NP I-LOC',\n",
       " '1996-12-06 CD I-NP O',\n",
       " '',\n",
       " 'Italy NNP I-NP I-LOC',\n",
       " 'recalled VBD I-VP O',\n",
       " 'Marcello NNP I-NP I-PER',\n",
       " 'Cuttitta NNP I-NP I-PER',\n",
       " '',\n",
       " 'on IN I-PP O',\n",
       " 'Friday NNP I-NP O',\n",
       " 'for IN I-PP O',\n",
       " 'their PRP$ I-NP O',\n",
       " 'friendly JJ I-NP O',\n",
       " 'against IN I-PP O',\n",
       " 'Scotland NNP I-NP I-LOC',\n",
       " 'at IN I-PP O',\n",
       " 'Murrayfield NNP I-NP I-LOC',\n",
       " 'more JJR I-ADJP O',\n",
       " 'than IN I-PP O',\n",
       " 'a DT I-NP O',\n",
       " 'year NN I-NP O',\n",
       " 'after IN I-PP O',\n",
       " 'the DT I-NP O',\n",
       " '30-year-old JJ I-NP O',\n",
       " 'wing NN I-NP O',\n",
       " 'announced VBD I-VP O',\n",
       " 'he PRP I-NP O',\n",
       " 'was VBD I-VP O',\n",
       " 'retiring VBG I-VP O',\n",
       " 'following VBG I-PP O',\n",
       " 'differences NNS I-NP O',\n",
       " 'over IN I-PP O',\n",
       " 'selection NN I-NP O',\n",
       " '. . O O',\n",
       " '',\n",
       " 'Cuttitta NNP I-NP I-PER',\n",
       " ', , O O',\n",
       " 'who WP I-NP O',\n",
       " 'trainer NN I-NP O',\n",
       " 'George NNP I-NP I-PER',\n",
       " 'Coste NNP I-NP I-PER',\n",
       " 'said VBD I-VP O',\n",
       " 'was VBD B-VP O',\n",
       " 'certain JJ I-ADJP O',\n",
       " 'to TO I-VP O',\n",
       " 'play VB I-VP O',\n",
       " 'on IN I-PP O',\n",
       " 'Saturday NNP I-NP O',\n",
       " 'week NN I-NP O',\n",
       " ', , O O',\n",
       " 'was VBD I-VP O',\n",
       " 'named VBN I-VP O',\n",
       " 'in IN I-PP O',\n",
       " 'a DT I-NP O',\n",
       " '21-man JJ I-NP O',\n",
       " 'squad NN I-NP O',\n",
       " 'lacking VBG I-VP O',\n",
       " 'only RB I-NP O',\n",
       " 'two CD I-NP O',\n",
       " 'of IN I-PP O',\n",
       " 'the DT I-NP O',\n",
       " 'team NN I-NP O',\n",
       " 'beaten VBN I-VP O',\n",
       " '54-21 JJ I-ADJP O',\n",
       " 'by IN I-PP O',\n",
       " 'England NNP I-NP I-LOC',\n",
       " 'at IN I-PP O',\n",
       " 'Twickenham NNP I-NP I-LOC',\n",
       " 'last JJ B-NP O',\n",
       " 'month NN I-NP O',\n",
       " '. . O O',\n",
       " '',\n",
       " 'Stefano NNP I-NP I-PER',\n",
       " 'Bordon NNP I-NP I-PER',\n",
       " 'is VBZ I-VP O',\n",
       " 'out RP I-PRT O',\n",
       " 'through IN I-PP O',\n",
       " 'illness NN I-NP O',\n",
       " 'and CC O O',\n",
       " 'Coste NNP I-NP I-PER',\n",
       " 'said VBD I-VP O',\n",
       " 'he PRP I-NP O',\n",
       " 'had VBD I-VP O',\n",
       " 'dropped VBN I-VP O',\n",
       " 'back RB I-ADVP O',\n",
       " 'row NN I-NP O',\n",
       " 'Corrado NNP B-NP I-PER',\n",
       " 'Covi NNP I-NP I-PER',\n",
       " ', , O O',\n",
       " 'who WP I-NP O',\n",
       " 'had VBD I-VP O',\n",
       " 'been VBN I-VP O',\n",
       " 'recalled VBD B-VP O',\n",
       " 'for IN I-PP O',\n",
       " 'the DT I-NP O',\n",
       " 'England NNP I-NP I-LOC',\n",
       " 'game NN I-NP O',\n",
       " 'after IN I-PP O',\n",
       " 'five CD I-NP O',\n",
       " 'years NNS I-NP O',\n",
       " 'out IN I-PP O',\n",
       " 'of IN B-PP O',\n",
       " 'the DT I-NP O',\n",
       " 'national JJ I-NP O',\n",
       " 'team NN I-NP O',\n",
       " '. . O O',\n",
       " '',\n",
       " 'Cuttitta NNP I-NP I-PER',\n",
       " 'announced VBD I-VP O',\n",
       " 'his PRP$ I-NP O',\n",
       " 'retirement NN I-NP O',\n",
       " 'after IN I-PP O',\n",
       " 'the DT I-NP O',\n",
       " '1995 CD I-NP I-MISC',\n",
       " 'World NNP I-NP I-MISC',\n",
       " 'Cup NNP I-NP I-MISC',\n",
       " ', , O O',\n",
       " 'where WRB I-ADVP O',\n",
       " 'he PRP I-NP O',\n",
       " 'took VBD I-VP O',\n",
       " 'issue NN I-NP O',\n",
       " 'with IN I-PP O',\n",
       " 'being VBG I-VP O',\n",
       " 'dropped VBN I-VP O',\n",
       " 'from IN I-PP O',\n",
       " 'the DT I-NP O',\n",
       " 'Italy NNP I-NP I-LOC',\n",
       " 'side NN I-NP O',\n",
       " 'that WDT B-NP O',\n",
       " 'faced VBD I-VP O',\n",
       " 'England NNP I-NP I-LOC',\n",
       " 'in IN I-PP O',\n",
       " 'the DT I-NP O',\n",
       " 'pool NN I-NP O',\n",
       " 'stages NNS I-NP O',\n",
       " '. . O O',\n",
       " '',\n",
       " 'Coste NNP I-NP I-PER',\n",
       " 'said VBD I-VP O',\n",
       " 'he PRP I-NP O',\n",
       " 'had VBD I-VP O',\n",
       " 'approached VBN I-VP O',\n",
       " 'the DT I-NP O',\n",
       " 'player NN I-NP O',\n",
       " 'two CD B-NP O',\n",
       " 'months NNS I-NP O',\n",
       " 'ago RB I-ADVP O',\n",
       " 'about RB I-NP O',\n",
       " 'a DT I-NP O',\n",
       " 'comeback NN I-NP O',\n",
       " '. . O O',\n",
       " '',\n",
       " '\" \" O O',\n",
       " 'He PRP I-NP O',\n",
       " 'ended VBD I-VP O',\n",
       " 'the DT I-NP O',\n",
       " 'World NNP I-NP I-MISC',\n",
       " 'Cup NNP I-NP I-MISC',\n",
       " 'on IN I-PP O',\n",
       " 'the DT I-NP O',\n",
       " 'wrong JJ I-NP O',\n",
       " 'note NN I-NP O',\n",
       " ', , O O',\n",
       " '\" \" O O',\n",
       " 'Coste NNP I-NP I-PER',\n",
       " 'said VBD I-VP O',\n",
       " '. . O O',\n",
       " '',\n",
       " '\" \" O O',\n",
       " 'I PRP I-NP O',\n",
       " 'thought VBD I-VP O',\n",
       " 'it PRP I-NP O',\n",
       " 'would MD I-VP O',\n",
       " 'be VB I-VP O',\n",
       " 'useful JJ I-ADJP O',\n",
       " 'to TO I-VP O',\n",
       " 'have VB I-VP O',\n",
       " 'him PRP I-NP O',\n",
       " 'back RB I-ADVP O',\n",
       " 'and CC O O',\n",
       " 'he PRP I-NP O',\n",
       " 'said VBD I-VP O',\n",
       " 'he PRP I-NP O',\n",
       " 'would MD I-VP O',\n",
       " 'be VB I-VP O',\n",
       " 'available JJ I-ADJP O',\n",
       " '. . O O',\n",
       " '',\n",
       " 'I PRP I-NP O',\n",
       " 'think VBP I-VP O',\n",
       " 'now RB I-VP O',\n",
       " 'is VBZ I-VP O',\n",
       " 'the DT I-NP O',\n",
       " 'right JJ I-NP O',\n",
       " 'time NN I-NP O',\n",
       " 'for IN I-SBAR O',\n",
       " 'him PRP I-NP O',\n",
       " 'to TO I-VP O',\n",
       " 'return VB I-VP O',\n",
       " '. . O O',\n",
       " '\" \" O O',\n",
       " '',\n",
       " 'Squad VB I-VP O',\n",
       " ': : O O',\n",
       " 'Javier NNP I-NP I-PER',\n",
       " 'Pertile NNP I-NP I-PER',\n",
       " ', , O O',\n",
       " 'Paolo NNP I-NP I-PER',\n",
       " 'Vaccari NNP I-NP I-PER',\n",
       " ', , O O',\n",
       " 'Marcello NNP I-NP I-PER',\n",
       " 'Cuttitta NNP I-NP I-PER',\n",
       " ', , O O',\n",
       " 'Ivan NNP I-NP I-PER',\n",
       " 'Francescato NNP I-NP I-PER',\n",
       " ', , O O',\n",
       " 'Leandro NNP I-NP I-PER',\n",
       " 'Manteri NNP I-NP I-PER',\n",
       " ', , O O',\n",
       " 'Diego NNP I-NP I-PER',\n",
       " 'Dominguez NNP I-NP I-PER',\n",
       " ', , O O',\n",
       " 'Francesco NNP I-NP I-PER',\n",
       " 'Mazzariol NNP I-NP I-PER',\n",
       " ', , O O',\n",
       " 'Alessandro NNP I-NP I-PER',\n",
       " 'Troncon NNP I-NP I-PER',\n",
       " ', , O O',\n",
       " 'Orazio NNP I-NP I-PER',\n",
       " 'Arancio NNP I-NP I-PER',\n",
       " ', , O O',\n",
       " 'Andrea NNP I-NP I-PER',\n",
       " 'Sgorlon NNP I-NP I-PER',\n",
       " ', , O O',\n",
       " 'Massimo NNP I-NP I-PER',\n",
       " 'Giovanelli NNP I-NP I-PER',\n",
       " ', , O O',\n",
       " 'Carlo NNP I-NP I-PER',\n",
       " 'Checchinato NNP I-NP I-PER',\n",
       " ', , O O',\n",
       " 'Walter NNP I-NP I-PER',\n",
       " 'Cristofoletto NNP I-NP I-PER',\n",
       " ', , O O',\n",
       " 'Franco NNP I-NP I-PER',\n",
       " 'Properzi NNP I-NP I-PER',\n",
       " 'Curti NNP I-NP I-PER',\n",
       " ', , O O',\n",
       " 'Carlo NNP I-NP I-PER',\n",
       " 'Orlandi NNP I-NP I-PER',\n",
       " ', , O O',\n",
       " 'Massimo NNP I-NP I-PER',\n",
       " 'Cuttitta NNP I-NP I-PER',\n",
       " ', , O O',\n",
       " 'Giambatista NNP I-NP I-PER',\n",
       " 'Croci NNP I-NP I-PER',\n",
       " ', , O O',\n",
       " 'Gianluca NNP I-NP I-PER',\n",
       " 'Guidi NNP I-NP I-PER',\n",
       " ', , O O',\n",
       " 'Nicola NNP I-NP I-PER',\n",
       " 'Mazzucato NNP I-NP I-PER',\n",
       " ', , O O',\n",
       " 'Alessandro NNP I-NP I-PER',\n",
       " 'Moscardi NNP I-NP I-PER',\n",
       " ', , O O',\n",
       " 'Andrea NNP I-NP I-PER',\n",
       " 'Castellani NNP I-NP I-PER',\n",
       " '. . O O',\n",
       " '',\n",
       " '-DOCSTART- -X- -X- O',\n",
       " '',\n",
       " 'SOCCER NN I-NP O',\n",
       " '- : O O',\n",
       " 'LATE JJ I-NP O',\n",
       " 'GOALS NNS I-NP O',\n",
       " 'GIVE VBP I-VP O',\n",
       " 'JAPAN NNP I-NP I-LOC',\n",
       " 'WIN NNP I-NP O',\n",
       " 'OVER IN I-PP O',\n",
       " 'SYRIA NNP I-NP I-LOC',\n",
       " '. . O O',\n",
       " '',\n",
       " 'AL-AIN NNP I-NP I-LOC',\n",
       " ', , O O',\n",
       " 'United NNP I-NP I-LOC',\n",
       " 'Arab NNP I-NP I-LOC',\n",
       " 'Emirates NNPS I-NP I-LOC',\n",
       " '1996-12-06 CD I-NP O',\n",
       " '',\n",
       " 'Two CD I-NP O',\n",
       " 'goals NNS I-NP O',\n",
       " 'in IN I-PP O',\n",
       " 'the DT I-NP O',\n",
       " 'last JJ I-NP O',\n",
       " 'six CD I-NP O',\n",
       " 'minutes NNS I-NP O',\n",
       " 'gave VBD I-VP O',\n",
       " 'holders NNS I-NP O',\n",
       " 'Japan NNP I-NP I-LOC',\n",
       " 'an DT B-NP O',\n",
       " 'uninspiring JJ I-NP O',\n",
       " '2-1 CD I-NP O',\n",
       " 'Asian NNP I-NP I-MISC',\n",
       " 'Cup NNP I-NP I-MISC',\n",
       " 'victory NN I-NP O',\n",
       " 'over IN I-PP O',\n",
       " 'Syria NNP I-NP I-LOC',\n",
       " 'on IN I-PP O',\n",
       " 'Friday NNP I-NP O',\n",
       " '. . O O',\n",
       " '',\n",
       " 'Takuya NNP I-NP I-PER',\n",
       " 'Takagi NNP I-NP I-PER',\n",
       " 'headed VBD I-VP O',\n",
       " 'the DT I-NP O',\n",
       " 'winner NN I-NP O',\n",
       " 'in IN I-PP O',\n",
       " 'the DT I-NP O',\n",
       " '88th JJ I-NP O',\n",
       " 'minute NN I-NP O',\n",
       " 'of IN I-PP O',\n",
       " 'the DT I-NP O',\n",
       " 'group NN I-NP O',\n",
       " 'C NNP I-NP O',\n",
       " 'game NN I-NP O',\n",
       " 'after IN I-PP O',\n",
       " 'goalkeeper NN I-NP O',\n",
       " 'Salem NNP I-NP I-PER',\n",
       " 'Bitar NNP I-NP I-PER',\n",
       " 'spoiled JJ I-NP O',\n",
       " 'a DT I-NP O',\n",
       " 'mistake-free NN I-NP O',\n",
       " 'display NN I-NP O',\n",
       " 'by IN I-PP O',\n",
       " 'allowing VBG I-VP O',\n",
       " 'the DT I-NP O',\n",
       " 'ball NN I-NP O',\n",
       " 'to TO I-VP O',\n",
       " 'slip VB I-VP O',\n",
       " 'under IN I-PP O',\n",
       " 'his PRP$ I-NP O',\n",
       " 'body NN I-NP O',\n",
       " '. . O O',\n",
       " '',\n",
       " 'It PRP I-NP O',\n",
       " 'was VBD I-VP O',\n",
       " 'the DT I-NP O',\n",
       " 'second JJ I-NP O',\n",
       " 'Syrian JJ I-NP I-MISC',\n",
       " 'defensive JJ I-NP O',\n",
       " 'blunder NN I-NP O',\n",
       " 'in IN I-PP O',\n",
       " 'four CD I-NP O',\n",
       " 'minutes NNS I-NP O',\n",
       " '. . O O',\n",
       " '',\n",
       " 'Defender NNP I-NP O',\n",
       " 'Hassan NNP I-NP I-PER',\n",
       " 'Abbas NNP I-NP I-PER',\n",
       " 'rose VBD I-VP O',\n",
       " 'to TO I-VP O',\n",
       " 'intercept VB I-VP O',\n",
       " 'a DT I-NP O',\n",
       " 'long JJ I-NP O',\n",
       " 'ball NN I-NP O',\n",
       " 'into IN I-PP O',\n",
       " 'the DT I-NP O',\n",
       " 'area NN I-NP O',\n",
       " 'in IN I-PP O',\n",
       " 'the DT I-NP O',\n",
       " '84th JJ I-NP O',\n",
       " 'minute NN I-NP O',\n",
       " 'but CC O O',\n",
       " 'only RB I-ADVP O',\n",
       " 'managed VBD I-VP O',\n",
       " 'to TO I-VP O',\n",
       " 'divert VB I-VP O',\n",
       " 'it PRP I-NP O',\n",
       " 'into IN I-PP O',\n",
       " 'the DT I-NP O',\n",
       " 'top JJ I-NP O',\n",
       " 'corner NN I-NP O',\n",
       " 'of IN I-PP O',\n",
       " 'Bitar NN I-NP I-PER',\n",
       " \"'s POS B-NP O\",\n",
       " 'goal NN I-NP O',\n",
       " '. . O O',\n",
       " '',\n",
       " 'Syria NNP I-NP I-LOC',\n",
       " 'had VBD I-VP O',\n",
       " 'taken VBN I-VP O',\n",
       " 'the DT I-NP O',\n",
       " 'lead NN I-NP O',\n",
       " 'from IN I-PP O',\n",
       " 'their PRP$ I-NP O',\n",
       " 'first JJ I-NP O',\n",
       " 'serious JJ I-NP O',\n",
       " 'attack NN I-NP O',\n",
       " 'in IN I-PP O',\n",
       " 'the DT I-NP O',\n",
       " 'seventh JJ I-NP O',\n",
       " 'minute NN I-NP O',\n",
       " '. . O O',\n",
       " '',\n",
       " 'Nader NNP I-NP I-PER',\n",
       " 'Jokhadar NNP I-NP I-PER',\n",
       " 'headed VBD I-VP O',\n",
       " 'a DT I-NP O',\n",
       " 'cross NN I-NP O',\n",
       " 'from IN I-PP O',\n",
       " 'the DT I-NP O',\n",
       " 'right NN I-NP O',\n",
       " 'by IN I-PP O',\n",
       " 'Ammar NNP I-NP I-PER',\n",
       " 'Awad NNP I-NP I-PER',\n",
       " 'into IN I-PP O',\n",
       " 'the DT I-NP O',\n",
       " 'top JJ I-NP O',\n",
       " 'right NN I-NP O',\n",
       " 'corner NN I-NP O',\n",
       " 'of IN I-PP O',\n",
       " 'Kenichi NNP I-NP I-PER',\n",
       " 'Shimokawa NNP I-NP I-PER',\n",
       " \"'s POS B-NP O\",\n",
       " 'goal NN I-NP O',\n",
       " '. . O O',\n",
       " '',\n",
       " 'Japan NNP I-NP I-LOC',\n",
       " 'then RB I-ADVP O',\n",
       " 'laid VBD I-VP O',\n",
       " 'siege NN I-NP O',\n",
       " 'to TO I-PP O',\n",
       " 'the DT I-NP O',\n",
       " 'Syrian JJ I-NP I-MISC',\n",
       " 'penalty NN I-NP O',\n",
       " 'area NN I-NP O',\n",
       " 'and CC O O',\n",
       " 'had VBD I-VP O',\n",
       " 'a DT I-NP O',\n",
       " 'goal NN I-NP O',\n",
       " 'disallowed VBD I-VP O',\n",
       " 'for IN I-PP O',\n",
       " 'offside NN I-ADVP O',\n",
       " 'in IN I-PP O',\n",
       " 'the DT I-NP O',\n",
       " '16th JJ I-NP O',\n",
       " 'minute NN I-NP O',\n",
       " '. . O O',\n",
       " '',\n",
       " 'A DT I-NP O',\n",
       " 'minute NN I-NP O',\n",
       " 'later RB I-ADVP O',\n",
       " ', , O O',\n",
       " 'Bitar NN I-NP I-PER',\n",
       " 'produced VBD I-VP O',\n",
       " 'a DT I-NP O',\n",
       " 'good JJ I-NP O',\n",
       " 'double JJ I-NP O',\n",
       " 'save VB I-VP O',\n",
       " ', , O O',\n",
       " 'first JJ I-NP O',\n",
       " 'from IN I-PP O',\n",
       " 'Kazuyoshi NNP I-NP I-PER',\n",
       " 'Miura NNP I-NP I-PER',\n",
       " \"'s POS B-NP O\",\n",
       " 'header NN I-NP O',\n",
       " 'and CC O O',\n",
       " 'then RB I-VP O',\n",
       " 'blocked VBN I-VP O',\n",
       " 'a DT I-NP O',\n",
       " 'Takagi NNP I-NP I-PER',\n",
       " 'follow-up JJ I-NP O',\n",
       " 'shot NN I-NP O',\n",
       " '. . O O',\n",
       " '',\n",
       " 'Bitar JJ I-NP I-PER',\n",
       " 'saved JJ I-NP O',\n",
       " 'well NN I-NP O',\n",
       " 'again RB I-ADVP O',\n",
       " 'from IN I-PP O',\n",
       " 'Miura NNP I-NP I-PER',\n",
       " 'in IN I-PP O',\n",
       " 'the DT I-NP O',\n",
       " '37th JJ I-NP O',\n",
       " 'minute NN I-NP O',\n",
       " ', , O O',\n",
       " 'parrying VBG I-VP O',\n",
       " 'away RB I-ADVP O',\n",
       " 'his PRP$ I-NP O',\n",
       " 'header NN I-NP O',\n",
       " 'from IN I-PP O',\n",
       " 'a DT I-NP O',\n",
       " 'corner NN I-NP O',\n",
       " '. . O O',\n",
       " '',\n",
       " 'Japan NNP I-NP I-LOC',\n",
       " 'started VBD I-VP O',\n",
       " 'the DT I-NP O',\n",
       " 'second JJ I-NP O',\n",
       " 'half NN I-NP O',\n",
       " 'brightly RB I-ADVP O',\n",
       " 'but CC O O',\n",
       " 'Bitar NNP I-NP I-PER',\n",
       " 'denied VBD I-VP O',\n",
       " 'them PRP I-NP O',\n",
       " 'an DT B-NP O',\n",
       " 'equaliser NN I-NP O',\n",
       " 'when WRB I-ADVP O',\n",
       " 'he PRP I-NP O',\n",
       " 'dived VBD I-VP O',\n",
       " 'to TO I-PP O',\n",
       " 'his PRP$ I-NP O',\n",
       " 'right NN I-NP O',\n",
       " 'to TO I-VP O',\n",
       " 'save VB I-VP O',\n",
       " 'Naoki NNP I-NP I-PER',\n",
       " 'Soma NNP I-NP I-PER',\n",
       " \"'s POS B-NP O\",\n",
       " 'low JJ I-NP O',\n",
       " 'drive NN I-NP O',\n",
       " 'in IN I-PP O',\n",
       " 'the DT I-NP O',\n",
       " '53rd CD I-NP O',\n",
       " 'minute NN I-NP O',\n",
       " '. . O O',\n",
       " '',\n",
       " 'Japan NNP I-NP I-LOC',\n",
       " ': : O O',\n",
       " '19 CD I-NP O',\n",
       " '- : I-NP O',\n",
       " 'Kenichi NNP I-NP I-PER',\n",
       " 'Shimokawa NNP I-NP I-PER',\n",
       " ', , O O',\n",
       " '2 CD I-NP O',\n",
       " '- : I-NP O',\n",
       " 'Hiroshige NNP I-NP I-PER',\n",
       " 'Yanagimoto NNP I-NP I-PER',\n",
       " ', , O O',\n",
       " '3 CD I-NP O',\n",
       " '- : I-NP O',\n",
       " 'Naoki NNP B-NP I-PER',\n",
       " 'Soma NNP I-NP I-PER',\n",
       " ', , O O',\n",
       " '4 CD I-NP O',\n",
       " '- : I-NP O',\n",
       " ...]"
      ]
     },
     "metadata": {},
     "output_type": "display_data"
    }
   ],
   "source": [
    "test_lines"
   ]
  },
  {
   "cell_type": "code",
   "execution_count": null,
   "metadata": {},
   "outputs": [],
   "source": [
    "def count_sentences(lines):\n",
    "    count=0\n",
    "    for idx,line in enumerate(lines):\n",
    "        if line=='':\n",
    "            count+=1\n",
    "        # case where line start with -DOCSTART\n",
    "        elif line.startswith('-DOCSTART'):\n",
    "            #If reach end of line continue\n",
    "            if idx+1==len(lines):\n",
    "                continue\n",
    "            else:\n",
    "                # If next line followed by -DOCSTART- -X- O O is a newline minus count by 1\n",
    "                if lines[idx+1]=='':\n",
    "                    count-=1\n",
    "    return count"
   ]
  },
  {
   "cell_type": "code",
   "execution_count": null,
   "metadata": {},
   "outputs": [
    {
     "name": "stdout",
     "output_type": "stream",
     "text": [
      "Training File Size: 14041, Development File Size: 3250, Test File Size: 3453.\n"
     ]
    }
   ],
   "source": [
    "train_count = count_sentences(train_lines)\n",
    "dev_count = count_sentences(dev_lines)\n",
    "test_count = count_sentences(test_lines)\n",
    "\n",
    "print(f\"Training File Size: {train_count}, Development File Size: {dev_count}, Test File Size: {test_count}.\" )"
   ]
  },
  {
   "cell_type": "markdown",
   "metadata": {},
   "source": [
    "### b)"
   ]
  },
  {
   "cell_type": "code",
   "execution_count": 10,
   "metadata": {},
   "outputs": [
    {
     "data": {
      "text/plain": [
       "['Germany NNP I-NP I-LOC',\n",
       " \"'s POS B-NP O\",\n",
       " 'representative NN I-NP O',\n",
       " 'to TO I-PP O',\n",
       " 'the DT I-NP O',\n",
       " 'European NNP I-NP I-ORG',\n",
       " 'Union NNP I-NP I-ORG',\n",
       " \"'s POS B-NP O\",\n",
       " 'veterinary JJ I-NP O',\n",
       " 'committee NN I-NP O',\n",
       " 'Werner NNP I-NP I-PER',\n",
       " 'Zwingmann NNP I-NP I-PER',\n",
       " 'said VBD I-VP O',\n",
       " 'on IN I-PP O',\n",
       " 'Wednesday NNP I-NP O',\n",
       " 'consumers NNS I-NP O',\n",
       " 'should MD I-VP O',\n",
       " 'buy VB I-VP O',\n",
       " 'sheepmeat NN I-NP O',\n",
       " 'from IN I-PP O',\n",
       " 'countries NNS I-NP O',\n",
       " 'other JJ I-ADJP O',\n",
       " 'than IN I-PP O',\n",
       " 'Britain NNP I-NP I-LOC',\n",
       " 'until IN I-SBAR O',\n",
       " 'the DT I-NP O',\n",
       " 'scientific JJ I-NP O',\n",
       " 'advice NN I-NP O',\n",
       " 'was VBD I-VP O',\n",
       " 'clearer JJR I-ADJP O',\n",
       " '. . O O']"
      ]
     },
     "execution_count": 10,
     "metadata": {},
     "output_type": "execute_result"
    }
   ],
   "source": [
    "# Fifth sentence in the training data set has at least two named entities with more than one word\n",
    "\n",
    "#Extracting the fifth sentence manually\n",
    "sample_sentence = train_lines[47:78]\n",
    "sample_sentence"
   ]
  },
  {
   "cell_type": "code",
   "execution_count": 11,
   "metadata": {},
   "outputs": [],
   "source": [
    "# Function to form complete named entities from the label for each words and all the named entities in this sentence\n",
    "def form_named_entities(sentence):\n",
    "    words = []\n",
    "    labels = []\n",
    "    for line in sentence:\n",
    "        words.append(line.split()[0])\n",
    "        labels.append(line.split()[-1])\n",
    "    named_entities = []\n",
    "    is_prev_added = False\n",
    "    temp_word=None\n",
    "    for i in range(1, len(labels)):\n",
    "        if (labels[i] == labels[i-1]) and (labels[i-1] != 'O' and labels[i]!= 'O'):\n",
    "            # If nothing was added to named_entities in the previous loop --> Add current word and the word before\n",
    "            if not is_prev_added:\n",
    "                temp_word = ' '.join(words[i-1:i+1])\n",
    "                is_prev_added=True\n",
    "            else:\n",
    "                temp_word = ' '.join([temp_word,words[i]])\n",
    "        else:\n",
    "            if is_prev_added:\n",
    "                named_entities.append(temp_word)\n",
    "            is_prev_added=False\n",
    "    \n",
    "    # Handle edge case where the last few words are named entities\n",
    "    if is_prev_added:\n",
    "        named_entities.append(temp_word)\n",
    "            \n",
    "    return named_entities"
   ]
  },
  {
   "cell_type": "code",
   "execution_count": 12,
   "metadata": {},
   "outputs": [],
   "source": [
    "named_entities = form_named_entities(sample_sentence)"
   ]
  },
  {
   "cell_type": "code",
   "execution_count": 13,
   "metadata": {},
   "outputs": [
    {
     "data": {
      "text/plain": [
       "['European Union', 'Werner Zwingmann']"
      ]
     },
     "execution_count": 13,
     "metadata": {},
     "output_type": "execute_result"
    }
   ],
   "source": [
    "named_entities"
   ]
  },
  {
   "cell_type": "markdown",
   "metadata": {},
   "source": [
    "### Data Preprocessing"
   ]
  },
  {
   "cell_type": "code",
   "execution_count": 3,
   "metadata": {},
   "outputs": [],
   "source": [
    "# read train,val,test file\n",
    "trainSentences = readfile(\"data/eng.train\")\n",
    "devSentences = readfile(\"data/eng.testa\")\n",
    "testSentences = readfile(\"data/eng.testb\")\n",
    "\n",
    "# add character info for each word\n",
    "# e.g --> [['EU', ['E', 'U'], 'B-ORG'], ...]\n",
    "trainSentences = addCharInfo(trainSentences)\n",
    "devSentences = addCharInfo(devSentences)\n",
    "testSentences = addCharInfo(testSentences)\n",
    "\n",
    "\n",
    "\n",
    "labelSet = set()\n",
    "wordSet = set()\n",
    "\n",
    "# unique words and labels in data  \n",
    "for dataset in [trainSentences, devSentences, testSentences]:\n",
    "    for sentence in dataset:\n",
    "        for word, char, label in sentence:\n",
    "            labelSet.add(label)\n",
    "            wordSet.add(word.lower())\n",
    "\n",
    "# mapping for labels\n",
    "label2Idx = {}\n",
    "label2Idx['PADDING_TOKEN'] = 0\n",
    "for label in labelSet:\n",
    "    label2Idx[label] = len(label2Idx)\n",
    "\n",
    "idx2Label = {v: k for k, v in label2Idx.items()}\n",
    "\n",
    "# mapping for cases\n",
    "case2Idx = {'PADDING_TOKEN':0, 'numeric': 1, 'allLower': 2, 'allUpper': 3, 'initialUpper': 4, 'mainly_numeric': 5,\n",
    "            'contains_digit': 6, 'hyphen': 7, 'other': 8}\n",
    "caseEmbeddings = np.identity(len(case2Idx), dtype='float32')  # identity matrix used \n",
    "\n",
    "word2Idx = {}\n",
    "\n",
    "embed_size = len(google_news_vec.vectors[0])\n",
    "\n",
    "# Get all words in the word2vec model\n",
    "w2v_dictionary = list(google_news_vec.key_to_index.keys())\n",
    "\n",
    "wordEmbeddings = []\n",
    "# adding vector for padding token\n",
    "wordEmbeddings.append(np.zeros(embed_size))\n",
    "# adding vector for unknown vector intialised with uniform distribution\n",
    "wordEmbeddings.append(np.random.uniform(-0.25, 0.25, embed_size))\n",
    "\n",
    "word2Idx = {}\n",
    "# add padding+unknown\n",
    "word2Idx[\"PADDING_TOKEN\"] = len(word2Idx)\n",
    "word2Idx[\"UNKNOWN_TOKEN\"] = len(word2Idx)\n",
    "\n",
    "# adding vector for words present in the CoNLL2003 dataset\n",
    "for word in w2v_dictionary:\n",
    "    try:\n",
    "        if word.lower() in wordSet:\n",
    "            embedding_vector = google_news_vec.get_vector(word)\n",
    "            if embedding_vector is not None:\n",
    "                wordEmbeddings.append(embedding_vector)\n",
    "                word2Idx[word] = len(word2Idx)\n",
    "    except Exception as e:\n",
    "        pass\n",
    "\n",
    "wordEmbeddings = np.array(wordEmbeddings)\n",
    "\n",
    "# dictionary of all possible characters\n",
    "char2Idx = {\"PADDING_TOKEN\": 0, \"UNKNOWN_TOKEN\": 1}\n",
    "for c in \" 0123456789abcdefghijklmnopqrstuvwxyzABCDEFGHIJKLMNOPQRSTUVWXYZ.,-_()[]{}!?:;#'\\\"/\\\\%$`&=*+@^~|<>\":\n",
    "    char2Idx[c] = len(char2Idx)\n",
    "\n",
    "# format: [[padded wordindices], [caseindices], [padded char indices], [label indices]]\n",
    "train_set = padding(createMatrices(trainSentences, word2Idx, label2Idx, case2Idx, char2Idx))\n",
    "dev_set = padding(createMatrices(devSentences, word2Idx, label2Idx, case2Idx, char2Idx))\n",
    "test_set = padding(createMatrices(testSentences, word2Idx, label2Idx, case2Idx, char2Idx))\n"
   ]
  },
  {
   "cell_type": "markdown",
   "metadata": {},
   "source": [
    "# Modelling\n",
    "\n",
    "Architecture --> CNN_BLSTM\n",
    "hyperparams to tune --> dropout, dropout_rnn,lstm_hidden_neurons,conv_size,lr"
   ]
  },
  {
   "cell_type": "code",
   "execution_count": 4,
   "metadata": {},
   "outputs": [],
   "source": [
    "# Custom masking layer has to be created to mask padded tokens as normal conv1d,MaxPooling1D and Flatten layer dont support masking\n",
    "class MaskingConv1D(Conv1D):\n",
    "    def __init__(self, **kwargs):\n",
    "        super(MaskingConv1D, self).__init__(**kwargs)\n",
    "        self.supports_masking = True\n",
    "\n",
    "\n",
    "class MaskingMaxPooling1D(MaxPooling1D):\n",
    "    def __init__(self, pool_size, **kwargs):\n",
    "        super(MaskingMaxPooling1D, self).__init__(pool_size, **kwargs)\n",
    "        self.supports_masking = True\n",
    "\n",
    "\n",
    "class MaskingFlatten(Flatten):\n",
    "    def __init__(self, **kwargs):\n",
    "        super(MaskingFlatten, self).__init__(**kwargs)\n",
    "        self.supports_masking = True"
   ]
  },
  {
   "cell_type": "code",
   "execution_count": 5,
   "metadata": {},
   "outputs": [],
   "source": [
    "\"\"\"Initialise class\"\"\"\n",
    "\n",
    "class CNN_BLSTM(object):\n",
    "    \n",
    "    def __init__(self,epochs, dropout, dropout_rnn, lstm_hidden_neurons, conv_size, lr, optimizer,batch_size):\n",
    "        \n",
    "        self.epochs = epochs\n",
    "        self.dropout = dropout\n",
    "        self.dropout_rnn = dropout_rnn\n",
    "        self.lstm_hidden_neurons = lstm_hidden_neurons\n",
    "        self.conv_size = conv_size\n",
    "        self.lr = lr\n",
    "        self.optimizer = optimizer\n",
    "        self.batch_size = batch_size\n",
    "        self.run_time = 0\n",
    "        \n",
    "    \n",
    "    def buildModel(self,wordEmbeddings,caseEmbeddings,char2Idx,label2Idx):\n",
    "        \"\"\"Model layers\"\"\"\n",
    "\n",
    "        # character input,embedding\n",
    "        character_input = Input(shape=(None, 52,), name=\"Character_input\")\n",
    "        character_input = Masking(mask_value=0)(character_input)\n",
    "        embed_char_out = TimeDistributed(\n",
    "            Embedding(len(char2Idx), 30, embeddings_initializer=RandomUniform(minval=-0.5, maxval=0.5)),name=\"Character_embedding\")(\n",
    "            character_input)\n",
    "        \n",
    "        dropout = Dropout(self.dropout)(embed_char_out)\n",
    "\n",
    "        # CNN\n",
    "        conv1d_out = TimeDistributed(MaskingConv1D(kernel_size=self.conv_size, filters=30, padding='same', activation='relu', strides=1), name=\"Convolution\")(dropout)\n",
    "        maxpool_out = TimeDistributed(MaskingMaxPooling1D(pool_size=52), name=\"Maxpool\")(conv1d_out)\n",
    "        char = TimeDistributed(MaskingFlatten(), name=\"Flatten\")(maxpool_out)\n",
    "        char = Dropout(self.dropout)(char)\n",
    "\n",
    "        # word-level input, embedding\n",
    "        words_input = Input(shape=(124,), dtype='int32', name='words_input')\n",
    "        words_input = Masking(mask_value=0)(words_input)\n",
    "\n",
    "        words = Embedding(input_dim=wordEmbeddings.shape[0], output_dim=wordEmbeddings.shape[1], weights=[wordEmbeddings],\n",
    "                          trainable=False)(words_input)\n",
    "\n",
    "        # case-level input,embedding\n",
    "        casing_input = Input(shape=(124,), dtype='int32', name='casing_input')\n",
    "        casing_input = Masking(mask_value=0)(casing_input)\n",
    "        casing = Embedding(input_dim=caseEmbeddings.shape[0],output_dim=caseEmbeddings.shape[1], weights=[caseEmbeddings],\n",
    "                           trainable=False)(casing_input)\n",
    "\n",
    "        # concat &  pass to BLSTM\n",
    "        output = concatenate([words, casing, char])\n",
    "        output = Bidirectional(LSTM(self.lstm_hidden_neurons, \n",
    "                                    return_sequences=True, \n",
    "                                    dropout=self.dropout,                        # on input to each LSTM block\n",
    "                                    recurrent_dropout=self.dropout_rnn     # on recurrent input signal\n",
    "                                   ), name=\"BLSTM\")(output)\n",
    "        \n",
    "        # Fully connected layer with softmax activation\n",
    "        output = TimeDistributed(Dense(len(label2Idx), activation='softmax'),name=\"Softmax_layer\")(output)\n",
    "\n",
    "        self.model = Model(inputs=[words_input, casing_input, character_input], outputs=[output])\n",
    "        \n",
    "        # compile model\n",
    "        self.model.compile(loss='sparse_categorical_crossentropy', optimizer=self.optimizer)\n",
    "        \n",
    "        self.init_weights = self.model.get_weights()\n",
    "        \n",
    "        plot_model(self.model, to_file='model.png')\n",
    "        \n",
    "        print(\"Model built. Saved model.png\\n\")\n",
    "\n",
    "\n",
    "        \n",
    "    def train(self,train_set,dev_set,early_stopper):\n",
    "        \"\"\"Default training\"\"\"\n",
    "\n",
    "        def index_to_tag(index):\n",
    "            return idx2Label[index]\n",
    "        \n",
    "        self.f1_devs = []\n",
    "        max_f1 = -1\n",
    "        for epoch in range(self.epochs):    \n",
    "            print(\"Epoch {}/{}\".format(epoch, self.epochs))\n",
    "            epoch_start = time.time()\n",
    "            random.shuffle(train_set)\n",
    "\n",
    "            for batch_gen in batchGenerator(train_set,batch_size=self.batch_size):\n",
    "                words,cases,chars,labels = batch_gen\n",
    "                self.model.train_on_batch([words,cases,chars],labels)\n",
    "            \n",
    "            batch_f1_devs = []\n",
    "            for batch_gen in batchGenerator(dev_set,batch_size=self.batch_size):\n",
    "                words,cases,chars,labels = batch_gen\n",
    "                preds = self.model.predict_on_batch([words,cases,chars])\n",
    "                preds = preds.argmax(axis=-1)\n",
    "\n",
    "                # Convert class labels back to tag label to use seqeval f1_score\n",
    "                idx2label_vec = np.vectorize(index_to_tag)\n",
    "                preds = idx2label_vec(preds).tolist()\n",
    "                labels = idx2label_vec(labels).tolist()\n",
    "\n",
    "                # Ignore padded_tokens during evaluation of f1_score\n",
    "                non_padded_preds = []\n",
    "                non_padded_labels = []\n",
    "                for idx_1,sentence in enumerate(labels):\n",
    "                    # padding token corresponds to class 0\n",
    "                    non_padded_pred = []\n",
    "                    non_padded_label = []\n",
    "                    for idx_2,token in  enumerate(sentence):\n",
    "                        if token!=\"PADDING_TOKEN\" and preds[idx_1][idx_2]!='PADDING_TOKEN':\n",
    "                            non_padded_pred.append(preds[idx_1][idx_2])\n",
    "                            non_padded_label.append(labels[idx_1][idx_2])\n",
    "                    non_padded_preds.append(non_padded_pred)\n",
    "                    non_padded_labels.append(non_padded_label)\n",
    "\n",
    "                # Calculate using seqeval f1_score\n",
    "                batch_f1_devs.append(f1_score(non_padded_labels,non_padded_preds,scheme=IOB1))\n",
    "\n",
    "            f1_dev = np.average(batch_f1_devs)\n",
    "\n",
    "            # Add time taken for each epoch\n",
    "            self.run_time+=(time.time()-epoch_start)\n",
    "\n",
    "            # Save the best model weight\n",
    "            if f1_dev>max_f1:\n",
    "                max_f1 =f1_dev\n",
    "                # save model\n",
    "                self.modelName = \"{}_{}_{}_{}_{}_{}_{}_{}\".format(self.epochs, \n",
    "                                                                self.dropout, \n",
    "                                                                self.dropout_rnn, \n",
    "                                                                self.lstm_hidden_neurons,\n",
    "                                                                self.conv_size,\n",
    "                                                                self.lr,\n",
    "                                                                self.batch_size,\n",
    "                                                                self.optimizer.__class__.__name__\n",
    "                                                            )\n",
    "                \n",
    "                modelName = self.modelName + \".h5\"\n",
    "                self.model.save(f\"./model_weights/{modelName}\")\n",
    "                print(\"Model weights saved.\")\n",
    "\n",
    "            self.f1_devs.append(f1_dev)\n",
    "            print(\"f1 dev \", round(f1_dev, 4), \"\\n\")\n",
    "            \n",
    "            if early_stopper.early_stop(f1_dev):\n",
    "                print('Early Stopping!')\n",
    "                break\n",
    "\n",
    "        print(\"Training finished.\")"
   ]
  },
  {
   "cell_type": "markdown",
   "metadata": {},
   "source": [
    "### Tuning with Optuna\n",
    "\n",
    "- Use optuna to guide tuning of parameters\n",
    "    - Which parameter is most important to tune?\n",
    "    - Which direction to tune?"
   ]
  },
  {
   "cell_type": "code",
   "execution_count": 9,
   "metadata": {},
   "outputs": [
    {
     "name": "stderr",
     "output_type": "stream",
     "text": [
      "/opt/anaconda3/envs/CZ4045/lib/python3.10/site-packages/tqdm/auto.py:21: TqdmWarning: IProgress not found. Please update jupyter and ipywidgets. See https://ipywidgets.readthedocs.io/en/stable/user_install.html\n",
      "  from .autonotebook import tqdm as notebook_tqdm\n"
     ]
    }
   ],
   "source": [
    "import optuna"
   ]
  },
  {
   "cell_type": "code",
   "execution_count": 40,
   "metadata": {},
   "outputs": [],
   "source": [
    "# model creation\n",
    "def create_model(trial):\n",
    "\n",
    "    # Hyperparameters to tune\n",
    "    dropout = trial.suggest_float(\"dropout\",0.2,0.7,step=0.1)\n",
    "    conv_size = trial.suggest_int(\"conv_size\",1,9,step=2)\n",
    "    lstm_hidden_neurons = trial.suggest_int('lstm_hidden_neurons',128,256,step=16)\n",
    "\n",
    "# character input,embedding\n",
    "    character_input = Input(shape=(None, 52,), name=\"Character_input\")\n",
    "    character_input = Masking(mask_value=0)(character_input)\n",
    "    embed_char_out = TimeDistributed(\n",
    "        Embedding(len(char2Idx), 30, embeddings_initializer=RandomUniform(minval=-0.5, maxval=0.5)),name=\"Character_embedding\")(\n",
    "        character_input)\n",
    "    embed_output = Dropout(dropout)(embed_char_out)\n",
    "\n",
    "    # CNN\n",
    "    conv1d_out = TimeDistributed(MaskingConv1D(kernel_size=conv_size, filters=30, padding='same', activation='relu', strides=1), name=\"Convolution\")(embed_output)\n",
    "    maxpool_out = TimeDistributed(MaskingMaxPooling1D(52), name=\"Maxpool\")(conv1d_out)\n",
    "    char = TimeDistributed(MaskingFlatten(), name=\"Flatten\")(maxpool_out)\n",
    "    char = Dropout(dropout)(char)\n",
    "\n",
    "    # word-level input, embedding\n",
    "    words_input = Input(shape=(124,), dtype='int32', name='words_input')\n",
    "    words_input = Masking(mask_value=0)(words_input)\n",
    "    words = Embedding(input_dim=wordEmbeddings.shape[0], output_dim=wordEmbeddings.shape[1], weights=[wordEmbeddings],\n",
    "                        trainable=False)(words_input)\n",
    "\n",
    "    # case-level input,embedding\n",
    "    casing_input = Input(shape=(124,), dtype='int32', name='casing_input')\n",
    "    casing_input = Masking(mask_value=0)(casing_input)\n",
    "    casing = Embedding(input_dim=caseEmbeddings.shape[0],output_dim=caseEmbeddings.shape[1], weights=[caseEmbeddings],\n",
    "                        trainable=False)(casing_input)\n",
    "\n",
    "    # concat &  pass to BLSTM\n",
    "    output = concatenate([words, casing, char])\n",
    "    dropout_rnn = trial.suggest_float('dropout_rnn',0.1,0.6,step=0.1)\n",
    "    output = Bidirectional(LSTM(lstm_hidden_neurons, \n",
    "                                return_sequences=True, \n",
    "                                dropout=dropout,                        # on input to each LSTM block\n",
    "                                recurrent_dropout=dropout_rnn     # on recurrent input signal\n",
    "                                ), name=\"BLSTM\")(output)\n",
    "    \n",
    "    # Fully connected layer with softmax activation\n",
    "    output = TimeDistributed(Dense(len(label2Idx), activation='softmax'),name=\"Softmax_layer\")(output)\n",
    "\n",
    "    model = Model(inputs=[words_input, casing_input, character_input], outputs=[output])    \n",
    "    \n",
    "    return model"
   ]
  },
  {
   "cell_type": "code",
   "execution_count": 41,
   "metadata": {},
   "outputs": [],
   "source": [
    "def create_optimizer(trial):\n",
    "    kwargs = {}\n",
    "    optimizer_selected = \"Nadam\"\n",
    "    kwargs[\"learning_rate\"] = trial.suggest_float(\"Nadam_learning_rate\", 1e-3, 1e-1, log=True)\n",
    "\n",
    "    optimizer = getattr(tf.optimizers, optimizer_selected)(**kwargs)\n",
    "    return optimizer    "
   ]
  },
  {
   "cell_type": "code",
   "execution_count": 44,
   "metadata": {},
   "outputs": [],
   "source": [
    "def objective(trial):\n",
    "    epochs = 50\n",
    "    # Generate our trial model.\n",
    "    model = create_model(trial)\n",
    "    # Generate the trial optimizer\n",
    "    optimizer = create_optimizer(trial)\n",
    "    \n",
    "    # compile model\n",
    "    model.compile(loss='sparse_categorical_crossentropy', optimizer=optimizer)\n",
    "    early_stopper = EarlyStopper(patience=5)\n",
    "\n",
    "    def index_to_tag(index):\n",
    "        return idx2Label[index]\n",
    "    \n",
    "    max_f1 = -1\n",
    "    for epoch in range(epochs):    \n",
    "        random.shuffle(train_set)\n",
    "        # train_batches = split_batch(train_set,batch_size=128)\n",
    "        # for batch in train_batches:\n",
    "        for batch_gen in batchGenerator(train_set,batch_size=128):\n",
    "            words,cases,chars,labels = batch_gen\n",
    "            model.train_on_batch([words,cases,chars],labels)\n",
    "        \n",
    "        batch_f1_devs = []\n",
    "        # dev_batches = split_batch(dev_set,batch_size=128)\n",
    "        # for batch in dev_batches:\n",
    "        for batch_gen in batchGenerator(dev_set,batch_size=128):\n",
    "            words,cases,chars,labels = batch_gen\n",
    "            preds = model.predict_on_batch([words,cases,chars])\n",
    "            preds = preds.argmax(axis=-1)\n",
    "\n",
    "            # Convert class labels back to tag label to use seqeval f1_score\n",
    "            idx2label_vec = np.vectorize(index_to_tag)\n",
    "            preds = idx2label_vec(preds).tolist()\n",
    "            labels = idx2label_vec(labels).tolist()\n",
    "\n",
    "            # Ignore padded_tokens during evaluation of f1_score\n",
    "            non_padded_preds = []\n",
    "            non_padded_labels = []\n",
    "            for idx_1,sentence in enumerate(labels):\n",
    "                # padding token corresponds to class 0\n",
    "                non_padded_pred = []\n",
    "                non_padded_label = []\n",
    "                for idx_2,token in  enumerate(sentence):\n",
    "                    if token!=\"PADDING_TOKEN\" and preds[idx_1][idx_2]!='PADDING_TOKEN':\n",
    "                        non_padded_pred.append(preds[idx_1][idx_2])\n",
    "                        non_padded_label.append(labels[idx_1][idx_2])\n",
    "                non_padded_preds.append(non_padded_pred)\n",
    "                non_padded_labels.append(non_padded_label)\n",
    "\n",
    "            # Calculate using seqeval f1_score\n",
    "            batch_f1_devs.append(f1_score(non_padded_labels,non_padded_preds,scheme=IOB1))\n",
    "\n",
    "        f1_dev = np.average(batch_f1_devs)\n",
    "        if f1_dev>max_f1:\n",
    "            max_f1=f1_dev\n",
    "\n",
    "        if early_stopper.early_stop(f1_dev):\n",
    "            break\n",
    "            \n",
    "    # Evaluate the model accuracy on the validation set.\n",
    "    return max_f1"
   ]
  },
  {
   "cell_type": "code",
   "execution_count": 11,
   "metadata": {},
   "outputs": [],
   "source": [
    "from sqlalchemy import create_engine\n",
    "# create sqlite db to store optuna results \n",
    "engine = create_engine('sqlite:///cnn_blstm.db')\n",
    "\n",
    "storage_url = 'sqlite:///cnn_blstm.db'\n",
    "study_name = 'cnn_blstm'"
   ]
  },
  {
   "cell_type": "code",
   "execution_count": 46,
   "metadata": {},
   "outputs": [
    {
     "name": "stderr",
     "output_type": "stream",
     "text": [
      "[I 2023-11-02 20:32:48,672] A new study created in RDB with name: cnn_blstm\n",
      "[I 2023-11-02 23:00:48,634] Trial 0 finished with value: 0.9182110813007468 and parameters: {'dropout': 0.6000000000000001, 'conv_size': 1, 'lstm_hidden_neurons': 128, 'dropout_rnn': 0.30000000000000004, 'Nadam_learning_rate': 0.001945698397030893}. Best is trial 0 with value: 0.9182110813007468.\n",
      "[I 2023-11-03 00:26:23,094] Trial 1 finished with value: 0.9159688030825571 and parameters: {'dropout': 0.6000000000000001, 'conv_size': 9, 'lstm_hidden_neurons': 160, 'dropout_rnn': 0.2, 'Nadam_learning_rate': 0.008654157022684437}. Best is trial 0 with value: 0.9182110813007468.\n",
      "/opt/anaconda3/envs/CZ4045/lib/python3.10/site-packages/seqeval/metrics/v1.py:159: UndefinedMetricWarning: F-score is ill-defined and being set to 0.0 due to no true nor predicted samples. Use `zero_division` parameter to control this behavior.\n",
      "  _warn_prf(\n",
      "[I 2023-11-03 04:13:38,088] Trial 2 finished with value: 0.0 and parameters: {'dropout': 0.5, 'conv_size': 9, 'lstm_hidden_neurons': 240, 'dropout_rnn': 0.5, 'Nadam_learning_rate': 0.08796564269871396}. Best is trial 0 with value: 0.9182110813007468.\n",
      "[I 2023-11-03 05:37:57,113] Trial 3 finished with value: 0.919074617879443 and parameters: {'dropout': 0.4, 'conv_size': 7, 'lstm_hidden_neurons': 240, 'dropout_rnn': 0.6, 'Nadam_learning_rate': 0.009317855906646752}. Best is trial 3 with value: 0.919074617879443.\n",
      "[I 2023-11-03 08:31:45,775] Trial 4 finished with value: 0.9163462978476543 and parameters: {'dropout': 0.7, 'conv_size': 9, 'lstm_hidden_neurons': 176, 'dropout_rnn': 0.2, 'Nadam_learning_rate': 0.0013540465817030193}. Best is trial 3 with value: 0.919074617879443.\n",
      "[I 2023-11-03 11:22:02,995] Trial 5 finished with value: 0.9168927919258169 and parameters: {'dropout': 0.5, 'conv_size': 1, 'lstm_hidden_neurons': 224, 'dropout_rnn': 0.1, 'Nadam_learning_rate': 0.0013597214856251763}. Best is trial 3 with value: 0.919074617879443.\n",
      "[I 2023-11-03 13:14:23,990] Trial 6 finished with value: 0.9079827420795633 and parameters: {'dropout': 0.2, 'conv_size': 9, 'lstm_hidden_neurons': 144, 'dropout_rnn': 0.1, 'Nadam_learning_rate': 0.0011001610837204294}. Best is trial 3 with value: 0.919074617879443.\n",
      "[I 2023-11-03 14:42:48,842] Trial 7 finished with value: 0.9065777438529854 and parameters: {'dropout': 0.5, 'conv_size': 1, 'lstm_hidden_neurons': 240, 'dropout_rnn': 0.2, 'Nadam_learning_rate': 0.038413483771361584}. Best is trial 3 with value: 0.919074617879443.\n",
      "[I 2023-11-03 16:01:15,171] Trial 8 finished with value: 0.8965181778227941 and parameters: {'dropout': 0.30000000000000004, 'conv_size': 3, 'lstm_hidden_neurons': 256, 'dropout_rnn': 0.4, 'Nadam_learning_rate': 0.051411363336739846}. Best is trial 3 with value: 0.919074617879443.\n",
      "[I 2023-11-03 19:21:12,436] Trial 9 finished with value: 0.92149416767427 and parameters: {'dropout': 0.5, 'conv_size': 1, 'lstm_hidden_neurons': 240, 'dropout_rnn': 0.30000000000000004, 'Nadam_learning_rate': 0.0018189810110010192}. Best is trial 9 with value: 0.92149416767427.\n",
      "[I 2023-11-03 22:12:27,505] Trial 10 finished with value: 0.9225584413593666 and parameters: {'dropout': 0.30000000000000004, 'conv_size': 5, 'lstm_hidden_neurons': 208, 'dropout_rnn': 0.4, 'Nadam_learning_rate': 0.0038067451471712416}. Best is trial 10 with value: 0.9225584413593666.\n",
      "[I 2023-11-03 23:56:32,903] Trial 11 finished with value: 0.9158371144187067 and parameters: {'dropout': 0.30000000000000004, 'conv_size': 5, 'lstm_hidden_neurons': 208, 'dropout_rnn': 0.4, 'Nadam_learning_rate': 0.0030505658967877186}. Best is trial 10 with value: 0.9225584413593666.\n",
      "[I 2023-11-04 02:31:02,381] Trial 12 finished with value: 0.9202793504007066 and parameters: {'dropout': 0.30000000000000004, 'conv_size': 5, 'lstm_hidden_neurons': 192, 'dropout_rnn': 0.30000000000000004, 'Nadam_learning_rate': 0.003483902656594632}. Best is trial 10 with value: 0.9225584413593666.\n",
      "[I 2023-11-04 04:09:01,283] Trial 13 finished with value: 0.9219874292728512 and parameters: {'dropout': 0.4, 'conv_size': 3, 'lstm_hidden_neurons': 208, 'dropout_rnn': 0.5, 'Nadam_learning_rate': 0.004574602290100425}. Best is trial 10 with value: 0.9225584413593666.\n",
      "[I 2023-11-04 06:03:09,063] Trial 14 finished with value: 0.9198012831970668 and parameters: {'dropout': 0.2, 'conv_size': 3, 'lstm_hidden_neurons': 208, 'dropout_rnn': 0.6, 'Nadam_learning_rate': 0.004989923265935394}. Best is trial 10 with value: 0.9225584413593666.\n",
      "[I 2023-11-04 07:35:37,105] Trial 15 finished with value: 0.9177059302279574 and parameters: {'dropout': 0.4, 'conv_size': 3, 'lstm_hidden_neurons': 192, 'dropout_rnn': 0.5, 'Nadam_learning_rate': 0.016358277164616315}. Best is trial 10 with value: 0.9225584413593666.\n",
      "[I 2023-11-04 09:17:20,414] Trial 16 finished with value: 0.919016811659134 and parameters: {'dropout': 0.4, 'conv_size': 7, 'lstm_hidden_neurons': 208, 'dropout_rnn': 0.5, 'Nadam_learning_rate': 0.0046457848635556315}. Best is trial 10 with value: 0.9225584413593666.\n",
      "[I 2023-11-04 10:30:47,935] Trial 17 finished with value: 0.9228248147052618 and parameters: {'dropout': 0.30000000000000004, 'conv_size': 5, 'lstm_hidden_neurons': 176, 'dropout_rnn': 0.4, 'Nadam_learning_rate': 0.005327712884673379}. Best is trial 17 with value: 0.9228248147052618.\n",
      "[I 2023-11-04 12:15:57,906] Trial 18 finished with value: 0.9195537159147433 and parameters: {'dropout': 0.2, 'conv_size': 7, 'lstm_hidden_neurons': 176, 'dropout_rnn': 0.4, 'Nadam_learning_rate': 0.014817708366703337}. Best is trial 17 with value: 0.9228248147052618.\n",
      "[I 2023-11-04 13:53:59,517] Trial 19 finished with value: 0.924534029595758 and parameters: {'dropout': 0.30000000000000004, 'conv_size': 5, 'lstm_hidden_neurons': 160, 'dropout_rnn': 0.4, 'Nadam_learning_rate': 0.006376087299177111}. Best is trial 19 with value: 0.924534029595758.\n",
      "[I 2023-11-04 15:03:00,895] Trial 20 finished with value: 0.9179764035179507 and parameters: {'dropout': 0.30000000000000004, 'conv_size': 7, 'lstm_hidden_neurons': 160, 'dropout_rnn': 0.30000000000000004, 'Nadam_learning_rate': 0.008006755925044951}. Best is trial 19 with value: 0.924534029595758.\n",
      "[I 2023-11-04 16:39:58,456] Trial 21 finished with value: 0.9175715365928057 and parameters: {'dropout': 0.30000000000000004, 'conv_size': 5, 'lstm_hidden_neurons': 176, 'dropout_rnn': 0.4, 'Nadam_learning_rate': 0.0027372557025270457}. Best is trial 19 with value: 0.924534029595758.\n",
      "[I 2023-11-04 18:12:17,287] Trial 22 finished with value: 0.9217565106617484 and parameters: {'dropout': 0.2, 'conv_size': 5, 'lstm_hidden_neurons': 160, 'dropout_rnn': 0.4, 'Nadam_learning_rate': 0.006084178463722258}. Best is trial 19 with value: 0.924534029595758.\n",
      "[I 2023-11-04 19:39:43,809] Trial 23 finished with value: 0.9256837858891689 and parameters: {'dropout': 0.30000000000000004, 'conv_size': 5, 'lstm_hidden_neurons': 144, 'dropout_rnn': 0.5, 'Nadam_learning_rate': 0.006489975373979341}. Best is trial 23 with value: 0.9256837858891689.\n",
      "[I 2023-11-04 20:41:55,734] Trial 24 finished with value: 0.9184539110670956 and parameters: {'dropout': 0.2, 'conv_size': 3, 'lstm_hidden_neurons': 128, 'dropout_rnn': 0.5, 'Nadam_learning_rate': 0.006162558227657151}. Best is trial 23 with value: 0.9256837858891689.\n",
      "[I 2023-11-04 22:03:39,917] Trial 25 finished with value: 0.916849727606732 and parameters: {'dropout': 0.4, 'conv_size': 7, 'lstm_hidden_neurons': 144, 'dropout_rnn': 0.6, 'Nadam_learning_rate': 0.011451303123277207}. Best is trial 23 with value: 0.9256837858891689.\n",
      "[I 2023-11-04 23:11:13,962] Trial 26 finished with value: 0.9200431516269186 and parameters: {'dropout': 0.30000000000000004, 'conv_size': 5, 'lstm_hidden_neurons': 144, 'dropout_rnn': 0.5, 'Nadam_learning_rate': 0.0065885747217932925}. Best is trial 23 with value: 0.9256837858891689.\n",
      "[I 2023-11-04 23:52:01,045] Trial 27 finished with value: 0.9174352339074028 and parameters: {'dropout': 0.30000000000000004, 'conv_size': 5, 'lstm_hidden_neurons': 160, 'dropout_rnn': 0.6, 'Nadam_learning_rate': 0.016065411507342066}. Best is trial 23 with value: 0.9256837858891689.\n",
      "[I 2023-11-05 01:47:37,023] Trial 28 finished with value: 0.9190856593324512 and parameters: {'dropout': 0.2, 'conv_size': 3, 'lstm_hidden_neurons': 144, 'dropout_rnn': 0.5, 'Nadam_learning_rate': 0.0022792759310058487}. Best is trial 23 with value: 0.9256837858891689.\n",
      "[I 2023-11-05 03:30:18,794] Trial 29 finished with value: 0.9188015596384046 and parameters: {'dropout': 0.4, 'conv_size': 7, 'lstm_hidden_neurons': 128, 'dropout_rnn': 0.30000000000000004, 'Nadam_learning_rate': 0.002512313097922246}. Best is trial 23 with value: 0.9256837858891689.\n",
      "[I 2023-11-05 05:24:48,968] Trial 30 finished with value: 0.9220527940155729 and parameters: {'dropout': 0.6000000000000001, 'conv_size': 5, 'lstm_hidden_neurons': 192, 'dropout_rnn': 0.4, 'Nadam_learning_rate': 0.00372047455770729}. Best is trial 23 with value: 0.9256837858891689.\n",
      "[I 2023-11-05 06:48:40,448] Trial 31 finished with value: 0.9210227404808327 and parameters: {'dropout': 0.30000000000000004, 'conv_size': 5, 'lstm_hidden_neurons': 176, 'dropout_rnn': 0.4, 'Nadam_learning_rate': 0.003967432363684629}. Best is trial 23 with value: 0.9256837858891689.\n",
      "[I 2023-11-05 08:15:31,172] Trial 32 finished with value: 0.9179028251595842 and parameters: {'dropout': 0.30000000000000004, 'conv_size': 5, 'lstm_hidden_neurons': 160, 'dropout_rnn': 0.4, 'Nadam_learning_rate': 0.007139972325334626}. Best is trial 23 with value: 0.9256837858891689.\n",
      "[I 2023-11-05 10:06:59,869] Trial 33 finished with value: 0.9215983981102579 and parameters: {'dropout': 0.30000000000000004, 'conv_size': 5, 'lstm_hidden_neurons': 176, 'dropout_rnn': 0.30000000000000004, 'Nadam_learning_rate': 0.005382643650323049}. Best is trial 23 with value: 0.9256837858891689.\n",
      "[I 2023-11-05 11:42:16,900] Trial 34 finished with value: 0.9204231098137284 and parameters: {'dropout': 0.4, 'conv_size': 7, 'lstm_hidden_neurons': 192, 'dropout_rnn': 0.5, 'Nadam_learning_rate': 0.009907845024856317}. Best is trial 23 with value: 0.9256837858891689.\n",
      "[I 2023-11-05 14:00:56,963] Trial 35 finished with value: 0.9215085287964695 and parameters: {'dropout': 0.2, 'conv_size': 5, 'lstm_hidden_neurons': 224, 'dropout_rnn': 0.4, 'Nadam_learning_rate': 0.0033361666048172347}. Best is trial 23 with value: 0.9256837858891689.\n",
      "[I 2023-11-05 15:39:50,687] Trial 36 finished with value: 0.9126178209745228 and parameters: {'dropout': 0.7, 'conv_size': 3, 'lstm_hidden_neurons': 128, 'dropout_rnn': 0.5, 'Nadam_learning_rate': 0.004418846903942078}. Best is trial 23 with value: 0.9256837858891689.\n",
      "[I 2023-11-05 17:43:43,812] Trial 37 finished with value: 0.9173886202611656 and parameters: {'dropout': 0.6000000000000001, 'conv_size': 7, 'lstm_hidden_neurons': 144, 'dropout_rnn': 0.2, 'Nadam_learning_rate': 0.00773349062738113}. Best is trial 23 with value: 0.9256837858891689.\n",
      "[I 2023-11-05 19:11:16,699] Trial 38 finished with value: 0.9181222400525925 and parameters: {'dropout': 0.4, 'conv_size': 5, 'lstm_hidden_neurons': 224, 'dropout_rnn': 0.4, 'Nadam_learning_rate': 0.005887839755903167}. Best is trial 23 with value: 0.9256837858891689.\n",
      "[I 2023-11-05 21:29:35,345] Trial 39 finished with value: 0.9197914219539746 and parameters: {'dropout': 0.5, 'conv_size': 3, 'lstm_hidden_neurons': 160, 'dropout_rnn': 0.30000000000000004, 'Nadam_learning_rate': 0.0020150520465064617}. Best is trial 23 with value: 0.9256837858891689.\n",
      "[I 2023-11-05 22:21:24,717] Trial 40 finished with value: 0.9183960509311148 and parameters: {'dropout': 0.30000000000000004, 'conv_size': 9, 'lstm_hidden_neurons': 176, 'dropout_rnn': 0.5, 'Nadam_learning_rate': 0.009295843550194182}. Best is trial 23 with value: 0.9256837858891689.\n",
      "[I 2023-11-05 23:17:29,457] Trial 41 finished with value: 0.9063923192967278 and parameters: {'dropout': 0.6000000000000001, 'conv_size': 5, 'lstm_hidden_neurons': 192, 'dropout_rnn': 0.4, 'Nadam_learning_rate': 0.0037982435314662575}. Best is trial 23 with value: 0.9256837858891689.\n",
      "[I 2023-11-06 01:15:37,199] Trial 42 finished with value: 0.9161638362488256 and parameters: {'dropout': 0.7, 'conv_size': 5, 'lstm_hidden_neurons': 192, 'dropout_rnn': 0.4, 'Nadam_learning_rate': 0.0030475823335277263}. Best is trial 23 with value: 0.9256837858891689.\n",
      "[I 2023-11-06 03:38:29,995] Trial 43 finished with value: 0.9189344275394712 and parameters: {'dropout': 0.6000000000000001, 'conv_size': 5, 'lstm_hidden_neurons': 208, 'dropout_rnn': 0.4, 'Nadam_learning_rate': 0.003972162860065853}. Best is trial 23 with value: 0.9256837858891689.\n",
      "[I 2023-11-06 05:51:40,517] Trial 44 finished with value: 0.921660572521774 and parameters: {'dropout': 0.5, 'conv_size': 5, 'lstm_hidden_neurons': 176, 'dropout_rnn': 0.30000000000000004, 'Nadam_learning_rate': 0.005078903854414511}. Best is trial 23 with value: 0.9256837858891689.\n",
      "[I 2023-11-06 08:41:31,127] Trial 45 finished with value: 0.9185345667525292 and parameters: {'dropout': 0.30000000000000004, 'conv_size': 5, 'lstm_hidden_neurons': 224, 'dropout_rnn': 0.4, 'Nadam_learning_rate': 0.0032516512050008374}. Best is trial 23 with value: 0.9256837858891689.\n",
      "[I 2023-11-06 10:40:45,142] Trial 46 finished with value: 0.9175107712328336 and parameters: {'dropout': 0.30000000000000004, 'conv_size': 7, 'lstm_hidden_neurons': 160, 'dropout_rnn': 0.2, 'Nadam_learning_rate': 0.0018483837936827251}. Best is trial 23 with value: 0.9256837858891689.\n",
      "[I 2023-11-06 14:29:18,290] Trial 47 finished with value: 0.9211078403331671 and parameters: {'dropout': 0.4, 'conv_size': 3, 'lstm_hidden_neurons': 192, 'dropout_rnn': 0.4, 'Nadam_learning_rate': 0.002613683209365064}. Best is trial 23 with value: 0.9256837858891689.\n",
      "[I 2023-11-06 15:52:20,223] Trial 48 finished with value: 0.9157153627627567 and parameters: {'dropout': 0.2, 'conv_size': 5, 'lstm_hidden_neurons': 208, 'dropout_rnn': 0.6, 'Nadam_learning_rate': 0.0042407708931497855}. Best is trial 23 with value: 0.9256837858891689.\n",
      "[I 2023-11-06 16:55:25,442] Trial 49 finished with value: 0.9188484477919252 and parameters: {'dropout': 0.4, 'conv_size': 3, 'lstm_hidden_neurons': 192, 'dropout_rnn': 0.5, 'Nadam_learning_rate': 0.007178757416992511}. Best is trial 23 with value: 0.9256837858891689.\n"
     ]
    },
    {
     "name": "stdout",
     "output_type": "stream",
     "text": [
      "Number of finished trials:  50\n",
      "Best trial:\n",
      "  Value:  0.9256837858891689\n",
      "  Params: \n",
      "    dropout: 0.30000000000000004\n",
      "    conv_size: 5\n",
      "    lstm_hidden_neurons: 144\n",
      "    dropout_rnn: 0.5\n",
      "    Nadam_learning_rate: 0.006489975373979341\n"
     ]
    }
   ],
   "source": [
    "study = optuna.create_study(study_name=study_name,storage=storage_url,direction=\"maximize\", sampler=optuna.samplers.TPESampler(), pruner=optuna.pruners.HyperbandPruner())\n",
    "study.optimize(objective, n_trials=50)\n",
    "\n",
    "print(\"Number of finished trials: \", len(study.trials))\n",
    "\n",
    "print(\"Best trial:\")\n",
    "trial = study.best_trial\n",
    "\n",
    "print(\"  Value: \", trial.value)\n",
    "\n",
    "print(\"  Params: \")\n",
    "for key, value in trial.params.items():\n",
    "    print(\"    {}: {}\".format(key, value))"
   ]
  },
  {
   "cell_type": "code",
   "execution_count": 14,
   "metadata": {},
   "outputs": [],
   "source": [
    "loaded_study = optuna.load_study(storage=storage_url,study_name=study_name)"
   ]
  },
  {
   "cell_type": "markdown",
   "metadata": {},
   "source": [
    "### Hyper-Parameter Importances\n",
    "\n",
    "- Learning Rate seems to have the largest impact"
   ]
  },
  {
   "cell_type": "code",
   "execution_count": 15,
   "metadata": {},
   "outputs": [
    {
     "data": {
      "application/vnd.plotly.v1+json": {
       "config": {
        "plotlyServerURL": "https://plot.ly"
       },
       "data": [
        {
         "cliponaxis": false,
         "hovertemplate": [
          "dropout_rnn (FloatDistribution): 0.018778619363386106<extra></extra>",
          "dropout (FloatDistribution): 0.021730869603909107<extra></extra>",
          "conv_size (IntDistribution): 0.02470231178882507<extra></extra>",
          "lstm_hidden_neurons (IntDistribution): 0.06031218047349528<extra></extra>",
          "Nadam_learning_rate (FloatDistribution): 0.8744760187703843<extra></extra>"
         ],
         "name": "Objective Value",
         "orientation": "h",
         "text": [
          "0.02",
          "0.02",
          "0.02",
          "0.06",
          "0.87"
         ],
         "textposition": "outside",
         "type": "bar",
         "x": [
          0.018778619363386106,
          0.021730869603909107,
          0.02470231178882507,
          0.06031218047349528,
          0.8744760187703843
         ],
         "y": [
          "dropout_rnn",
          "dropout",
          "conv_size",
          "lstm_hidden_neurons",
          "Nadam_learning_rate"
         ]
        }
       ],
       "layout": {
        "template": {
         "data": {
          "bar": [
           {
            "error_x": {
             "color": "#2a3f5f"
            },
            "error_y": {
             "color": "#2a3f5f"
            },
            "marker": {
             "line": {
              "color": "#E5ECF6",
              "width": 0.5
             },
             "pattern": {
              "fillmode": "overlay",
              "size": 10,
              "solidity": 0.2
             }
            },
            "type": "bar"
           }
          ],
          "barpolar": [
           {
            "marker": {
             "line": {
              "color": "#E5ECF6",
              "width": 0.5
             },
             "pattern": {
              "fillmode": "overlay",
              "size": 10,
              "solidity": 0.2
             }
            },
            "type": "barpolar"
           }
          ],
          "carpet": [
           {
            "aaxis": {
             "endlinecolor": "#2a3f5f",
             "gridcolor": "white",
             "linecolor": "white",
             "minorgridcolor": "white",
             "startlinecolor": "#2a3f5f"
            },
            "baxis": {
             "endlinecolor": "#2a3f5f",
             "gridcolor": "white",
             "linecolor": "white",
             "minorgridcolor": "white",
             "startlinecolor": "#2a3f5f"
            },
            "type": "carpet"
           }
          ],
          "choropleth": [
           {
            "colorbar": {
             "outlinewidth": 0,
             "ticks": ""
            },
            "type": "choropleth"
           }
          ],
          "contour": [
           {
            "colorbar": {
             "outlinewidth": 0,
             "ticks": ""
            },
            "colorscale": [
             [
              0,
              "#0d0887"
             ],
             [
              0.1111111111111111,
              "#46039f"
             ],
             [
              0.2222222222222222,
              "#7201a8"
             ],
             [
              0.3333333333333333,
              "#9c179e"
             ],
             [
              0.4444444444444444,
              "#bd3786"
             ],
             [
              0.5555555555555556,
              "#d8576b"
             ],
             [
              0.6666666666666666,
              "#ed7953"
             ],
             [
              0.7777777777777778,
              "#fb9f3a"
             ],
             [
              0.8888888888888888,
              "#fdca26"
             ],
             [
              1,
              "#f0f921"
             ]
            ],
            "type": "contour"
           }
          ],
          "contourcarpet": [
           {
            "colorbar": {
             "outlinewidth": 0,
             "ticks": ""
            },
            "type": "contourcarpet"
           }
          ],
          "heatmap": [
           {
            "colorbar": {
             "outlinewidth": 0,
             "ticks": ""
            },
            "colorscale": [
             [
              0,
              "#0d0887"
             ],
             [
              0.1111111111111111,
              "#46039f"
             ],
             [
              0.2222222222222222,
              "#7201a8"
             ],
             [
              0.3333333333333333,
              "#9c179e"
             ],
             [
              0.4444444444444444,
              "#bd3786"
             ],
             [
              0.5555555555555556,
              "#d8576b"
             ],
             [
              0.6666666666666666,
              "#ed7953"
             ],
             [
              0.7777777777777778,
              "#fb9f3a"
             ],
             [
              0.8888888888888888,
              "#fdca26"
             ],
             [
              1,
              "#f0f921"
             ]
            ],
            "type": "heatmap"
           }
          ],
          "heatmapgl": [
           {
            "colorbar": {
             "outlinewidth": 0,
             "ticks": ""
            },
            "colorscale": [
             [
              0,
              "#0d0887"
             ],
             [
              0.1111111111111111,
              "#46039f"
             ],
             [
              0.2222222222222222,
              "#7201a8"
             ],
             [
              0.3333333333333333,
              "#9c179e"
             ],
             [
              0.4444444444444444,
              "#bd3786"
             ],
             [
              0.5555555555555556,
              "#d8576b"
             ],
             [
              0.6666666666666666,
              "#ed7953"
             ],
             [
              0.7777777777777778,
              "#fb9f3a"
             ],
             [
              0.8888888888888888,
              "#fdca26"
             ],
             [
              1,
              "#f0f921"
             ]
            ],
            "type": "heatmapgl"
           }
          ],
          "histogram": [
           {
            "marker": {
             "pattern": {
              "fillmode": "overlay",
              "size": 10,
              "solidity": 0.2
             }
            },
            "type": "histogram"
           }
          ],
          "histogram2d": [
           {
            "colorbar": {
             "outlinewidth": 0,
             "ticks": ""
            },
            "colorscale": [
             [
              0,
              "#0d0887"
             ],
             [
              0.1111111111111111,
              "#46039f"
             ],
             [
              0.2222222222222222,
              "#7201a8"
             ],
             [
              0.3333333333333333,
              "#9c179e"
             ],
             [
              0.4444444444444444,
              "#bd3786"
             ],
             [
              0.5555555555555556,
              "#d8576b"
             ],
             [
              0.6666666666666666,
              "#ed7953"
             ],
             [
              0.7777777777777778,
              "#fb9f3a"
             ],
             [
              0.8888888888888888,
              "#fdca26"
             ],
             [
              1,
              "#f0f921"
             ]
            ],
            "type": "histogram2d"
           }
          ],
          "histogram2dcontour": [
           {
            "colorbar": {
             "outlinewidth": 0,
             "ticks": ""
            },
            "colorscale": [
             [
              0,
              "#0d0887"
             ],
             [
              0.1111111111111111,
              "#46039f"
             ],
             [
              0.2222222222222222,
              "#7201a8"
             ],
             [
              0.3333333333333333,
              "#9c179e"
             ],
             [
              0.4444444444444444,
              "#bd3786"
             ],
             [
              0.5555555555555556,
              "#d8576b"
             ],
             [
              0.6666666666666666,
              "#ed7953"
             ],
             [
              0.7777777777777778,
              "#fb9f3a"
             ],
             [
              0.8888888888888888,
              "#fdca26"
             ],
             [
              1,
              "#f0f921"
             ]
            ],
            "type": "histogram2dcontour"
           }
          ],
          "mesh3d": [
           {
            "colorbar": {
             "outlinewidth": 0,
             "ticks": ""
            },
            "type": "mesh3d"
           }
          ],
          "parcoords": [
           {
            "line": {
             "colorbar": {
              "outlinewidth": 0,
              "ticks": ""
             }
            },
            "type": "parcoords"
           }
          ],
          "pie": [
           {
            "automargin": true,
            "type": "pie"
           }
          ],
          "scatter": [
           {
            "fillpattern": {
             "fillmode": "overlay",
             "size": 10,
             "solidity": 0.2
            },
            "type": "scatter"
           }
          ],
          "scatter3d": [
           {
            "line": {
             "colorbar": {
              "outlinewidth": 0,
              "ticks": ""
             }
            },
            "marker": {
             "colorbar": {
              "outlinewidth": 0,
              "ticks": ""
             }
            },
            "type": "scatter3d"
           }
          ],
          "scattercarpet": [
           {
            "marker": {
             "colorbar": {
              "outlinewidth": 0,
              "ticks": ""
             }
            },
            "type": "scattercarpet"
           }
          ],
          "scattergeo": [
           {
            "marker": {
             "colorbar": {
              "outlinewidth": 0,
              "ticks": ""
             }
            },
            "type": "scattergeo"
           }
          ],
          "scattergl": [
           {
            "marker": {
             "colorbar": {
              "outlinewidth": 0,
              "ticks": ""
             }
            },
            "type": "scattergl"
           }
          ],
          "scattermapbox": [
           {
            "marker": {
             "colorbar": {
              "outlinewidth": 0,
              "ticks": ""
             }
            },
            "type": "scattermapbox"
           }
          ],
          "scatterpolar": [
           {
            "marker": {
             "colorbar": {
              "outlinewidth": 0,
              "ticks": ""
             }
            },
            "type": "scatterpolar"
           }
          ],
          "scatterpolargl": [
           {
            "marker": {
             "colorbar": {
              "outlinewidth": 0,
              "ticks": ""
             }
            },
            "type": "scatterpolargl"
           }
          ],
          "scatterternary": [
           {
            "marker": {
             "colorbar": {
              "outlinewidth": 0,
              "ticks": ""
             }
            },
            "type": "scatterternary"
           }
          ],
          "surface": [
           {
            "colorbar": {
             "outlinewidth": 0,
             "ticks": ""
            },
            "colorscale": [
             [
              0,
              "#0d0887"
             ],
             [
              0.1111111111111111,
              "#46039f"
             ],
             [
              0.2222222222222222,
              "#7201a8"
             ],
             [
              0.3333333333333333,
              "#9c179e"
             ],
             [
              0.4444444444444444,
              "#bd3786"
             ],
             [
              0.5555555555555556,
              "#d8576b"
             ],
             [
              0.6666666666666666,
              "#ed7953"
             ],
             [
              0.7777777777777778,
              "#fb9f3a"
             ],
             [
              0.8888888888888888,
              "#fdca26"
             ],
             [
              1,
              "#f0f921"
             ]
            ],
            "type": "surface"
           }
          ],
          "table": [
           {
            "cells": {
             "fill": {
              "color": "#EBF0F8"
             },
             "line": {
              "color": "white"
             }
            },
            "header": {
             "fill": {
              "color": "#C8D4E3"
             },
             "line": {
              "color": "white"
             }
            },
            "type": "table"
           }
          ]
         },
         "layout": {
          "annotationdefaults": {
           "arrowcolor": "#2a3f5f",
           "arrowhead": 0,
           "arrowwidth": 1
          },
          "autotypenumbers": "strict",
          "coloraxis": {
           "colorbar": {
            "outlinewidth": 0,
            "ticks": ""
           }
          },
          "colorscale": {
           "diverging": [
            [
             0,
             "#8e0152"
            ],
            [
             0.1,
             "#c51b7d"
            ],
            [
             0.2,
             "#de77ae"
            ],
            [
             0.3,
             "#f1b6da"
            ],
            [
             0.4,
             "#fde0ef"
            ],
            [
             0.5,
             "#f7f7f7"
            ],
            [
             0.6,
             "#e6f5d0"
            ],
            [
             0.7,
             "#b8e186"
            ],
            [
             0.8,
             "#7fbc41"
            ],
            [
             0.9,
             "#4d9221"
            ],
            [
             1,
             "#276419"
            ]
           ],
           "sequential": [
            [
             0,
             "#0d0887"
            ],
            [
             0.1111111111111111,
             "#46039f"
            ],
            [
             0.2222222222222222,
             "#7201a8"
            ],
            [
             0.3333333333333333,
             "#9c179e"
            ],
            [
             0.4444444444444444,
             "#bd3786"
            ],
            [
             0.5555555555555556,
             "#d8576b"
            ],
            [
             0.6666666666666666,
             "#ed7953"
            ],
            [
             0.7777777777777778,
             "#fb9f3a"
            ],
            [
             0.8888888888888888,
             "#fdca26"
            ],
            [
             1,
             "#f0f921"
            ]
           ],
           "sequentialminus": [
            [
             0,
             "#0d0887"
            ],
            [
             0.1111111111111111,
             "#46039f"
            ],
            [
             0.2222222222222222,
             "#7201a8"
            ],
            [
             0.3333333333333333,
             "#9c179e"
            ],
            [
             0.4444444444444444,
             "#bd3786"
            ],
            [
             0.5555555555555556,
             "#d8576b"
            ],
            [
             0.6666666666666666,
             "#ed7953"
            ],
            [
             0.7777777777777778,
             "#fb9f3a"
            ],
            [
             0.8888888888888888,
             "#fdca26"
            ],
            [
             1,
             "#f0f921"
            ]
           ]
          },
          "colorway": [
           "#636efa",
           "#EF553B",
           "#00cc96",
           "#ab63fa",
           "#FFA15A",
           "#19d3f3",
           "#FF6692",
           "#B6E880",
           "#FF97FF",
           "#FECB52"
          ],
          "font": {
           "color": "#2a3f5f"
          },
          "geo": {
           "bgcolor": "white",
           "lakecolor": "white",
           "landcolor": "#E5ECF6",
           "showlakes": true,
           "showland": true,
           "subunitcolor": "white"
          },
          "hoverlabel": {
           "align": "left"
          },
          "hovermode": "closest",
          "mapbox": {
           "style": "light"
          },
          "paper_bgcolor": "white",
          "plot_bgcolor": "#E5ECF6",
          "polar": {
           "angularaxis": {
            "gridcolor": "white",
            "linecolor": "white",
            "ticks": ""
           },
           "bgcolor": "#E5ECF6",
           "radialaxis": {
            "gridcolor": "white",
            "linecolor": "white",
            "ticks": ""
           }
          },
          "scene": {
           "xaxis": {
            "backgroundcolor": "#E5ECF6",
            "gridcolor": "white",
            "gridwidth": 2,
            "linecolor": "white",
            "showbackground": true,
            "ticks": "",
            "zerolinecolor": "white"
           },
           "yaxis": {
            "backgroundcolor": "#E5ECF6",
            "gridcolor": "white",
            "gridwidth": 2,
            "linecolor": "white",
            "showbackground": true,
            "ticks": "",
            "zerolinecolor": "white"
           },
           "zaxis": {
            "backgroundcolor": "#E5ECF6",
            "gridcolor": "white",
            "gridwidth": 2,
            "linecolor": "white",
            "showbackground": true,
            "ticks": "",
            "zerolinecolor": "white"
           }
          },
          "shapedefaults": {
           "line": {
            "color": "#2a3f5f"
           }
          },
          "ternary": {
           "aaxis": {
            "gridcolor": "white",
            "linecolor": "white",
            "ticks": ""
           },
           "baxis": {
            "gridcolor": "white",
            "linecolor": "white",
            "ticks": ""
           },
           "bgcolor": "#E5ECF6",
           "caxis": {
            "gridcolor": "white",
            "linecolor": "white",
            "ticks": ""
           }
          },
          "title": {
           "x": 0.05
          },
          "xaxis": {
           "automargin": true,
           "gridcolor": "white",
           "linecolor": "white",
           "ticks": "",
           "title": {
            "standoff": 15
           },
           "zerolinecolor": "white",
           "zerolinewidth": 2
          },
          "yaxis": {
           "automargin": true,
           "gridcolor": "white",
           "linecolor": "white",
           "ticks": "",
           "title": {
            "standoff": 15
           },
           "zerolinecolor": "white",
           "zerolinewidth": 2
          }
         }
        },
        "title": {
         "text": "Hyperparameter Importances"
        },
        "xaxis": {
         "title": {
          "text": "Hyperparameter Importance"
         }
        },
        "yaxis": {
         "title": {
          "text": "Hyperparameter"
         }
        }
       }
      }
     },
     "metadata": {},
     "output_type": "display_data"
    }
   ],
   "source": [
    "fig = optuna.visualization.plot_param_importances(loaded_study)\n",
    "fig.show()"
   ]
  },
  {
   "cell_type": "markdown",
   "metadata": {},
   "source": [
    "- Learning Rate between 0.001 and 0.01 seems to be optimal , any values larger or smaller than that results in worse accuracy\n"
   ]
  },
  {
   "cell_type": "code",
   "execution_count": 18,
   "metadata": {},
   "outputs": [
    {
     "data": {
      "application/vnd.plotly.v1+json": {
       "config": {
        "plotlyServerURL": "https://plot.ly"
       },
       "data": [
        {
         "marker": {
          "color": [
           0,
           1,
           2,
           3,
           4,
           5,
           6,
           7,
           8,
           9,
           10,
           11,
           12,
           13,
           14,
           15,
           16,
           17,
           18,
           19,
           20,
           21,
           22,
           23,
           24,
           25,
           26,
           27,
           28,
           29,
           30,
           31,
           32,
           33,
           34,
           35,
           36,
           37,
           38,
           39,
           40,
           41,
           42,
           43,
           44,
           45,
           46,
           47,
           48,
           49
          ],
          "colorbar": {
           "title": {
            "text": "Trial"
           },
           "x": 1,
           "xpad": 40
          },
          "colorscale": [
           [
            0,
            "rgb(247,251,255)"
           ],
           [
            0.125,
            "rgb(222,235,247)"
           ],
           [
            0.25,
            "rgb(198,219,239)"
           ],
           [
            0.375,
            "rgb(158,202,225)"
           ],
           [
            0.5,
            "rgb(107,174,214)"
           ],
           [
            0.625,
            "rgb(66,146,198)"
           ],
           [
            0.75,
            "rgb(33,113,181)"
           ],
           [
            0.875,
            "rgb(8,81,156)"
           ],
           [
            1,
            "rgb(8,48,107)"
           ]
          ],
          "line": {
           "color": "Grey",
           "width": 0.5
          },
          "showscale": true
         },
         "mode": "markers",
         "name": "Feasible Trial",
         "showlegend": false,
         "type": "scatter",
         "x": [
          0.001945698397030893,
          0.008654157022684437,
          0.08796564269871396,
          0.009317855906646752,
          0.0013540465817030193,
          0.0013597214856251763,
          0.0011001610837204294,
          0.038413483771361584,
          0.051411363336739846,
          0.0018189810110010192,
          0.0038067451471712416,
          0.0030505658967877186,
          0.003483902656594632,
          0.004574602290100425,
          0.004989923265935394,
          0.016358277164616315,
          0.0046457848635556315,
          0.005327712884673379,
          0.014817708366703337,
          0.006376087299177111,
          0.008006755925044951,
          0.0027372557025270457,
          0.006084178463722258,
          0.006489975373979341,
          0.006162558227657151,
          0.011451303123277207,
          0.0065885747217932925,
          0.016065411507342066,
          0.0022792759310058487,
          0.002512313097922246,
          0.00372047455770729,
          0.003967432363684629,
          0.007139972325334626,
          0.005382643650323049,
          0.009907845024856317,
          0.0033361666048172347,
          0.004418846903942078,
          0.00773349062738113,
          0.005887839755903167,
          0.0020150520465064617,
          0.009295843550194182,
          0.0037982435314662575,
          0.0030475823335277263,
          0.003972162860065853,
          0.005078903854414511,
          0.0032516512050008374,
          0.0018483837936827251,
          0.002613683209365064,
          0.0042407708931497855,
          0.007178757416992511
         ],
         "xaxis": "x",
         "y": [
          0.9182110813007468,
          0.9159688030825571,
          0,
          0.919074617879443,
          0.9163462978476543,
          0.9168927919258169,
          0.9079827420795633,
          0.9065777438529854,
          0.8965181778227941,
          0.92149416767427,
          0.9225584413593666,
          0.9158371144187067,
          0.9202793504007066,
          0.9219874292728512,
          0.9198012831970668,
          0.9177059302279574,
          0.919016811659134,
          0.9228248147052618,
          0.9195537159147433,
          0.924534029595758,
          0.9179764035179507,
          0.9175715365928057,
          0.9217565106617484,
          0.9256837858891689,
          0.9184539110670956,
          0.916849727606732,
          0.9200431516269186,
          0.9174352339074028,
          0.9190856593324512,
          0.9188015596384046,
          0.9220527940155729,
          0.9210227404808327,
          0.9179028251595842,
          0.9215983981102579,
          0.9204231098137284,
          0.9215085287964695,
          0.9126178209745228,
          0.9173886202611656,
          0.9181222400525925,
          0.9197914219539746,
          0.9183960509311148,
          0.9063923192967278,
          0.9161638362488256,
          0.9189344275394712,
          0.921660572521774,
          0.9185345667525292,
          0.9175107712328336,
          0.9211078403331671,
          0.9157153627627567,
          0.9188484477919252
         ],
         "yaxis": "y"
        },
        {
         "marker": {
          "color": [
           0,
           1,
           2,
           3,
           4,
           5,
           6,
           7,
           8,
           9,
           10,
           11,
           12,
           13,
           14,
           15,
           16,
           17,
           18,
           19,
           20,
           21,
           22,
           23,
           24,
           25,
           26,
           27,
           28,
           29,
           30,
           31,
           32,
           33,
           34,
           35,
           36,
           37,
           38,
           39,
           40,
           41,
           42,
           43,
           44,
           45,
           46,
           47,
           48,
           49
          ],
          "colorbar": {
           "title": {
            "text": "Trial"
           },
           "x": 1,
           "xpad": 40
          },
          "colorscale": [
           [
            0,
            "rgb(247,251,255)"
           ],
           [
            0.125,
            "rgb(222,235,247)"
           ],
           [
            0.25,
            "rgb(198,219,239)"
           ],
           [
            0.375,
            "rgb(158,202,225)"
           ],
           [
            0.5,
            "rgb(107,174,214)"
           ],
           [
            0.625,
            "rgb(66,146,198)"
           ],
           [
            0.75,
            "rgb(33,113,181)"
           ],
           [
            0.875,
            "rgb(8,81,156)"
           ],
           [
            1,
            "rgb(8,48,107)"
           ]
          ],
          "line": {
           "color": "Grey",
           "width": 0.5
          },
          "showscale": false
         },
         "mode": "markers",
         "name": "Feasible Trial",
         "showlegend": false,
         "type": "scatter",
         "x": [
          0.6000000000000001,
          0.6000000000000001,
          0.5,
          0.4,
          0.7,
          0.5,
          0.2,
          0.5,
          0.30000000000000004,
          0.5,
          0.30000000000000004,
          0.30000000000000004,
          0.30000000000000004,
          0.4,
          0.2,
          0.4,
          0.4,
          0.30000000000000004,
          0.2,
          0.30000000000000004,
          0.30000000000000004,
          0.30000000000000004,
          0.2,
          0.30000000000000004,
          0.2,
          0.4,
          0.30000000000000004,
          0.30000000000000004,
          0.2,
          0.4,
          0.6000000000000001,
          0.30000000000000004,
          0.30000000000000004,
          0.30000000000000004,
          0.4,
          0.2,
          0.7,
          0.6000000000000001,
          0.4,
          0.5,
          0.30000000000000004,
          0.6000000000000001,
          0.7,
          0.6000000000000001,
          0.5,
          0.30000000000000004,
          0.30000000000000004,
          0.4,
          0.2,
          0.4
         ],
         "xaxis": "x2",
         "y": [
          0.9182110813007468,
          0.9159688030825571,
          0,
          0.919074617879443,
          0.9163462978476543,
          0.9168927919258169,
          0.9079827420795633,
          0.9065777438529854,
          0.8965181778227941,
          0.92149416767427,
          0.9225584413593666,
          0.9158371144187067,
          0.9202793504007066,
          0.9219874292728512,
          0.9198012831970668,
          0.9177059302279574,
          0.919016811659134,
          0.9228248147052618,
          0.9195537159147433,
          0.924534029595758,
          0.9179764035179507,
          0.9175715365928057,
          0.9217565106617484,
          0.9256837858891689,
          0.9184539110670956,
          0.916849727606732,
          0.9200431516269186,
          0.9174352339074028,
          0.9190856593324512,
          0.9188015596384046,
          0.9220527940155729,
          0.9210227404808327,
          0.9179028251595842,
          0.9215983981102579,
          0.9204231098137284,
          0.9215085287964695,
          0.9126178209745228,
          0.9173886202611656,
          0.9181222400525925,
          0.9197914219539746,
          0.9183960509311148,
          0.9063923192967278,
          0.9161638362488256,
          0.9189344275394712,
          0.921660572521774,
          0.9185345667525292,
          0.9175107712328336,
          0.9211078403331671,
          0.9157153627627567,
          0.9188484477919252
         ],
         "yaxis": "y2"
        },
        {
         "marker": {
          "color": [
           0,
           1,
           2,
           3,
           4,
           5,
           6,
           7,
           8,
           9,
           10,
           11,
           12,
           13,
           14,
           15,
           16,
           17,
           18,
           19,
           20,
           21,
           22,
           23,
           24,
           25,
           26,
           27,
           28,
           29,
           30,
           31,
           32,
           33,
           34,
           35,
           36,
           37,
           38,
           39,
           40,
           41,
           42,
           43,
           44,
           45,
           46,
           47,
           48,
           49
          ],
          "colorbar": {
           "title": {
            "text": "Trial"
           },
           "x": 1,
           "xpad": 40
          },
          "colorscale": [
           [
            0,
            "rgb(247,251,255)"
           ],
           [
            0.125,
            "rgb(222,235,247)"
           ],
           [
            0.25,
            "rgb(198,219,239)"
           ],
           [
            0.375,
            "rgb(158,202,225)"
           ],
           [
            0.5,
            "rgb(107,174,214)"
           ],
           [
            0.625,
            "rgb(66,146,198)"
           ],
           [
            0.75,
            "rgb(33,113,181)"
           ],
           [
            0.875,
            "rgb(8,81,156)"
           ],
           [
            1,
            "rgb(8,48,107)"
           ]
          ],
          "line": {
           "color": "Grey",
           "width": 0.5
          },
          "showscale": false
         },
         "mode": "markers",
         "name": "Feasible Trial",
         "showlegend": false,
         "type": "scatter",
         "x": [
          0.30000000000000004,
          0.2,
          0.5,
          0.6,
          0.2,
          0.1,
          0.1,
          0.2,
          0.4,
          0.30000000000000004,
          0.4,
          0.4,
          0.30000000000000004,
          0.5,
          0.6,
          0.5,
          0.5,
          0.4,
          0.4,
          0.4,
          0.30000000000000004,
          0.4,
          0.4,
          0.5,
          0.5,
          0.6,
          0.5,
          0.6,
          0.5,
          0.30000000000000004,
          0.4,
          0.4,
          0.4,
          0.30000000000000004,
          0.5,
          0.4,
          0.5,
          0.2,
          0.4,
          0.30000000000000004,
          0.5,
          0.4,
          0.4,
          0.4,
          0.30000000000000004,
          0.4,
          0.2,
          0.4,
          0.6,
          0.5
         ],
         "xaxis": "x3",
         "y": [
          0.9182110813007468,
          0.9159688030825571,
          0,
          0.919074617879443,
          0.9163462978476543,
          0.9168927919258169,
          0.9079827420795633,
          0.9065777438529854,
          0.8965181778227941,
          0.92149416767427,
          0.9225584413593666,
          0.9158371144187067,
          0.9202793504007066,
          0.9219874292728512,
          0.9198012831970668,
          0.9177059302279574,
          0.919016811659134,
          0.9228248147052618,
          0.9195537159147433,
          0.924534029595758,
          0.9179764035179507,
          0.9175715365928057,
          0.9217565106617484,
          0.9256837858891689,
          0.9184539110670956,
          0.916849727606732,
          0.9200431516269186,
          0.9174352339074028,
          0.9190856593324512,
          0.9188015596384046,
          0.9220527940155729,
          0.9210227404808327,
          0.9179028251595842,
          0.9215983981102579,
          0.9204231098137284,
          0.9215085287964695,
          0.9126178209745228,
          0.9173886202611656,
          0.9181222400525925,
          0.9197914219539746,
          0.9183960509311148,
          0.9063923192967278,
          0.9161638362488256,
          0.9189344275394712,
          0.921660572521774,
          0.9185345667525292,
          0.9175107712328336,
          0.9211078403331671,
          0.9157153627627567,
          0.9188484477919252
         ],
         "yaxis": "y3"
        },
        {
         "marker": {
          "color": [
           0,
           1,
           2,
           3,
           4,
           5,
           6,
           7,
           8,
           9,
           10,
           11,
           12,
           13,
           14,
           15,
           16,
           17,
           18,
           19,
           20,
           21,
           22,
           23,
           24,
           25,
           26,
           27,
           28,
           29,
           30,
           31,
           32,
           33,
           34,
           35,
           36,
           37,
           38,
           39,
           40,
           41,
           42,
           43,
           44,
           45,
           46,
           47,
           48,
           49
          ],
          "colorbar": {
           "title": {
            "text": "Trial"
           },
           "x": 1,
           "xpad": 40
          },
          "colorscale": [
           [
            0,
            "rgb(247,251,255)"
           ],
           [
            0.125,
            "rgb(222,235,247)"
           ],
           [
            0.25,
            "rgb(198,219,239)"
           ],
           [
            0.375,
            "rgb(158,202,225)"
           ],
           [
            0.5,
            "rgb(107,174,214)"
           ],
           [
            0.625,
            "rgb(66,146,198)"
           ],
           [
            0.75,
            "rgb(33,113,181)"
           ],
           [
            0.875,
            "rgb(8,81,156)"
           ],
           [
            1,
            "rgb(8,48,107)"
           ]
          ],
          "line": {
           "color": "Grey",
           "width": 0.5
          },
          "showscale": false
         },
         "mode": "markers",
         "name": "Feasible Trial",
         "showlegend": false,
         "type": "scatter",
         "x": [
          128,
          160,
          240,
          240,
          176,
          224,
          144,
          240,
          256,
          240,
          208,
          208,
          192,
          208,
          208,
          192,
          208,
          176,
          176,
          160,
          160,
          176,
          160,
          144,
          128,
          144,
          144,
          160,
          144,
          128,
          192,
          176,
          160,
          176,
          192,
          224,
          128,
          144,
          224,
          160,
          176,
          192,
          192,
          208,
          176,
          224,
          160,
          192,
          208,
          192
         ],
         "xaxis": "x4",
         "y": [
          0.9182110813007468,
          0.9159688030825571,
          0,
          0.919074617879443,
          0.9163462978476543,
          0.9168927919258169,
          0.9079827420795633,
          0.9065777438529854,
          0.8965181778227941,
          0.92149416767427,
          0.9225584413593666,
          0.9158371144187067,
          0.9202793504007066,
          0.9219874292728512,
          0.9198012831970668,
          0.9177059302279574,
          0.919016811659134,
          0.9228248147052618,
          0.9195537159147433,
          0.924534029595758,
          0.9179764035179507,
          0.9175715365928057,
          0.9217565106617484,
          0.9256837858891689,
          0.9184539110670956,
          0.916849727606732,
          0.9200431516269186,
          0.9174352339074028,
          0.9190856593324512,
          0.9188015596384046,
          0.9220527940155729,
          0.9210227404808327,
          0.9179028251595842,
          0.9215983981102579,
          0.9204231098137284,
          0.9215085287964695,
          0.9126178209745228,
          0.9173886202611656,
          0.9181222400525925,
          0.9197914219539746,
          0.9183960509311148,
          0.9063923192967278,
          0.9161638362488256,
          0.9189344275394712,
          0.921660572521774,
          0.9185345667525292,
          0.9175107712328336,
          0.9211078403331671,
          0.9157153627627567,
          0.9188484477919252
         ],
         "yaxis": "y4"
        }
       ],
       "layout": {
        "template": {
         "data": {
          "bar": [
           {
            "error_x": {
             "color": "#2a3f5f"
            },
            "error_y": {
             "color": "#2a3f5f"
            },
            "marker": {
             "line": {
              "color": "#E5ECF6",
              "width": 0.5
             },
             "pattern": {
              "fillmode": "overlay",
              "size": 10,
              "solidity": 0.2
             }
            },
            "type": "bar"
           }
          ],
          "barpolar": [
           {
            "marker": {
             "line": {
              "color": "#E5ECF6",
              "width": 0.5
             },
             "pattern": {
              "fillmode": "overlay",
              "size": 10,
              "solidity": 0.2
             }
            },
            "type": "barpolar"
           }
          ],
          "carpet": [
           {
            "aaxis": {
             "endlinecolor": "#2a3f5f",
             "gridcolor": "white",
             "linecolor": "white",
             "minorgridcolor": "white",
             "startlinecolor": "#2a3f5f"
            },
            "baxis": {
             "endlinecolor": "#2a3f5f",
             "gridcolor": "white",
             "linecolor": "white",
             "minorgridcolor": "white",
             "startlinecolor": "#2a3f5f"
            },
            "type": "carpet"
           }
          ],
          "choropleth": [
           {
            "colorbar": {
             "outlinewidth": 0,
             "ticks": ""
            },
            "type": "choropleth"
           }
          ],
          "contour": [
           {
            "colorbar": {
             "outlinewidth": 0,
             "ticks": ""
            },
            "colorscale": [
             [
              0,
              "#0d0887"
             ],
             [
              0.1111111111111111,
              "#46039f"
             ],
             [
              0.2222222222222222,
              "#7201a8"
             ],
             [
              0.3333333333333333,
              "#9c179e"
             ],
             [
              0.4444444444444444,
              "#bd3786"
             ],
             [
              0.5555555555555556,
              "#d8576b"
             ],
             [
              0.6666666666666666,
              "#ed7953"
             ],
             [
              0.7777777777777778,
              "#fb9f3a"
             ],
             [
              0.8888888888888888,
              "#fdca26"
             ],
             [
              1,
              "#f0f921"
             ]
            ],
            "type": "contour"
           }
          ],
          "contourcarpet": [
           {
            "colorbar": {
             "outlinewidth": 0,
             "ticks": ""
            },
            "type": "contourcarpet"
           }
          ],
          "heatmap": [
           {
            "colorbar": {
             "outlinewidth": 0,
             "ticks": ""
            },
            "colorscale": [
             [
              0,
              "#0d0887"
             ],
             [
              0.1111111111111111,
              "#46039f"
             ],
             [
              0.2222222222222222,
              "#7201a8"
             ],
             [
              0.3333333333333333,
              "#9c179e"
             ],
             [
              0.4444444444444444,
              "#bd3786"
             ],
             [
              0.5555555555555556,
              "#d8576b"
             ],
             [
              0.6666666666666666,
              "#ed7953"
             ],
             [
              0.7777777777777778,
              "#fb9f3a"
             ],
             [
              0.8888888888888888,
              "#fdca26"
             ],
             [
              1,
              "#f0f921"
             ]
            ],
            "type": "heatmap"
           }
          ],
          "heatmapgl": [
           {
            "colorbar": {
             "outlinewidth": 0,
             "ticks": ""
            },
            "colorscale": [
             [
              0,
              "#0d0887"
             ],
             [
              0.1111111111111111,
              "#46039f"
             ],
             [
              0.2222222222222222,
              "#7201a8"
             ],
             [
              0.3333333333333333,
              "#9c179e"
             ],
             [
              0.4444444444444444,
              "#bd3786"
             ],
             [
              0.5555555555555556,
              "#d8576b"
             ],
             [
              0.6666666666666666,
              "#ed7953"
             ],
             [
              0.7777777777777778,
              "#fb9f3a"
             ],
             [
              0.8888888888888888,
              "#fdca26"
             ],
             [
              1,
              "#f0f921"
             ]
            ],
            "type": "heatmapgl"
           }
          ],
          "histogram": [
           {
            "marker": {
             "pattern": {
              "fillmode": "overlay",
              "size": 10,
              "solidity": 0.2
             }
            },
            "type": "histogram"
           }
          ],
          "histogram2d": [
           {
            "colorbar": {
             "outlinewidth": 0,
             "ticks": ""
            },
            "colorscale": [
             [
              0,
              "#0d0887"
             ],
             [
              0.1111111111111111,
              "#46039f"
             ],
             [
              0.2222222222222222,
              "#7201a8"
             ],
             [
              0.3333333333333333,
              "#9c179e"
             ],
             [
              0.4444444444444444,
              "#bd3786"
             ],
             [
              0.5555555555555556,
              "#d8576b"
             ],
             [
              0.6666666666666666,
              "#ed7953"
             ],
             [
              0.7777777777777778,
              "#fb9f3a"
             ],
             [
              0.8888888888888888,
              "#fdca26"
             ],
             [
              1,
              "#f0f921"
             ]
            ],
            "type": "histogram2d"
           }
          ],
          "histogram2dcontour": [
           {
            "colorbar": {
             "outlinewidth": 0,
             "ticks": ""
            },
            "colorscale": [
             [
              0,
              "#0d0887"
             ],
             [
              0.1111111111111111,
              "#46039f"
             ],
             [
              0.2222222222222222,
              "#7201a8"
             ],
             [
              0.3333333333333333,
              "#9c179e"
             ],
             [
              0.4444444444444444,
              "#bd3786"
             ],
             [
              0.5555555555555556,
              "#d8576b"
             ],
             [
              0.6666666666666666,
              "#ed7953"
             ],
             [
              0.7777777777777778,
              "#fb9f3a"
             ],
             [
              0.8888888888888888,
              "#fdca26"
             ],
             [
              1,
              "#f0f921"
             ]
            ],
            "type": "histogram2dcontour"
           }
          ],
          "mesh3d": [
           {
            "colorbar": {
             "outlinewidth": 0,
             "ticks": ""
            },
            "type": "mesh3d"
           }
          ],
          "parcoords": [
           {
            "line": {
             "colorbar": {
              "outlinewidth": 0,
              "ticks": ""
             }
            },
            "type": "parcoords"
           }
          ],
          "pie": [
           {
            "automargin": true,
            "type": "pie"
           }
          ],
          "scatter": [
           {
            "fillpattern": {
             "fillmode": "overlay",
             "size": 10,
             "solidity": 0.2
            },
            "type": "scatter"
           }
          ],
          "scatter3d": [
           {
            "line": {
             "colorbar": {
              "outlinewidth": 0,
              "ticks": ""
             }
            },
            "marker": {
             "colorbar": {
              "outlinewidth": 0,
              "ticks": ""
             }
            },
            "type": "scatter3d"
           }
          ],
          "scattercarpet": [
           {
            "marker": {
             "colorbar": {
              "outlinewidth": 0,
              "ticks": ""
             }
            },
            "type": "scattercarpet"
           }
          ],
          "scattergeo": [
           {
            "marker": {
             "colorbar": {
              "outlinewidth": 0,
              "ticks": ""
             }
            },
            "type": "scattergeo"
           }
          ],
          "scattergl": [
           {
            "marker": {
             "colorbar": {
              "outlinewidth": 0,
              "ticks": ""
             }
            },
            "type": "scattergl"
           }
          ],
          "scattermapbox": [
           {
            "marker": {
             "colorbar": {
              "outlinewidth": 0,
              "ticks": ""
             }
            },
            "type": "scattermapbox"
           }
          ],
          "scatterpolar": [
           {
            "marker": {
             "colorbar": {
              "outlinewidth": 0,
              "ticks": ""
             }
            },
            "type": "scatterpolar"
           }
          ],
          "scatterpolargl": [
           {
            "marker": {
             "colorbar": {
              "outlinewidth": 0,
              "ticks": ""
             }
            },
            "type": "scatterpolargl"
           }
          ],
          "scatterternary": [
           {
            "marker": {
             "colorbar": {
              "outlinewidth": 0,
              "ticks": ""
             }
            },
            "type": "scatterternary"
           }
          ],
          "surface": [
           {
            "colorbar": {
             "outlinewidth": 0,
             "ticks": ""
            },
            "colorscale": [
             [
              0,
              "#0d0887"
             ],
             [
              0.1111111111111111,
              "#46039f"
             ],
             [
              0.2222222222222222,
              "#7201a8"
             ],
             [
              0.3333333333333333,
              "#9c179e"
             ],
             [
              0.4444444444444444,
              "#bd3786"
             ],
             [
              0.5555555555555556,
              "#d8576b"
             ],
             [
              0.6666666666666666,
              "#ed7953"
             ],
             [
              0.7777777777777778,
              "#fb9f3a"
             ],
             [
              0.8888888888888888,
              "#fdca26"
             ],
             [
              1,
              "#f0f921"
             ]
            ],
            "type": "surface"
           }
          ],
          "table": [
           {
            "cells": {
             "fill": {
              "color": "#EBF0F8"
             },
             "line": {
              "color": "white"
             }
            },
            "header": {
             "fill": {
              "color": "#C8D4E3"
             },
             "line": {
              "color": "white"
             }
            },
            "type": "table"
           }
          ]
         },
         "layout": {
          "annotationdefaults": {
           "arrowcolor": "#2a3f5f",
           "arrowhead": 0,
           "arrowwidth": 1
          },
          "autotypenumbers": "strict",
          "coloraxis": {
           "colorbar": {
            "outlinewidth": 0,
            "ticks": ""
           }
          },
          "colorscale": {
           "diverging": [
            [
             0,
             "#8e0152"
            ],
            [
             0.1,
             "#c51b7d"
            ],
            [
             0.2,
             "#de77ae"
            ],
            [
             0.3,
             "#f1b6da"
            ],
            [
             0.4,
             "#fde0ef"
            ],
            [
             0.5,
             "#f7f7f7"
            ],
            [
             0.6,
             "#e6f5d0"
            ],
            [
             0.7,
             "#b8e186"
            ],
            [
             0.8,
             "#7fbc41"
            ],
            [
             0.9,
             "#4d9221"
            ],
            [
             1,
             "#276419"
            ]
           ],
           "sequential": [
            [
             0,
             "#0d0887"
            ],
            [
             0.1111111111111111,
             "#46039f"
            ],
            [
             0.2222222222222222,
             "#7201a8"
            ],
            [
             0.3333333333333333,
             "#9c179e"
            ],
            [
             0.4444444444444444,
             "#bd3786"
            ],
            [
             0.5555555555555556,
             "#d8576b"
            ],
            [
             0.6666666666666666,
             "#ed7953"
            ],
            [
             0.7777777777777778,
             "#fb9f3a"
            ],
            [
             0.8888888888888888,
             "#fdca26"
            ],
            [
             1,
             "#f0f921"
            ]
           ],
           "sequentialminus": [
            [
             0,
             "#0d0887"
            ],
            [
             0.1111111111111111,
             "#46039f"
            ],
            [
             0.2222222222222222,
             "#7201a8"
            ],
            [
             0.3333333333333333,
             "#9c179e"
            ],
            [
             0.4444444444444444,
             "#bd3786"
            ],
            [
             0.5555555555555556,
             "#d8576b"
            ],
            [
             0.6666666666666666,
             "#ed7953"
            ],
            [
             0.7777777777777778,
             "#fb9f3a"
            ],
            [
             0.8888888888888888,
             "#fdca26"
            ],
            [
             1,
             "#f0f921"
            ]
           ]
          },
          "colorway": [
           "#636efa",
           "#EF553B",
           "#00cc96",
           "#ab63fa",
           "#FFA15A",
           "#19d3f3",
           "#FF6692",
           "#B6E880",
           "#FF97FF",
           "#FECB52"
          ],
          "font": {
           "color": "#2a3f5f"
          },
          "geo": {
           "bgcolor": "white",
           "lakecolor": "white",
           "landcolor": "#E5ECF6",
           "showlakes": true,
           "showland": true,
           "subunitcolor": "white"
          },
          "hoverlabel": {
           "align": "left"
          },
          "hovermode": "closest",
          "mapbox": {
           "style": "light"
          },
          "paper_bgcolor": "white",
          "plot_bgcolor": "#E5ECF6",
          "polar": {
           "angularaxis": {
            "gridcolor": "white",
            "linecolor": "white",
            "ticks": ""
           },
           "bgcolor": "#E5ECF6",
           "radialaxis": {
            "gridcolor": "white",
            "linecolor": "white",
            "ticks": ""
           }
          },
          "scene": {
           "xaxis": {
            "backgroundcolor": "#E5ECF6",
            "gridcolor": "white",
            "gridwidth": 2,
            "linecolor": "white",
            "showbackground": true,
            "ticks": "",
            "zerolinecolor": "white"
           },
           "yaxis": {
            "backgroundcolor": "#E5ECF6",
            "gridcolor": "white",
            "gridwidth": 2,
            "linecolor": "white",
            "showbackground": true,
            "ticks": "",
            "zerolinecolor": "white"
           },
           "zaxis": {
            "backgroundcolor": "#E5ECF6",
            "gridcolor": "white",
            "gridwidth": 2,
            "linecolor": "white",
            "showbackground": true,
            "ticks": "",
            "zerolinecolor": "white"
           }
          },
          "shapedefaults": {
           "line": {
            "color": "#2a3f5f"
           }
          },
          "ternary": {
           "aaxis": {
            "gridcolor": "white",
            "linecolor": "white",
            "ticks": ""
           },
           "baxis": {
            "gridcolor": "white",
            "linecolor": "white",
            "ticks": ""
           },
           "bgcolor": "#E5ECF6",
           "caxis": {
            "gridcolor": "white",
            "linecolor": "white",
            "ticks": ""
           }
          },
          "title": {
           "x": 0.05
          },
          "xaxis": {
           "automargin": true,
           "gridcolor": "white",
           "linecolor": "white",
           "ticks": "",
           "title": {
            "standoff": 15
           },
           "zerolinecolor": "white",
           "zerolinewidth": 2
          },
          "yaxis": {
           "automargin": true,
           "gridcolor": "white",
           "linecolor": "white",
           "ticks": "",
           "title": {
            "standoff": 15
           },
           "zerolinecolor": "white",
           "zerolinewidth": 2
          }
         }
        },
        "title": {
         "text": "Slice Plot"
        },
        "width": 1200,
        "xaxis": {
         "anchor": "y",
         "domain": [
          0,
          0.2125
         ],
         "title": {
          "text": "Nadam_learning_rate"
         },
         "type": "log"
        },
        "xaxis2": {
         "anchor": "y2",
         "domain": [
          0.2625,
          0.475
         ],
         "title": {
          "text": "dropout"
         }
        },
        "xaxis3": {
         "anchor": "y3",
         "domain": [
          0.525,
          0.7375
         ],
         "title": {
          "text": "dropout_rnn"
         }
        },
        "xaxis4": {
         "anchor": "y4",
         "domain": [
          0.7875,
          1
         ],
         "title": {
          "text": "lstm_hidden_neurons"
         }
        },
        "yaxis": {
         "anchor": "x",
         "domain": [
          0,
          1
         ],
         "title": {
          "text": "Objective Value"
         }
        },
        "yaxis2": {
         "anchor": "x2",
         "domain": [
          0,
          1
         ],
         "matches": "y",
         "showticklabels": false
        },
        "yaxis3": {
         "anchor": "x3",
         "domain": [
          0,
          1
         ],
         "matches": "y",
         "showticklabels": false
        },
        "yaxis4": {
         "anchor": "x4",
         "domain": [
          0,
          1
         ],
         "matches": "y",
         "showticklabels": false
        }
       }
      }
     },
     "metadata": {},
     "output_type": "display_data"
    }
   ],
   "source": [
    "fig = optuna.visualization.plot_slice(loaded_study,params=['Nadam_learning_rate','dropout','dropout_rnn','lstm_hidden_neurons'])\n",
    "fig.show()"
   ]
  },
  {
   "cell_type": "markdown",
   "metadata": {},
   "source": [
    "### Conv Size against Dropout\n",
    "    -High Convolution Size and mid-range dropout doesnt seem ideal\n"
   ]
  },
  {
   "cell_type": "code",
   "execution_count": 49,
   "metadata": {},
   "outputs": [
    {
     "data": {
      "application/vnd.plotly.v1+json": {
       "config": {
        "plotlyServerURL": "https://plot.ly"
       },
       "data": [
        {
         "colorbar": {
          "title": {
           "text": "Objective Value"
          }
         },
         "colorscale": [
          [
           0,
           "rgb(247,251,255)"
          ],
          [
           0.125,
           "rgb(222,235,247)"
          ],
          [
           0.25,
           "rgb(198,219,239)"
          ],
          [
           0.375,
           "rgb(158,202,225)"
          ],
          [
           0.5,
           "rgb(107,174,214)"
          ],
          [
           0.625,
           "rgb(66,146,198)"
          ],
          [
           0.75,
           "rgb(33,113,181)"
          ],
          [
           0.875,
           "rgb(8,81,156)"
          ],
          [
           1,
           "rgb(8,48,107)"
          ]
         ],
         "connectgaps": true,
         "contours": {
          "coloring": "heatmap"
         },
         "hoverinfo": "none",
         "line": {
          "smoothing": 1.3
         },
         "reversescale": false,
         "type": "contour",
         "x": [
          0.6,
          1,
          3,
          5,
          7,
          9,
          9.4
         ],
         "y": [
          0.17500000000000002,
          0.2,
          0.30000000000000004,
          0.4,
          0.5,
          0.6000000000000001,
          0.7,
          0.725
         ],
         "z": [
          [
           null,
           null,
           null,
           null,
           null,
           null,
           null
          ],
          [
           null,
           null,
           0.9198012831970668,
           0.9217565106617484,
           0.9195537159147433,
           0.9079827420795633,
           null
          ],
          [
           null,
           null,
           0.8965181778227941,
           0.9256837858891689,
           0.9179764035179507,
           0.9183960509311148,
           null
          ],
          [
           null,
           null,
           0.9219874292728512,
           0.9181222400525925,
           0.9204231098137284,
           null,
           null
          ],
          [
           null,
           0.92149416767427,
           0.9197914219539746,
           0.921660572521774,
           null,
           0,
           null
          ],
          [
           null,
           0.9182110813007468,
           null,
           0.9220527940155729,
           0.9173886202611656,
           0.9159688030825571,
           null
          ],
          [
           null,
           null,
           0.9126178209745228,
           0.9161638362488256,
           null,
           0.9163462978476543,
           null
          ],
          [
           null,
           null,
           null,
           null,
           null,
           null,
           null
          ]
         ]
        },
        {
         "marker": {
          "color": "black",
          "line": {
           "color": "Grey",
           "width": 2
          }
         },
         "mode": "markers",
         "showlegend": false,
         "type": "scatter",
         "x": [
          1,
          9,
          9,
          7,
          9,
          1,
          9,
          1,
          3,
          1,
          5,
          5,
          5,
          3,
          3,
          3,
          7,
          5,
          7,
          5,
          7,
          5,
          5,
          5,
          3,
          7,
          5,
          5,
          3,
          7,
          5,
          5,
          5,
          5,
          7,
          5,
          3,
          7,
          5,
          3,
          9,
          5,
          5,
          5,
          5,
          5,
          7,
          3,
          5,
          3
         ],
         "y": [
          0.6000000000000001,
          0.6000000000000001,
          0.5,
          0.4,
          0.7,
          0.5,
          0.2,
          0.5,
          0.30000000000000004,
          0.5,
          0.30000000000000004,
          0.30000000000000004,
          0.30000000000000004,
          0.4,
          0.2,
          0.4,
          0.4,
          0.30000000000000004,
          0.2,
          0.30000000000000004,
          0.30000000000000004,
          0.30000000000000004,
          0.2,
          0.30000000000000004,
          0.2,
          0.4,
          0.30000000000000004,
          0.30000000000000004,
          0.2,
          0.4,
          0.6000000000000001,
          0.30000000000000004,
          0.30000000000000004,
          0.30000000000000004,
          0.4,
          0.2,
          0.7,
          0.6000000000000001,
          0.4,
          0.5,
          0.30000000000000004,
          0.6000000000000001,
          0.7,
          0.6000000000000001,
          0.5,
          0.30000000000000004,
          0.30000000000000004,
          0.4,
          0.2,
          0.4
         ]
        }
       ],
       "layout": {
        "template": {
         "data": {
          "bar": [
           {
            "error_x": {
             "color": "#2a3f5f"
            },
            "error_y": {
             "color": "#2a3f5f"
            },
            "marker": {
             "line": {
              "color": "#E5ECF6",
              "width": 0.5
             },
             "pattern": {
              "fillmode": "overlay",
              "size": 10,
              "solidity": 0.2
             }
            },
            "type": "bar"
           }
          ],
          "barpolar": [
           {
            "marker": {
             "line": {
              "color": "#E5ECF6",
              "width": 0.5
             },
             "pattern": {
              "fillmode": "overlay",
              "size": 10,
              "solidity": 0.2
             }
            },
            "type": "barpolar"
           }
          ],
          "carpet": [
           {
            "aaxis": {
             "endlinecolor": "#2a3f5f",
             "gridcolor": "white",
             "linecolor": "white",
             "minorgridcolor": "white",
             "startlinecolor": "#2a3f5f"
            },
            "baxis": {
             "endlinecolor": "#2a3f5f",
             "gridcolor": "white",
             "linecolor": "white",
             "minorgridcolor": "white",
             "startlinecolor": "#2a3f5f"
            },
            "type": "carpet"
           }
          ],
          "choropleth": [
           {
            "colorbar": {
             "outlinewidth": 0,
             "ticks": ""
            },
            "type": "choropleth"
           }
          ],
          "contour": [
           {
            "colorbar": {
             "outlinewidth": 0,
             "ticks": ""
            },
            "colorscale": [
             [
              0,
              "#0d0887"
             ],
             [
              0.1111111111111111,
              "#46039f"
             ],
             [
              0.2222222222222222,
              "#7201a8"
             ],
             [
              0.3333333333333333,
              "#9c179e"
             ],
             [
              0.4444444444444444,
              "#bd3786"
             ],
             [
              0.5555555555555556,
              "#d8576b"
             ],
             [
              0.6666666666666666,
              "#ed7953"
             ],
             [
              0.7777777777777778,
              "#fb9f3a"
             ],
             [
              0.8888888888888888,
              "#fdca26"
             ],
             [
              1,
              "#f0f921"
             ]
            ],
            "type": "contour"
           }
          ],
          "contourcarpet": [
           {
            "colorbar": {
             "outlinewidth": 0,
             "ticks": ""
            },
            "type": "contourcarpet"
           }
          ],
          "heatmap": [
           {
            "colorbar": {
             "outlinewidth": 0,
             "ticks": ""
            },
            "colorscale": [
             [
              0,
              "#0d0887"
             ],
             [
              0.1111111111111111,
              "#46039f"
             ],
             [
              0.2222222222222222,
              "#7201a8"
             ],
             [
              0.3333333333333333,
              "#9c179e"
             ],
             [
              0.4444444444444444,
              "#bd3786"
             ],
             [
              0.5555555555555556,
              "#d8576b"
             ],
             [
              0.6666666666666666,
              "#ed7953"
             ],
             [
              0.7777777777777778,
              "#fb9f3a"
             ],
             [
              0.8888888888888888,
              "#fdca26"
             ],
             [
              1,
              "#f0f921"
             ]
            ],
            "type": "heatmap"
           }
          ],
          "heatmapgl": [
           {
            "colorbar": {
             "outlinewidth": 0,
             "ticks": ""
            },
            "colorscale": [
             [
              0,
              "#0d0887"
             ],
             [
              0.1111111111111111,
              "#46039f"
             ],
             [
              0.2222222222222222,
              "#7201a8"
             ],
             [
              0.3333333333333333,
              "#9c179e"
             ],
             [
              0.4444444444444444,
              "#bd3786"
             ],
             [
              0.5555555555555556,
              "#d8576b"
             ],
             [
              0.6666666666666666,
              "#ed7953"
             ],
             [
              0.7777777777777778,
              "#fb9f3a"
             ],
             [
              0.8888888888888888,
              "#fdca26"
             ],
             [
              1,
              "#f0f921"
             ]
            ],
            "type": "heatmapgl"
           }
          ],
          "histogram": [
           {
            "marker": {
             "pattern": {
              "fillmode": "overlay",
              "size": 10,
              "solidity": 0.2
             }
            },
            "type": "histogram"
           }
          ],
          "histogram2d": [
           {
            "colorbar": {
             "outlinewidth": 0,
             "ticks": ""
            },
            "colorscale": [
             [
              0,
              "#0d0887"
             ],
             [
              0.1111111111111111,
              "#46039f"
             ],
             [
              0.2222222222222222,
              "#7201a8"
             ],
             [
              0.3333333333333333,
              "#9c179e"
             ],
             [
              0.4444444444444444,
              "#bd3786"
             ],
             [
              0.5555555555555556,
              "#d8576b"
             ],
             [
              0.6666666666666666,
              "#ed7953"
             ],
             [
              0.7777777777777778,
              "#fb9f3a"
             ],
             [
              0.8888888888888888,
              "#fdca26"
             ],
             [
              1,
              "#f0f921"
             ]
            ],
            "type": "histogram2d"
           }
          ],
          "histogram2dcontour": [
           {
            "colorbar": {
             "outlinewidth": 0,
             "ticks": ""
            },
            "colorscale": [
             [
              0,
              "#0d0887"
             ],
             [
              0.1111111111111111,
              "#46039f"
             ],
             [
              0.2222222222222222,
              "#7201a8"
             ],
             [
              0.3333333333333333,
              "#9c179e"
             ],
             [
              0.4444444444444444,
              "#bd3786"
             ],
             [
              0.5555555555555556,
              "#d8576b"
             ],
             [
              0.6666666666666666,
              "#ed7953"
             ],
             [
              0.7777777777777778,
              "#fb9f3a"
             ],
             [
              0.8888888888888888,
              "#fdca26"
             ],
             [
              1,
              "#f0f921"
             ]
            ],
            "type": "histogram2dcontour"
           }
          ],
          "mesh3d": [
           {
            "colorbar": {
             "outlinewidth": 0,
             "ticks": ""
            },
            "type": "mesh3d"
           }
          ],
          "parcoords": [
           {
            "line": {
             "colorbar": {
              "outlinewidth": 0,
              "ticks": ""
             }
            },
            "type": "parcoords"
           }
          ],
          "pie": [
           {
            "automargin": true,
            "type": "pie"
           }
          ],
          "scatter": [
           {
            "fillpattern": {
             "fillmode": "overlay",
             "size": 10,
             "solidity": 0.2
            },
            "type": "scatter"
           }
          ],
          "scatter3d": [
           {
            "line": {
             "colorbar": {
              "outlinewidth": 0,
              "ticks": ""
             }
            },
            "marker": {
             "colorbar": {
              "outlinewidth": 0,
              "ticks": ""
             }
            },
            "type": "scatter3d"
           }
          ],
          "scattercarpet": [
           {
            "marker": {
             "colorbar": {
              "outlinewidth": 0,
              "ticks": ""
             }
            },
            "type": "scattercarpet"
           }
          ],
          "scattergeo": [
           {
            "marker": {
             "colorbar": {
              "outlinewidth": 0,
              "ticks": ""
             }
            },
            "type": "scattergeo"
           }
          ],
          "scattergl": [
           {
            "marker": {
             "colorbar": {
              "outlinewidth": 0,
              "ticks": ""
             }
            },
            "type": "scattergl"
           }
          ],
          "scattermapbox": [
           {
            "marker": {
             "colorbar": {
              "outlinewidth": 0,
              "ticks": ""
             }
            },
            "type": "scattermapbox"
           }
          ],
          "scatterpolar": [
           {
            "marker": {
             "colorbar": {
              "outlinewidth": 0,
              "ticks": ""
             }
            },
            "type": "scatterpolar"
           }
          ],
          "scatterpolargl": [
           {
            "marker": {
             "colorbar": {
              "outlinewidth": 0,
              "ticks": ""
             }
            },
            "type": "scatterpolargl"
           }
          ],
          "scatterternary": [
           {
            "marker": {
             "colorbar": {
              "outlinewidth": 0,
              "ticks": ""
             }
            },
            "type": "scatterternary"
           }
          ],
          "surface": [
           {
            "colorbar": {
             "outlinewidth": 0,
             "ticks": ""
            },
            "colorscale": [
             [
              0,
              "#0d0887"
             ],
             [
              0.1111111111111111,
              "#46039f"
             ],
             [
              0.2222222222222222,
              "#7201a8"
             ],
             [
              0.3333333333333333,
              "#9c179e"
             ],
             [
              0.4444444444444444,
              "#bd3786"
             ],
             [
              0.5555555555555556,
              "#d8576b"
             ],
             [
              0.6666666666666666,
              "#ed7953"
             ],
             [
              0.7777777777777778,
              "#fb9f3a"
             ],
             [
              0.8888888888888888,
              "#fdca26"
             ],
             [
              1,
              "#f0f921"
             ]
            ],
            "type": "surface"
           }
          ],
          "table": [
           {
            "cells": {
             "fill": {
              "color": "#EBF0F8"
             },
             "line": {
              "color": "white"
             }
            },
            "header": {
             "fill": {
              "color": "#C8D4E3"
             },
             "line": {
              "color": "white"
             }
            },
            "type": "table"
           }
          ]
         },
         "layout": {
          "annotationdefaults": {
           "arrowcolor": "#2a3f5f",
           "arrowhead": 0,
           "arrowwidth": 1
          },
          "autotypenumbers": "strict",
          "coloraxis": {
           "colorbar": {
            "outlinewidth": 0,
            "ticks": ""
           }
          },
          "colorscale": {
           "diverging": [
            [
             0,
             "#8e0152"
            ],
            [
             0.1,
             "#c51b7d"
            ],
            [
             0.2,
             "#de77ae"
            ],
            [
             0.3,
             "#f1b6da"
            ],
            [
             0.4,
             "#fde0ef"
            ],
            [
             0.5,
             "#f7f7f7"
            ],
            [
             0.6,
             "#e6f5d0"
            ],
            [
             0.7,
             "#b8e186"
            ],
            [
             0.8,
             "#7fbc41"
            ],
            [
             0.9,
             "#4d9221"
            ],
            [
             1,
             "#276419"
            ]
           ],
           "sequential": [
            [
             0,
             "#0d0887"
            ],
            [
             0.1111111111111111,
             "#46039f"
            ],
            [
             0.2222222222222222,
             "#7201a8"
            ],
            [
             0.3333333333333333,
             "#9c179e"
            ],
            [
             0.4444444444444444,
             "#bd3786"
            ],
            [
             0.5555555555555556,
             "#d8576b"
            ],
            [
             0.6666666666666666,
             "#ed7953"
            ],
            [
             0.7777777777777778,
             "#fb9f3a"
            ],
            [
             0.8888888888888888,
             "#fdca26"
            ],
            [
             1,
             "#f0f921"
            ]
           ],
           "sequentialminus": [
            [
             0,
             "#0d0887"
            ],
            [
             0.1111111111111111,
             "#46039f"
            ],
            [
             0.2222222222222222,
             "#7201a8"
            ],
            [
             0.3333333333333333,
             "#9c179e"
            ],
            [
             0.4444444444444444,
             "#bd3786"
            ],
            [
             0.5555555555555556,
             "#d8576b"
            ],
            [
             0.6666666666666666,
             "#ed7953"
            ],
            [
             0.7777777777777778,
             "#fb9f3a"
            ],
            [
             0.8888888888888888,
             "#fdca26"
            ],
            [
             1,
             "#f0f921"
            ]
           ]
          },
          "colorway": [
           "#636efa",
           "#EF553B",
           "#00cc96",
           "#ab63fa",
           "#FFA15A",
           "#19d3f3",
           "#FF6692",
           "#B6E880",
           "#FF97FF",
           "#FECB52"
          ],
          "font": {
           "color": "#2a3f5f"
          },
          "geo": {
           "bgcolor": "white",
           "lakecolor": "white",
           "landcolor": "#E5ECF6",
           "showlakes": true,
           "showland": true,
           "subunitcolor": "white"
          },
          "hoverlabel": {
           "align": "left"
          },
          "hovermode": "closest",
          "mapbox": {
           "style": "light"
          },
          "paper_bgcolor": "white",
          "plot_bgcolor": "#E5ECF6",
          "polar": {
           "angularaxis": {
            "gridcolor": "white",
            "linecolor": "white",
            "ticks": ""
           },
           "bgcolor": "#E5ECF6",
           "radialaxis": {
            "gridcolor": "white",
            "linecolor": "white",
            "ticks": ""
           }
          },
          "scene": {
           "xaxis": {
            "backgroundcolor": "#E5ECF6",
            "gridcolor": "white",
            "gridwidth": 2,
            "linecolor": "white",
            "showbackground": true,
            "ticks": "",
            "zerolinecolor": "white"
           },
           "yaxis": {
            "backgroundcolor": "#E5ECF6",
            "gridcolor": "white",
            "gridwidth": 2,
            "linecolor": "white",
            "showbackground": true,
            "ticks": "",
            "zerolinecolor": "white"
           },
           "zaxis": {
            "backgroundcolor": "#E5ECF6",
            "gridcolor": "white",
            "gridwidth": 2,
            "linecolor": "white",
            "showbackground": true,
            "ticks": "",
            "zerolinecolor": "white"
           }
          },
          "shapedefaults": {
           "line": {
            "color": "#2a3f5f"
           }
          },
          "ternary": {
           "aaxis": {
            "gridcolor": "white",
            "linecolor": "white",
            "ticks": ""
           },
           "baxis": {
            "gridcolor": "white",
            "linecolor": "white",
            "ticks": ""
           },
           "bgcolor": "#E5ECF6",
           "caxis": {
            "gridcolor": "white",
            "linecolor": "white",
            "ticks": ""
           }
          },
          "title": {
           "x": 0.05
          },
          "xaxis": {
           "automargin": true,
           "gridcolor": "white",
           "linecolor": "white",
           "ticks": "",
           "title": {
            "standoff": 15
           },
           "zerolinecolor": "white",
           "zerolinewidth": 2
          },
          "yaxis": {
           "automargin": true,
           "gridcolor": "white",
           "linecolor": "white",
           "ticks": "",
           "title": {
            "standoff": 15
           },
           "zerolinecolor": "white",
           "zerolinewidth": 2
          }
         }
        },
        "title": {
         "text": "Contour Plot"
        },
        "xaxis": {
         "range": [
          0.6,
          9.4
         ],
         "title": {
          "text": "conv_size"
         }
        },
        "yaxis": {
         "range": [
          0.17500000000000002,
          0.725
         ],
         "title": {
          "text": "dropout"
         }
        }
       }
      }
     },
     "metadata": {},
     "output_type": "display_data"
    }
   ],
   "source": [
    "fig = optuna.visualization.plot_contour(study=loaded_study,params=['conv_size','dropout'])\n",
    "fig.show()"
   ]
  },
  {
   "cell_type": "markdown",
   "metadata": {},
   "source": [
    "### lstm_hidden_neuron vs dropout_rnn\n",
    "    - Avoid setting 0.4-0.6 dropout rnn with High LSTM state size"
   ]
  },
  {
   "cell_type": "code",
   "execution_count": 50,
   "metadata": {},
   "outputs": [
    {
     "data": {
      "application/vnd.plotly.v1+json": {
       "config": {
        "plotlyServerURL": "https://plot.ly"
       },
       "data": [
        {
         "colorbar": {
          "title": {
           "text": "Objective Value"
          }
         },
         "colorscale": [
          [
           0,
           "rgb(247,251,255)"
          ],
          [
           0.125,
           "rgb(222,235,247)"
          ],
          [
           0.25,
           "rgb(198,219,239)"
          ],
          [
           0.375,
           "rgb(158,202,225)"
          ],
          [
           0.5,
           "rgb(107,174,214)"
          ],
          [
           0.625,
           "rgb(66,146,198)"
          ],
          [
           0.75,
           "rgb(33,113,181)"
          ],
          [
           0.875,
           "rgb(8,81,156)"
          ],
          [
           1,
           "rgb(8,48,107)"
          ]
         ],
         "connectgaps": true,
         "contours": {
          "coloring": "heatmap"
         },
         "hoverinfo": "none",
         "line": {
          "smoothing": 1.3
         },
         "reversescale": false,
         "type": "contour",
         "x": [
          0.07500000000000001,
          0.1,
          0.2,
          0.30000000000000004,
          0.4,
          0.5,
          0.6,
          0.625
         ],
         "y": [
          121.6,
          128,
          144,
          160,
          176,
          192,
          208,
          224,
          240,
          256,
          262.4
         ],
         "z": [
          [
           null,
           null,
           null,
           null,
           null,
           null,
           null,
           null
          ],
          [
           null,
           null,
           null,
           0.9188015596384046,
           null,
           0.9184539110670956,
           null,
           null
          ],
          [
           null,
           0.9079827420795633,
           0.9173886202611656,
           null,
           null,
           0.9256837858891689,
           0.916849727606732,
           null
          ],
          [
           null,
           null,
           0.9175107712328336,
           0.9197914219539746,
           0.924534029595758,
           null,
           0.9174352339074028,
           null
          ],
          [
           null,
           null,
           0.9163462978476543,
           0.921660572521774,
           0.9228248147052618,
           0.9183960509311148,
           null,
           null
          ],
          [
           null,
           null,
           null,
           0.9202793504007066,
           0.9220527940155729,
           0.9204231098137284,
           null,
           null
          ],
          [
           null,
           null,
           null,
           null,
           0.9225584413593666,
           0.9219874292728512,
           0.9198012831970668,
           null
          ],
          [
           null,
           0.9168927919258169,
           null,
           null,
           0.9215085287964695,
           null,
           null,
           null
          ],
          [
           null,
           null,
           0.9065777438529854,
           0.92149416767427,
           null,
           0,
           0.919074617879443,
           null
          ],
          [
           null,
           null,
           null,
           null,
           0.8965181778227941,
           null,
           null,
           null
          ],
          [
           null,
           null,
           null,
           null,
           null,
           null,
           null,
           null
          ]
         ]
        },
        {
         "marker": {
          "color": "black",
          "line": {
           "color": "Grey",
           "width": 2
          }
         },
         "mode": "markers",
         "showlegend": false,
         "type": "scatter",
         "x": [
          0.30000000000000004,
          0.2,
          0.5,
          0.6,
          0.2,
          0.1,
          0.1,
          0.2,
          0.4,
          0.30000000000000004,
          0.4,
          0.4,
          0.30000000000000004,
          0.5,
          0.6,
          0.5,
          0.5,
          0.4,
          0.4,
          0.4,
          0.30000000000000004,
          0.4,
          0.4,
          0.5,
          0.5,
          0.6,
          0.5,
          0.6,
          0.5,
          0.30000000000000004,
          0.4,
          0.4,
          0.4,
          0.30000000000000004,
          0.5,
          0.4,
          0.5,
          0.2,
          0.4,
          0.30000000000000004,
          0.5,
          0.4,
          0.4,
          0.4,
          0.30000000000000004,
          0.4,
          0.2,
          0.4,
          0.6,
          0.5
         ],
         "y": [
          128,
          160,
          240,
          240,
          176,
          224,
          144,
          240,
          256,
          240,
          208,
          208,
          192,
          208,
          208,
          192,
          208,
          176,
          176,
          160,
          160,
          176,
          160,
          144,
          128,
          144,
          144,
          160,
          144,
          128,
          192,
          176,
          160,
          176,
          192,
          224,
          128,
          144,
          224,
          160,
          176,
          192,
          192,
          208,
          176,
          224,
          160,
          192,
          208,
          192
         ]
        }
       ],
       "layout": {
        "template": {
         "data": {
          "bar": [
           {
            "error_x": {
             "color": "#2a3f5f"
            },
            "error_y": {
             "color": "#2a3f5f"
            },
            "marker": {
             "line": {
              "color": "#E5ECF6",
              "width": 0.5
             },
             "pattern": {
              "fillmode": "overlay",
              "size": 10,
              "solidity": 0.2
             }
            },
            "type": "bar"
           }
          ],
          "barpolar": [
           {
            "marker": {
             "line": {
              "color": "#E5ECF6",
              "width": 0.5
             },
             "pattern": {
              "fillmode": "overlay",
              "size": 10,
              "solidity": 0.2
             }
            },
            "type": "barpolar"
           }
          ],
          "carpet": [
           {
            "aaxis": {
             "endlinecolor": "#2a3f5f",
             "gridcolor": "white",
             "linecolor": "white",
             "minorgridcolor": "white",
             "startlinecolor": "#2a3f5f"
            },
            "baxis": {
             "endlinecolor": "#2a3f5f",
             "gridcolor": "white",
             "linecolor": "white",
             "minorgridcolor": "white",
             "startlinecolor": "#2a3f5f"
            },
            "type": "carpet"
           }
          ],
          "choropleth": [
           {
            "colorbar": {
             "outlinewidth": 0,
             "ticks": ""
            },
            "type": "choropleth"
           }
          ],
          "contour": [
           {
            "colorbar": {
             "outlinewidth": 0,
             "ticks": ""
            },
            "colorscale": [
             [
              0,
              "#0d0887"
             ],
             [
              0.1111111111111111,
              "#46039f"
             ],
             [
              0.2222222222222222,
              "#7201a8"
             ],
             [
              0.3333333333333333,
              "#9c179e"
             ],
             [
              0.4444444444444444,
              "#bd3786"
             ],
             [
              0.5555555555555556,
              "#d8576b"
             ],
             [
              0.6666666666666666,
              "#ed7953"
             ],
             [
              0.7777777777777778,
              "#fb9f3a"
             ],
             [
              0.8888888888888888,
              "#fdca26"
             ],
             [
              1,
              "#f0f921"
             ]
            ],
            "type": "contour"
           }
          ],
          "contourcarpet": [
           {
            "colorbar": {
             "outlinewidth": 0,
             "ticks": ""
            },
            "type": "contourcarpet"
           }
          ],
          "heatmap": [
           {
            "colorbar": {
             "outlinewidth": 0,
             "ticks": ""
            },
            "colorscale": [
             [
              0,
              "#0d0887"
             ],
             [
              0.1111111111111111,
              "#46039f"
             ],
             [
              0.2222222222222222,
              "#7201a8"
             ],
             [
              0.3333333333333333,
              "#9c179e"
             ],
             [
              0.4444444444444444,
              "#bd3786"
             ],
             [
              0.5555555555555556,
              "#d8576b"
             ],
             [
              0.6666666666666666,
              "#ed7953"
             ],
             [
              0.7777777777777778,
              "#fb9f3a"
             ],
             [
              0.8888888888888888,
              "#fdca26"
             ],
             [
              1,
              "#f0f921"
             ]
            ],
            "type": "heatmap"
           }
          ],
          "heatmapgl": [
           {
            "colorbar": {
             "outlinewidth": 0,
             "ticks": ""
            },
            "colorscale": [
             [
              0,
              "#0d0887"
             ],
             [
              0.1111111111111111,
              "#46039f"
             ],
             [
              0.2222222222222222,
              "#7201a8"
             ],
             [
              0.3333333333333333,
              "#9c179e"
             ],
             [
              0.4444444444444444,
              "#bd3786"
             ],
             [
              0.5555555555555556,
              "#d8576b"
             ],
             [
              0.6666666666666666,
              "#ed7953"
             ],
             [
              0.7777777777777778,
              "#fb9f3a"
             ],
             [
              0.8888888888888888,
              "#fdca26"
             ],
             [
              1,
              "#f0f921"
             ]
            ],
            "type": "heatmapgl"
           }
          ],
          "histogram": [
           {
            "marker": {
             "pattern": {
              "fillmode": "overlay",
              "size": 10,
              "solidity": 0.2
             }
            },
            "type": "histogram"
           }
          ],
          "histogram2d": [
           {
            "colorbar": {
             "outlinewidth": 0,
             "ticks": ""
            },
            "colorscale": [
             [
              0,
              "#0d0887"
             ],
             [
              0.1111111111111111,
              "#46039f"
             ],
             [
              0.2222222222222222,
              "#7201a8"
             ],
             [
              0.3333333333333333,
              "#9c179e"
             ],
             [
              0.4444444444444444,
              "#bd3786"
             ],
             [
              0.5555555555555556,
              "#d8576b"
             ],
             [
              0.6666666666666666,
              "#ed7953"
             ],
             [
              0.7777777777777778,
              "#fb9f3a"
             ],
             [
              0.8888888888888888,
              "#fdca26"
             ],
             [
              1,
              "#f0f921"
             ]
            ],
            "type": "histogram2d"
           }
          ],
          "histogram2dcontour": [
           {
            "colorbar": {
             "outlinewidth": 0,
             "ticks": ""
            },
            "colorscale": [
             [
              0,
              "#0d0887"
             ],
             [
              0.1111111111111111,
              "#46039f"
             ],
             [
              0.2222222222222222,
              "#7201a8"
             ],
             [
              0.3333333333333333,
              "#9c179e"
             ],
             [
              0.4444444444444444,
              "#bd3786"
             ],
             [
              0.5555555555555556,
              "#d8576b"
             ],
             [
              0.6666666666666666,
              "#ed7953"
             ],
             [
              0.7777777777777778,
              "#fb9f3a"
             ],
             [
              0.8888888888888888,
              "#fdca26"
             ],
             [
              1,
              "#f0f921"
             ]
            ],
            "type": "histogram2dcontour"
           }
          ],
          "mesh3d": [
           {
            "colorbar": {
             "outlinewidth": 0,
             "ticks": ""
            },
            "type": "mesh3d"
           }
          ],
          "parcoords": [
           {
            "line": {
             "colorbar": {
              "outlinewidth": 0,
              "ticks": ""
             }
            },
            "type": "parcoords"
           }
          ],
          "pie": [
           {
            "automargin": true,
            "type": "pie"
           }
          ],
          "scatter": [
           {
            "fillpattern": {
             "fillmode": "overlay",
             "size": 10,
             "solidity": 0.2
            },
            "type": "scatter"
           }
          ],
          "scatter3d": [
           {
            "line": {
             "colorbar": {
              "outlinewidth": 0,
              "ticks": ""
             }
            },
            "marker": {
             "colorbar": {
              "outlinewidth": 0,
              "ticks": ""
             }
            },
            "type": "scatter3d"
           }
          ],
          "scattercarpet": [
           {
            "marker": {
             "colorbar": {
              "outlinewidth": 0,
              "ticks": ""
             }
            },
            "type": "scattercarpet"
           }
          ],
          "scattergeo": [
           {
            "marker": {
             "colorbar": {
              "outlinewidth": 0,
              "ticks": ""
             }
            },
            "type": "scattergeo"
           }
          ],
          "scattergl": [
           {
            "marker": {
             "colorbar": {
              "outlinewidth": 0,
              "ticks": ""
             }
            },
            "type": "scattergl"
           }
          ],
          "scattermapbox": [
           {
            "marker": {
             "colorbar": {
              "outlinewidth": 0,
              "ticks": ""
             }
            },
            "type": "scattermapbox"
           }
          ],
          "scatterpolar": [
           {
            "marker": {
             "colorbar": {
              "outlinewidth": 0,
              "ticks": ""
             }
            },
            "type": "scatterpolar"
           }
          ],
          "scatterpolargl": [
           {
            "marker": {
             "colorbar": {
              "outlinewidth": 0,
              "ticks": ""
             }
            },
            "type": "scatterpolargl"
           }
          ],
          "scatterternary": [
           {
            "marker": {
             "colorbar": {
              "outlinewidth": 0,
              "ticks": ""
             }
            },
            "type": "scatterternary"
           }
          ],
          "surface": [
           {
            "colorbar": {
             "outlinewidth": 0,
             "ticks": ""
            },
            "colorscale": [
             [
              0,
              "#0d0887"
             ],
             [
              0.1111111111111111,
              "#46039f"
             ],
             [
              0.2222222222222222,
              "#7201a8"
             ],
             [
              0.3333333333333333,
              "#9c179e"
             ],
             [
              0.4444444444444444,
              "#bd3786"
             ],
             [
              0.5555555555555556,
              "#d8576b"
             ],
             [
              0.6666666666666666,
              "#ed7953"
             ],
             [
              0.7777777777777778,
              "#fb9f3a"
             ],
             [
              0.8888888888888888,
              "#fdca26"
             ],
             [
              1,
              "#f0f921"
             ]
            ],
            "type": "surface"
           }
          ],
          "table": [
           {
            "cells": {
             "fill": {
              "color": "#EBF0F8"
             },
             "line": {
              "color": "white"
             }
            },
            "header": {
             "fill": {
              "color": "#C8D4E3"
             },
             "line": {
              "color": "white"
             }
            },
            "type": "table"
           }
          ]
         },
         "layout": {
          "annotationdefaults": {
           "arrowcolor": "#2a3f5f",
           "arrowhead": 0,
           "arrowwidth": 1
          },
          "autotypenumbers": "strict",
          "coloraxis": {
           "colorbar": {
            "outlinewidth": 0,
            "ticks": ""
           }
          },
          "colorscale": {
           "diverging": [
            [
             0,
             "#8e0152"
            ],
            [
             0.1,
             "#c51b7d"
            ],
            [
             0.2,
             "#de77ae"
            ],
            [
             0.3,
             "#f1b6da"
            ],
            [
             0.4,
             "#fde0ef"
            ],
            [
             0.5,
             "#f7f7f7"
            ],
            [
             0.6,
             "#e6f5d0"
            ],
            [
             0.7,
             "#b8e186"
            ],
            [
             0.8,
             "#7fbc41"
            ],
            [
             0.9,
             "#4d9221"
            ],
            [
             1,
             "#276419"
            ]
           ],
           "sequential": [
            [
             0,
             "#0d0887"
            ],
            [
             0.1111111111111111,
             "#46039f"
            ],
            [
             0.2222222222222222,
             "#7201a8"
            ],
            [
             0.3333333333333333,
             "#9c179e"
            ],
            [
             0.4444444444444444,
             "#bd3786"
            ],
            [
             0.5555555555555556,
             "#d8576b"
            ],
            [
             0.6666666666666666,
             "#ed7953"
            ],
            [
             0.7777777777777778,
             "#fb9f3a"
            ],
            [
             0.8888888888888888,
             "#fdca26"
            ],
            [
             1,
             "#f0f921"
            ]
           ],
           "sequentialminus": [
            [
             0,
             "#0d0887"
            ],
            [
             0.1111111111111111,
             "#46039f"
            ],
            [
             0.2222222222222222,
             "#7201a8"
            ],
            [
             0.3333333333333333,
             "#9c179e"
            ],
            [
             0.4444444444444444,
             "#bd3786"
            ],
            [
             0.5555555555555556,
             "#d8576b"
            ],
            [
             0.6666666666666666,
             "#ed7953"
            ],
            [
             0.7777777777777778,
             "#fb9f3a"
            ],
            [
             0.8888888888888888,
             "#fdca26"
            ],
            [
             1,
             "#f0f921"
            ]
           ]
          },
          "colorway": [
           "#636efa",
           "#EF553B",
           "#00cc96",
           "#ab63fa",
           "#FFA15A",
           "#19d3f3",
           "#FF6692",
           "#B6E880",
           "#FF97FF",
           "#FECB52"
          ],
          "font": {
           "color": "#2a3f5f"
          },
          "geo": {
           "bgcolor": "white",
           "lakecolor": "white",
           "landcolor": "#E5ECF6",
           "showlakes": true,
           "showland": true,
           "subunitcolor": "white"
          },
          "hoverlabel": {
           "align": "left"
          },
          "hovermode": "closest",
          "mapbox": {
           "style": "light"
          },
          "paper_bgcolor": "white",
          "plot_bgcolor": "#E5ECF6",
          "polar": {
           "angularaxis": {
            "gridcolor": "white",
            "linecolor": "white",
            "ticks": ""
           },
           "bgcolor": "#E5ECF6",
           "radialaxis": {
            "gridcolor": "white",
            "linecolor": "white",
            "ticks": ""
           }
          },
          "scene": {
           "xaxis": {
            "backgroundcolor": "#E5ECF6",
            "gridcolor": "white",
            "gridwidth": 2,
            "linecolor": "white",
            "showbackground": true,
            "ticks": "",
            "zerolinecolor": "white"
           },
           "yaxis": {
            "backgroundcolor": "#E5ECF6",
            "gridcolor": "white",
            "gridwidth": 2,
            "linecolor": "white",
            "showbackground": true,
            "ticks": "",
            "zerolinecolor": "white"
           },
           "zaxis": {
            "backgroundcolor": "#E5ECF6",
            "gridcolor": "white",
            "gridwidth": 2,
            "linecolor": "white",
            "showbackground": true,
            "ticks": "",
            "zerolinecolor": "white"
           }
          },
          "shapedefaults": {
           "line": {
            "color": "#2a3f5f"
           }
          },
          "ternary": {
           "aaxis": {
            "gridcolor": "white",
            "linecolor": "white",
            "ticks": ""
           },
           "baxis": {
            "gridcolor": "white",
            "linecolor": "white",
            "ticks": ""
           },
           "bgcolor": "#E5ECF6",
           "caxis": {
            "gridcolor": "white",
            "linecolor": "white",
            "ticks": ""
           }
          },
          "title": {
           "x": 0.05
          },
          "xaxis": {
           "automargin": true,
           "gridcolor": "white",
           "linecolor": "white",
           "ticks": "",
           "title": {
            "standoff": 15
           },
           "zerolinecolor": "white",
           "zerolinewidth": 2
          },
          "yaxis": {
           "automargin": true,
           "gridcolor": "white",
           "linecolor": "white",
           "ticks": "",
           "title": {
            "standoff": 15
           },
           "zerolinecolor": "white",
           "zerolinewidth": 2
          }
         }
        },
        "title": {
         "text": "Contour Plot"
        },
        "xaxis": {
         "range": [
          0.07500000000000001,
          0.625
         ],
         "title": {
          "text": "dropout_rnn"
         }
        },
        "yaxis": {
         "range": [
          121.6,
          262.4
         ],
         "title": {
          "text": "lstm_hidden_neurons"
         }
        }
       }
      }
     },
     "metadata": {},
     "output_type": "display_data"
    }
   ],
   "source": [
    "fig = optuna.visualization.plot_contour(study=loaded_study,params=['lstm_hidden_neurons','dropout_rnn'])\n",
    "fig.show()"
   ]
  },
  {
   "cell_type": "markdown",
   "metadata": {},
   "source": [
    "### Training Best Model\n",
    "\n",
    "- Based on the above findings, fine tune the model further"
   ]
  },
  {
   "cell_type": "code",
   "execution_count": 6,
   "metadata": {},
   "outputs": [],
   "source": [
    "\"\"\"Set parameters based on tuning results above\"\"\"\n",
    "\n",
    "EPOCHS = 100               \n",
    "DROPOUT = 0.4            \n",
    "DROPOUT_RECURRENT = 0.6  \n",
    "LSTM_STATE_SIZE = 144     \n",
    "CONV_SIZE = 5             \n",
    "LEARNING_RATE = 0.003    \n",
    "OPTIMIZER = Nadam(learning_rate=LEARNING_RATE)\n",
    "BATCH_SIZE = 64\n",
    "early_stopper = EarlyStopper(patience=10)"
   ]
  },
  {
   "cell_type": "code",
   "execution_count": 7,
   "metadata": {
    "scrolled": true
   },
   "outputs": [
    {
     "name": "stdout",
     "output_type": "stream",
     "text": [
      "You must install pydot (`pip install pydot`) and install graphviz (see instructions at https://graphviz.gitlab.io/download/) for plot_model to work.\n",
      "Model built. Saved model.png\n",
      "\n",
      "Epoch 0/100\n"
     ]
    }
   ],
   "source": [
    "\"\"\"Construct and run model\"\"\"\n",
    "cnn_blstm = CNN_BLSTM(EPOCHS, DROPOUT, DROPOUT_RECURRENT, LSTM_STATE_SIZE, CONV_SIZE, LEARNING_RATE, OPTIMIZER,BATCH_SIZE)\n",
    "cnn_blstm.buildModel(wordEmbeddings,caseEmbeddings,char2Idx,label2Idx)\n",
    "cnn_blstm.train(train_set,dev_set,early_stopper)"
   ]
  },
  {
   "cell_type": "markdown",
   "metadata": {},
   "source": [
    "# Plot F1 Dev Against Epoch\n",
    "\n",
    "- Early Stopping at epoch"
   ]
  },
  {
   "cell_type": "code",
   "execution_count": null,
   "metadata": {},
   "outputs": [],
   "source": [
    "import matplotlib.pyplot as plt"
   ]
  },
  {
   "cell_type": "code",
   "execution_count": null,
   "metadata": {},
   "outputs": [
    {
     "data": {
      "image/png": "[encoded data removed]",
      "text/plain": [
       "<Figure size 640x480 with 1 Axes>"
      ]
     },
     "metadata": {},
     "output_type": "display_data"
    }
   ],
   "source": [
    "plt.plot(cnn_blstm.f1_devs, label = \"F1 dev\")\n",
    "plt.xlabel(\"Epochs\")\n",
    "plt.ylabel(\"F1 score\")\n",
    "plt.legend()\n",
    "plt.show()"
   ]
  },
  {
   "cell_type": "code",
   "execution_count": null,
   "metadata": {},
   "outputs": [
    {
     "data": {
      "text/plain": [
       "0.8829302488608483"
      ]
     },
     "execution_count": 8,
     "metadata": {},
     "output_type": "execute_result"
    }
   ],
   "source": [
    "def index_to_tag(index):\n",
    "    return idx2Label[index]\n",
    "\n",
    "# predict on entire test set\n",
    "for batch_gen in batchGenerator(test_set,batch_size=3453):\n",
    "    words,cases,chars,labels = batch_gen\n",
    "    preds = cnn_blstm.model.predict_on_batch([words,cases,chars])\n",
    "    preds = preds.argmax(axis=-1)\n",
    "\n",
    "    # Convert class labels back to tag label to use seqeval f1_score\n",
    "    idx2label_vec = np.vectorize(index_to_tag)\n",
    "    preds = idx2label_vec(preds).tolist()\n",
    "    labels = idx2label_vec(labels).tolist()\n",
    "\n",
    "    # Ignore padded_tokens during evaluation of f1_score\n",
    "    non_padded_preds = []\n",
    "    non_padded_labels = []\n",
    "    for idx_1,sentence in enumerate(labels):\n",
    "        # padding token corresponds to class 0\n",
    "        non_padded_pred = []\n",
    "        non_padded_label = []\n",
    "        for idx_2,token in  enumerate(sentence):\n",
    "            if token!=\"PADDING_TOKEN\" and preds[idx_1][idx_2]!='PADDING_TOKEN':\n",
    "                non_padded_pred.append(preds[idx_1][idx_2])\n",
    "                non_padded_label.append(labels[idx_1][idx_2])\n",
    "        non_padded_preds.append(non_padded_pred)\n",
    "        non_padded_labels.append(non_padded_label)\n",
    "\n",
    "# Calculate using seqeval f1_score\n",
    "f1_score(non_padded_labels,non_padded_preds,scheme=IOB1)\n"
   ]
  },
  {
   "cell_type": "code",
   "execution_count": null,
   "metadata": {},
   "outputs": [],
   "source": [
    "print(f\"Test F1 Score: {f1_score(non_padded_labels,non_padded_preds,scheme=IOB1)}\")"
   ]
  },
  {
   "cell_type": "code",
   "execution_count": null,
   "metadata": {},
   "outputs": [],
   "source": []
  }
 ],
 "metadata": {
  "kernelspec": {
   "display_name": "Python 3",
   "language": "python",
   "name": "python3"
  },
  "language_info": {
   "codemirror_mode": {
    "name": "ipython",
    "version": 3
   },
   "file_extension": ".py",
   "mimetype": "text/x-python",
   "name": "python",
   "nbconvert_exporter": "python",
   "pygments_lexer": "ipython3",
   "version": "3.10.13"
  }
 },
 "nbformat": 4,
 "nbformat_minor": 2
}
